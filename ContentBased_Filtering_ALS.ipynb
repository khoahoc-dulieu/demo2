{
 "cells": [
  {
   "cell_type": "code",
   "execution_count": 1,
   "metadata": {
    "executionInfo": {
     "elapsed": 390,
     "status": "ok",
     "timestamp": 1656660556452,
     "user": {
      "displayName": "Tra Nguyen",
      "userId": "16128892209222776608"
     },
     "user_tz": -420
    },
    "id": "3kfvAkjrlVRf"
   },
   "outputs": [],
   "source": [
    "import findspark\n",
    "findspark.init()\n",
    "from pyspark.sql import SparkSession\n",
    "import pyspark\n",
    "import pandas"
   ]
  },
  {
   "cell_type": "code",
   "execution_count": 2,
   "metadata": {},
   "outputs": [],
   "source": [
    "spark = SparkSession.builder.appName('ALS').getOrCreate()"
   ]
  },
  {
   "cell_type": "code",
   "execution_count": 3,
   "metadata": {
    "executionInfo": {
     "elapsed": 384,
     "status": "ok",
     "timestamp": 1656660557949,
     "user": {
      "displayName": "Tra Nguyen",
      "userId": "16128892209222776608"
     },
     "user_tz": -420
    },
    "id": "cx006yQ6pZhw"
   },
   "outputs": [],
   "source": [
    "from pyspark.sql import SparkSession\n",
    "from pyspark import SparkContext\n",
    "from pyspark.sql import SQLContext\n",
    "from pyspark.ml.evaluation import RegressionEvaluator\n",
    "from pyspark.ml.recommendation import ALS\n",
    "from pyspark.sql.functions import col, explode"
   ]
  },
  {
   "cell_type": "code",
   "execution_count": 4,
   "metadata": {
    "executionInfo": {
     "elapsed": 11421,
     "status": "ok",
     "timestamp": 1656660576959,
     "user": {
      "displayName": "Tra Nguyen",
      "userId": "16128892209222776608"
     },
     "user_tz": -420
    },
    "id": "SEiruLVFQDro"
   },
   "outputs": [],
   "source": [
    "data = spark.read.csv('Review_clean.csv',header=True,inferSchema=True)"
   ]
  },
  {
   "cell_type": "code",
   "execution_count": 5,
   "metadata": {
    "colab": {
     "base_uri": "https://localhost:8080/"
    },
    "executionInfo": {
     "elapsed": 943,
     "status": "ok",
     "timestamp": 1656660583858,
     "user": {
      "displayName": "Tra Nguyen",
      "userId": "16128892209222776608"
     },
     "user_tz": -420
    },
    "id": "RmFcpTdxQDpW",
    "outputId": "bd83becf-55b8-490f-859a-2412dcf4beb0"
   },
   "outputs": [
    {
     "name": "stdout",
     "output_type": "stream",
     "text": [
      "+-----------+----------+-----------------+------+------------------+--------------------+--------------------+\n",
      "|customer_id|product_id|             name|rating|             title|             content|  review_information|\n",
      "+-----------+----------+-----------------+------+------------------+--------------------+--------------------+\n",
      "|     709310|  10001012| Lân Nguyễn Hoàng|     3|Ko dùng đc thẻ nhớ|Lúcđầu quên thông...|không thẻ_nhớ lúc...|\n",
      "|   10701688|  10001012| Nguyễn Khánh Hòa|     5|   Cực kì hài lòng|Tiki giao hàng nh...|cực_kì hài_lòng h...|\n",
      "|   11763074|  10001012|  Toàn Phạm Khánh|     5|   Cực kì hài lòng|chất lượng camera...|cực_kì hài_lòng c...|\n",
      "|    9909549|  10001012|Nguyen Quang Minh|     5|      Rất hài lòng|Hàng được đóng gó...|hài_lòng hàng đón...|\n",
      "|    1827148|  10001012|      Phạm Bá Đức|     5|   Cực kì hài lòng|dễ cài đặt, chất ...|cực_kì hài_lòng c...|\n",
      "+-----------+----------+-----------------+------+------------------+--------------------+--------------------+\n",
      "only showing top 5 rows\n",
      "\n"
     ]
    }
   ],
   "source": [
    "data.show(5, truncate=True)"
   ]
  },
  {
   "cell_type": "code",
   "execution_count": 6,
   "metadata": {
    "executionInfo": {
     "elapsed": 3,
     "status": "ok",
     "timestamp": 1656660594200,
     "user": {
      "displayName": "Tra Nguyen",
      "userId": "16128892209222776608"
     },
     "user_tz": -420
    },
    "id": "a9Ld3y1AQDm4"
   },
   "outputs": [],
   "source": [
    "data_sub = data.select(['product_id','rating','customer_id'])"
   ]
  },
  {
   "cell_type": "code",
   "execution_count": 7,
   "metadata": {
    "colab": {
     "base_uri": "https://localhost:8080/"
    },
    "executionInfo": {
     "elapsed": 366,
     "status": "ok",
     "timestamp": 1656660603000,
     "user": {
      "displayName": "Tra Nguyen",
      "userId": "16128892209222776608"
     },
     "user_tz": -420
    },
    "id": "RGnOrDdmQDhV",
    "outputId": "608ac576-49e0-453c-ce72-338d7ca77163"
   },
   "outputs": [
    {
     "name": "stdout",
     "output_type": "stream",
     "text": [
      "root\n",
      " |-- product_id: string (nullable = true)\n",
      " |-- rating: string (nullable = true)\n",
      " |-- customer_id: string (nullable = true)\n",
      "\n"
     ]
    }
   ],
   "source": [
    "data_sub.printSchema()"
   ]
  },
  {
   "cell_type": "code",
   "execution_count": 8,
   "metadata": {
    "executionInfo": {
     "elapsed": 3,
     "status": "ok",
     "timestamp": 1656660609017,
     "user": {
      "displayName": "Tra Nguyen",
      "userId": "16128892209222776608"
     },
     "user_tz": -420
    },
    "id": "o6p-BoKdqqsU"
   },
   "outputs": [],
   "source": [
    "from pyspark.sql.types import DoubleType, IntegerType\n",
    "from pyspark.sql.functions import isnan, when, count, col, udf"
   ]
  },
  {
   "cell_type": "code",
   "execution_count": 9,
   "metadata": {
    "executionInfo": {
     "elapsed": 389,
     "status": "ok",
     "timestamp": 1656660628834,
     "user": {
      "displayName": "Tra Nguyen",
      "userId": "16128892209222776608"
     },
     "user_tz": -420
    },
    "id": "mRtepff3qsKW"
   },
   "outputs": [],
   "source": [
    "data_sub = data_sub.withColumn('rating', data_sub[\"rating\"].cast(DoubleType()))\n",
    "data_sub = data_sub.withColumn('customer_id', data_sub[\"customer_id\"].cast(IntegerType()))\n",
    "data_sub = data_sub.withColumn('product_id', data_sub[\"product_id\"].cast(IntegerType()))"
   ]
  },
  {
   "cell_type": "code",
   "execution_count": 10,
   "metadata": {
    "colab": {
     "base_uri": "https://localhost:8080/",
     "height": 143
    },
    "executionInfo": {
     "elapsed": 4217,
     "status": "ok",
     "timestamp": 1656660649420,
     "user": {
      "displayName": "Tra Nguyen",
      "userId": "16128892209222776608"
     },
     "user_tz": -420
    },
    "id": "eLp_bVmSqw_w",
    "outputId": "921e4d28-af2a-4e4d-d51d-9b56c84055cb"
   },
   "outputs": [
    {
     "data": {
      "text/html": [
       "<div>\n",
       "<style scoped>\n",
       "    .dataframe tbody tr th:only-of-type {\n",
       "        vertical-align: middle;\n",
       "    }\n",
       "\n",
       "    .dataframe tbody tr th {\n",
       "        vertical-align: top;\n",
       "    }\n",
       "\n",
       "    .dataframe thead th {\n",
       "        text-align: right;\n",
       "    }\n",
       "</style>\n",
       "<table border=\"1\" class=\"dataframe\">\n",
       "  <thead>\n",
       "    <tr style=\"text-align: right;\">\n",
       "      <th></th>\n",
       "      <th>0</th>\n",
       "    </tr>\n",
       "  </thead>\n",
       "  <tbody>\n",
       "    <tr>\n",
       "      <th>product_id</th>\n",
       "      <td>1656</td>\n",
       "    </tr>\n",
       "    <tr>\n",
       "      <th>rating</th>\n",
       "      <td>1718</td>\n",
       "    </tr>\n",
       "    <tr>\n",
       "      <th>customer_id</th>\n",
       "      <td>1687</td>\n",
       "    </tr>\n",
       "  </tbody>\n",
       "</table>\n",
       "</div>"
      ],
      "text/plain": [
       "                0\n",
       "product_id   1656\n",
       "rating       1718\n",
       "customer_id  1687"
      ]
     },
     "execution_count": 10,
     "metadata": {},
     "output_type": "execute_result"
    }
   ],
   "source": [
    "data_sub.select([count(when(col(c).isNull(), c)).alias(c) for c in data_sub.columns]).toPandas().T"
   ]
  },
  {
   "cell_type": "code",
   "execution_count": 11,
   "metadata": {
    "executionInfo": {
     "elapsed": 400,
     "status": "ok",
     "timestamp": 1656660676899,
     "user": {
      "displayName": "Tra Nguyen",
      "userId": "16128892209222776608"
     },
     "user_tz": -420
    },
    "id": "JWlODEpjq1J_"
   },
   "outputs": [],
   "source": [
    "data_sub = data_sub.na.drop(how='any')"
   ]
  },
  {
   "cell_type": "code",
   "execution_count": 12,
   "metadata": {
    "colab": {
     "base_uri": "https://localhost:8080/"
    },
    "executionInfo": {
     "elapsed": 2668,
     "status": "ok",
     "timestamp": 1656660690864,
     "user": {
      "displayName": "Tra Nguyen",
      "userId": "16128892209222776608"
     },
     "user_tz": -420
    },
    "id": "pRa-13Q6q8vc",
    "outputId": "6c08236d-99c9-4dc7-bee6-b5c6e51cc74c"
   },
   "outputs": [
    {
     "data": {
      "text/plain": [
       "361720"
      ]
     },
     "execution_count": 12,
     "metadata": {},
     "output_type": "execute_result"
    }
   ],
   "source": [
    "data_sub.count()"
   ]
  },
  {
   "cell_type": "code",
   "execution_count": 13,
   "metadata": {
    "executionInfo": {
     "elapsed": 7183,
     "status": "ok",
     "timestamp": 1656660748878,
     "user": {
      "displayName": "Tra Nguyen",
      "userId": "16128892209222776608"
     },
     "user_tz": -420
    },
    "id": "42hdlRgEq_k5"
   },
   "outputs": [],
   "source": [
    "# Distinct users and products\n",
    "users = data_sub.select(\"customer_id\").distinct().count()\n",
    "products = data_sub.select(\"product_id\").distinct().count()\n",
    "numerator = data_sub.count()"
   ]
  },
  {
   "cell_type": "code",
   "execution_count": 14,
   "metadata": {
    "colab": {
     "base_uri": "https://localhost:8080/",
     "height": 71
    },
    "executionInfo": {
     "elapsed": 17,
     "status": "ok",
     "timestamp": 1656660748878,
     "user": {
      "displayName": "Tra Nguyen",
      "userId": "16128892209222776608"
     },
     "user_tz": -420
    },
    "id": "T57IwFsDrMli",
    "outputId": "15533d69-d166-49eb-f680-0cc278dafe31"
   },
   "outputs": [
    {
     "data": {
      "text/plain": [
       "361720"
      ]
     },
     "metadata": {},
     "output_type": "display_data"
    },
    {
     "data": {
      "text/plain": [
       "251467"
      ]
     },
     "metadata": {},
     "output_type": "display_data"
    },
    {
     "data": {
      "text/plain": [
       "4218"
      ]
     },
     "metadata": {},
     "output_type": "display_data"
    }
   ],
   "source": [
    "display(numerator, users, products)"
   ]
  },
  {
   "cell_type": "code",
   "execution_count": 15,
   "metadata": {
    "colab": {
     "base_uri": "https://localhost:8080/"
    },
    "executionInfo": {
     "elapsed": 4,
     "status": "ok",
     "timestamp": 1656660756746,
     "user": {
      "displayName": "Tra Nguyen",
      "userId": "16128892209222776608"
     },
     "user_tz": -420
    },
    "id": "b5Kgs3E1rNxF",
    "outputId": "eca50bc2-d9e0-4db8-dcc8-9deb159aed49"
   },
   "outputs": [
    {
     "data": {
      "text/plain": [
       "1060687806"
      ]
     },
     "execution_count": 15,
     "metadata": {},
     "output_type": "execute_result"
    }
   ],
   "source": [
    "# Number of rating matrix could contain if no empty cells\n",
    "denominator = users * products\n",
    "denominator"
   ]
  },
  {
   "cell_type": "code",
   "execution_count": 16,
   "metadata": {
    "colab": {
     "base_uri": "https://localhost:8080/"
    },
    "executionInfo": {
     "elapsed": 5,
     "status": "ok",
     "timestamp": 1656660776910,
     "user": {
      "displayName": "Tra Nguyen",
      "userId": "16128892209222776608"
     },
     "user_tz": -420
    },
    "id": "8IWJ2Ta3rQMa",
    "outputId": "283eb750-7260-4ee9-efaa-b5ceee75554f"
   },
   "outputs": [
    {
     "name": "stdout",
     "output_type": "stream",
     "text": [
      "sparsity:\n"
     ]
    },
    {
     "data": {
      "text/plain": [
       "(None, 0.9996589759984476)"
      ]
     },
     "execution_count": 16,
     "metadata": {},
     "output_type": "execute_result"
    }
   ],
   "source": [
    "sparsity = 1- (numerator * 1.0/ denominator)\n",
    "print(\"sparsity:\"), sparsity"
   ]
  },
  {
   "cell_type": "markdown",
   "metadata": {
    "id": "sY0Ia0ENrW-J"
   },
   "source": [
    "### Feature Transformation"
   ]
  },
  {
   "cell_type": "code",
   "execution_count": 17,
   "metadata": {
    "executionInfo": {
     "elapsed": 2,
     "status": "ok",
     "timestamp": 1656660792798,
     "user": {
      "displayName": "Tra Nguyen",
      "userId": "16128892209222776608"
     },
     "user_tz": -420
    },
    "id": "OyX3fZehrVLT"
   },
   "outputs": [],
   "source": [
    "from pyspark.ml.feature import StringIndexer\n",
    "from pyspark.ml import Pipeline\n",
    "from pyspark.sql.functions import col"
   ]
  },
  {
   "cell_type": "code",
   "execution_count": 18,
   "metadata": {
    "executionInfo": {
     "elapsed": 12880,
     "status": "ok",
     "timestamp": 1656660811972,
     "user": {
      "displayName": "Tra Nguyen",
      "userId": "16128892209222776608"
     },
     "user_tz": -420
    },
    "id": "DnXLvBFzrY0N"
   },
   "outputs": [],
   "source": [
    "indexer = StringIndexer(inputCol='product_id',\n",
    "                        outputCol='product_id_idx')\n",
    "data_indexed = indexer.fit(data_sub).transform(data_sub)\n",
    "\n",
    "indexer1 = StringIndexer(inputCol='customer_id',\n",
    "                        outputCol='customer_id_idx')\n",
    "data_indexed = indexer1.fit(data_indexed).transform(data_indexed)"
   ]
  },
  {
   "cell_type": "code",
   "execution_count": 19,
   "metadata": {
    "colab": {
     "base_uri": "https://localhost:8080/"
    },
    "executionInfo": {
     "elapsed": 2114,
     "status": "ok",
     "timestamp": 1656660814080,
     "user": {
      "displayName": "Tra Nguyen",
      "userId": "16128892209222776608"
     },
     "user_tz": -420
    },
    "id": "wxRBZlkTrahD",
    "outputId": "78aeb7eb-1cea-4bce-e3f6-c530a3e2f735"
   },
   "outputs": [
    {
     "name": "stdout",
     "output_type": "stream",
     "text": [
      "+----------+------+-----------+--------------+---------------+\n",
      "|product_id|rating|customer_id|product_id_idx|customer_id_idx|\n",
      "+----------+------+-----------+--------------+---------------+\n",
      "|  10001012|   3.0|     709310|        2458.0|       216788.0|\n",
      "|  10001012|   5.0|   10701688|        2458.0|        24473.0|\n",
      "|  10001012|   5.0|   11763074|        2458.0|        26843.0|\n",
      "|  10001012|   5.0|    9909549|        2458.0|         3377.0|\n",
      "|  10001012|   5.0|    1827148|        2458.0|          396.0|\n",
      "+----------+------+-----------+--------------+---------------+\n",
      "only showing top 5 rows\n",
      "\n"
     ]
    }
   ],
   "source": [
    "data_indexed.show(5, truncate=True)"
   ]
  },
  {
   "cell_type": "markdown",
   "metadata": {
    "id": "moZ5GTkerdyD"
   },
   "source": [
    "### Train model"
   ]
  },
  {
   "cell_type": "code",
   "execution_count": 20,
   "metadata": {
    "executionInfo": {
     "elapsed": 357,
     "status": "ok",
     "timestamp": 1656660831047,
     "user": {
      "displayName": "Tra Nguyen",
      "userId": "16128892209222776608"
     },
     "user_tz": -420
    },
    "id": "ZsZYZI3_rdYy"
   },
   "outputs": [],
   "source": [
    "# Chia dữ liệu train_test\n",
    "# Smaller dataset so we will use 0.8/0.2\n",
    "(training, test)= data_indexed.randomSplit([0.8,0.2])"
   ]
  },
  {
   "cell_type": "code",
   "execution_count": 21,
   "metadata": {
    "executionInfo": {
     "elapsed": 180624,
     "status": "ok",
     "timestamp": 1656661022397,
     "user": {
      "displayName": "Tra Nguyen",
      "userId": "16128892209222776608"
     },
     "user_tz": -420
    },
    "id": "iRIt9qPnrbyI"
   },
   "outputs": [],
   "source": [
    "# xây dựng model\n",
    "from pyspark.ml.evaluation import RegressionEvaluator\n",
    "from pyspark.ml.recommendation import ALS\n",
    "\n",
    "als = ALS(maxIter=10,\n",
    "          regParam=0.09,\n",
    "          rank=25,\n",
    "          userCol=\"customer_id_idx\",\n",
    "          itemCol=\"product_id_idx\",\n",
    "          ratingCol=\"rating\",\n",
    "          coldStartStrategy=\"drop\",\n",
    "          nonnegative=True)\n",
    "model = als.fit(training)\n",
    "# rank cho to hơn vì phim nhiều và user nhiều"
   ]
  },
  {
   "cell_type": "code",
   "execution_count": 22,
   "metadata": {
    "colab": {
     "base_uri": "https://localhost:8080/"
    },
    "executionInfo": {
     "elapsed": 2592,
     "status": "ok",
     "timestamp": 1656661024985,
     "user": {
      "displayName": "Tra Nguyen",
      "userId": "16128892209222776608"
     },
     "user_tz": -420
    },
    "id": "5HaJPGCVrk7M",
    "outputId": "56555ac8-94eb-43dd-b4bc-b0a182be2d90"
   },
   "outputs": [
    {
     "name": "stdout",
     "output_type": "stream",
     "text": [
      "+-------+------------------+\n",
      "|summary|            rating|\n",
      "+-------+------------------+\n",
      "|  count|            361720|\n",
      "|   mean| 4.474928121198717|\n",
      "| stddev|1.0169193161968286|\n",
      "|    min|               1.0|\n",
      "|    max|               5.0|\n",
      "+-------+------------------+\n",
      "\n"
     ]
    }
   ],
   "source": [
    "data_indexed.select(\"rating\").describe().show()"
   ]
  },
  {
   "cell_type": "markdown",
   "metadata": {
    "id": "jcfyDOthroTh"
   },
   "source": [
    "### Evaluate model"
   ]
  },
  {
   "cell_type": "code",
   "execution_count": 23,
   "metadata": {
    "executionInfo": {
     "elapsed": 5,
     "status": "ok",
     "timestamp": 1656661024986,
     "user": {
      "displayName": "Tra Nguyen",
      "userId": "16128892209222776608"
     },
     "user_tz": -420
    },
    "id": "yxl9plQtrml6"
   },
   "outputs": [],
   "source": [
    "predictions = model.transform(test)"
   ]
  },
  {
   "cell_type": "code",
   "execution_count": 24,
   "metadata": {
    "colab": {
     "base_uri": "https://localhost:8080/"
    },
    "executionInfo": {
     "elapsed": 16594,
     "status": "ok",
     "timestamp": 1656661041575,
     "user": {
      "displayName": "Tra Nguyen",
      "userId": "16128892209222776608"
     },
     "user_tz": -420
    },
    "id": "VE6qM1-2rqBh",
    "outputId": "5af6ce7d-2a0a-4a82-f44d-e147d26449fa"
   },
   "outputs": [
    {
     "name": "stdout",
     "output_type": "stream",
     "text": [
      "+----------+------+-----------+--------------+---------------+----------+\n",
      "|product_id|rating|customer_id|product_id_idx|customer_id_idx|prediction|\n",
      "+----------+------+-----------+--------------+---------------+----------+\n",
      "|   3524487|   5.0|    8915425|         148.0|        58123.0| 1.8633475|\n",
      "|   3524487|   4.0|   19365193|         148.0|        16553.0|0.32141906|\n",
      "|   3524487|   5.0|    7191994|         148.0|        20424.0|  3.555693|\n",
      "|   3524487|   1.0|   17212146|         148.0|        37194.0| 2.5532603|\n",
      "|   3524487|   4.0|   10565655|         148.0|        24194.0| 2.4223173|\n",
      "+----------+------+-----------+--------------+---------------+----------+\n",
      "only showing top 5 rows\n",
      "\n"
     ]
    }
   ],
   "source": [
    "predictions.show(5)"
   ]
  },
  {
   "cell_type": "code",
   "execution_count": 25,
   "metadata": {
    "executionInfo": {
     "elapsed": 4,
     "status": "ok",
     "timestamp": 1656661041576,
     "user": {
      "displayName": "Tra Nguyen",
      "userId": "16128892209222776608"
     },
     "user_tz": -420
    },
    "id": "2SU0VEOwrreQ"
   },
   "outputs": [],
   "source": [
    "from pyspark.ml.evaluation import RegressionEvaluator"
   ]
  },
  {
   "cell_type": "code",
   "execution_count": 26,
   "metadata": {
    "colab": {
     "base_uri": "https://localhost:8080/"
    },
    "executionInfo": {
     "elapsed": 14953,
     "status": "ok",
     "timestamp": 1656661056526,
     "user": {
      "displayName": "Tra Nguyen",
      "userId": "16128892209222776608"
     },
     "user_tz": -420
    },
    "id": "YAVtTxiars1b",
    "outputId": "bbe0da16-2d4c-45f0-fecd-fcfbdd0eb933"
   },
   "outputs": [
    {
     "name": "stdout",
     "output_type": "stream",
     "text": [
      "Root-mean square error = 1.6546422747965646\n"
     ]
    }
   ],
   "source": [
    "evaluator = RegressionEvaluator(metricName='rmse',\n",
    "                                labelCol=\"rating\",\n",
    "                                predictionCol=\"prediction\")\n",
    "rmse = evaluator.evaluate(predictions)\n",
    "print(\"Root-mean square error = \"+ str(rmse))"
   ]
  },
  {
   "cell_type": "markdown",
   "metadata": {
    "id": "oahSRuDUrw90"
   },
   "source": [
    "### Tunning parameter"
   ]
  },
  {
   "cell_type": "code",
   "execution_count": 27,
   "metadata": {
    "executionInfo": {
     "elapsed": 110102,
     "status": "ok",
     "timestamp": 1656661166625,
     "user": {
      "displayName": "Tra Nguyen",
      "userId": "16128892209222776608"
     },
     "user_tz": -420
    },
    "id": "9vHJnaeMruKY"
   },
   "outputs": [],
   "source": [
    "ALSExplicit = ALS( implicitPrefs=False, userCol=\"customer_id_idx\", itemCol=\"product_id_idx\", ratingCol=\"rating\",\n",
    "          coldStartStrategy=\"drop\")\n",
    "\n",
    "defaultModel = ALSExplicit.fit(training)"
   ]
  },
  {
   "cell_type": "code",
   "execution_count": 28,
   "metadata": {
    "executionInfo": {
     "elapsed": 602,
     "status": "ok",
     "timestamp": 1656661167224,
     "user": {
      "displayName": "Tra Nguyen",
      "userId": "16128892209222776608"
     },
     "user_tz": -420
    },
    "id": "7FnOJpW9rywb"
   },
   "outputs": [],
   "source": [
    "from pyspark.ml.tuning import CrossValidator, ParamGridBuilder, TrainValidationSplit"
   ]
  },
  {
   "cell_type": "code",
   "execution_count": 29,
   "metadata": {
    "executionInfo": {
     "elapsed": 3,
     "status": "ok",
     "timestamp": 1656661167224,
     "user": {
      "displayName": "Tra Nguyen",
      "userId": "16128892209222776608"
     },
     "user_tz": -420
    },
    "id": "5eGXhRVAr0ZR"
   },
   "outputs": [],
   "source": [
    "paramMapExplicit = ParamGridBuilder() \\\n",
    "                    .addGrid(ALSExplicit.rank, [30, 40,50]) \\\n",
    "                    .addGrid(ALSExplicit.maxIter, [5,10,15,20]) \\\n",
    "                    .addGrid(ALSExplicit.regParam, [0.1,0.01,0.001]) \\\n",
    "                    .addGrid(ALSExplicit.alpha, [2.0,3.0]) \\\n",
    "                    .build()"
   ]
  },
  {
   "cell_type": "code",
   "execution_count": 30,
   "metadata": {
    "executionInfo": {
     "elapsed": 2,
     "status": "ok",
     "timestamp": 1656661167224,
     "user": {
      "displayName": "Tra Nguyen",
      "userId": "16128892209222776608"
     },
     "user_tz": -420
    },
    "id": "BA9x0YBBr1tG"
   },
   "outputs": [],
   "source": [
    "evaluatorR = RegressionEvaluator(metricName=\"rmse\", labelCol=\"rating\")"
   ]
  },
  {
   "cell_type": "code",
   "execution_count": null,
   "metadata": {
    "id": "T_PhvlMyr3MP"
   },
   "outputs": [],
   "source": [
    "CVALSExplicit = CrossValidator(estimator=ALSExplicit,\n",
    "                            estimatorParamMaps=paramMapExplicit,\n",
    "                            evaluator=evaluatorR,\n",
    "                           numFolds=5)\n",
    "\n",
    "CVModelEXplicit = CVALSExplicit.fit(training)"
   ]
  },
  {
   "cell_type": "code",
   "execution_count": null,
   "metadata": {
    "id": "OCReR7R2r5Vf"
   },
   "outputs": [],
   "source": [
    "predictions_t = CVModelEXplicit.transform(test)"
   ]
  },
  {
   "cell_type": "code",
   "execution_count": null,
   "metadata": {
    "id": "e8q3orDWr8Zo"
   },
   "outputs": [],
   "source": [
    "rmse_t = evaluator.evaluate(predictions_t)\n",
    "print(\"Root-mean square error = \"+ str(rmse_t))"
   ]
  },
  {
   "cell_type": "code",
   "execution_count": null,
   "metadata": {
    "id": "cvb8Iw4or8S0"
   },
   "outputs": [],
   "source": [
    "als_t = ALS(maxIter=10,\n",
    "          regParam=0.1,\n",
    "          rank = 30,\n",
    "          userCol=\"customer_id_idx\",\n",
    "          itemCol=\"product_id_idx\",\n",
    "          ratingCol=\"rating\",\n",
    "          coldStartStrategy=\"drop\",\n",
    "          nonnegative=True)\n",
    "model_t = als_t.fit(training)"
   ]
  },
  {
   "cell_type": "code",
   "execution_count": null,
   "metadata": {
    "id": "H-aT6Q02r8OG"
   },
   "outputs": [],
   "source": [
    "predictions_t = model_t.transform(test)"
   ]
  },
  {
   "cell_type": "code",
   "execution_count": null,
   "metadata": {
    "id": "j2irgtW1sENN"
   },
   "outputs": [],
   "source": [
    "rmse_t = evaluator.evaluate(predictions_t)\n",
    "print(\"Root-mean square error = \"+ str(rmse_t))"
   ]
  },
  {
   "cell_type": "code",
   "execution_count": null,
   "metadata": {
    "id": "TP-XwCKDsFkm"
   },
   "outputs": [],
   "source": [
    "# Nhận xét: "
   ]
  },
  {
   "cell_type": "markdown",
   "metadata": {
    "id": "WCWts9rVsJ1H"
   },
   "source": [
    "### Make recommendations to all users"
   ]
  },
  {
   "cell_type": "code",
   "execution_count": null,
   "metadata": {
    "id": "F4aqSs2ZsKue"
   },
   "outputs": [],
   "source": [
    "# Get 5 recommendations which have highest rating\n",
    "user_recs = model_t.recommendForAllUsers(5)"
   ]
  },
  {
   "cell_type": "code",
   "execution_count": null,
   "metadata": {
    "id": "59Y795cwsL8Q"
   },
   "outputs": [],
   "source": [
    "user_recs.show(10,truncate=False)"
   ]
  },
  {
   "cell_type": "code",
   "execution_count": null,
   "metadata": {
    "id": "6-UZCxTysNby"
   },
   "outputs": [],
   "source": [
    "user_recs.printSchema()"
   ]
  },
  {
   "cell_type": "code",
   "execution_count": null,
   "metadata": {
    "id": "SuAIGPQusOs9"
   },
   "outputs": [],
   "source": [
    "for user in user_recs.head(3):\n",
    "    print(user)\n",
    "    print(\"\\n\")"
   ]
  },
  {
   "cell_type": "markdown",
   "metadata": {
    "id": "adj8FsMtsRug"
   },
   "source": [
    "### Save to file"
   ]
  },
  {
   "cell_type": "code",
   "execution_count": null,
   "metadata": {
    "id": "kBAXaTFnsPy0"
   },
   "outputs": [],
   "source": [
    "from time import time\n",
    "t0 = time()"
   ]
  },
  {
   "cell_type": "code",
   "execution_count": null,
   "metadata": {
    "id": "TG7AoLHtsWHS"
   },
   "outputs": [],
   "source": [
    "df_reviewer_reviewer_id = data_indexed.select('customer_id_idx', 'customer_id').distinct()"
   ]
  },
  {
   "cell_type": "code",
   "execution_count": null,
   "metadata": {
    "id": "SAc-nyI2sYCV"
   },
   "outputs": [],
   "source": [
    "df_reviewer_reviewer_id.count()"
   ]
  },
  {
   "cell_type": "code",
   "execution_count": null,
   "metadata": {
    "id": "mkf6r2MrsYaO"
   },
   "outputs": [],
   "source": [
    "df_reviewer_reviewer_id.show(5)"
   ]
  },
  {
   "cell_type": "code",
   "execution_count": null,
   "metadata": {
    "id": "u_iiFV6asZhR"
   },
   "outputs": [],
   "source": [
    "df_asin_asin_id = data_indexed.select('product_id_idx', 'product_id').distinct()"
   ]
  },
  {
   "cell_type": "code",
   "execution_count": null,
   "metadata": {
    "id": "Y6QxpMS_sbGS"
   },
   "outputs": [],
   "source": [
    "df_asin_asin_id.count()"
   ]
  },
  {
   "cell_type": "code",
   "execution_count": null,
   "metadata": {
    "id": "JLoqtS7VscTa"
   },
   "outputs": [],
   "source": [
    "df_asin_asin_id.show(5)"
   ]
  },
  {
   "cell_type": "code",
   "execution_count": null,
   "metadata": {
    "id": "LchPU3yFsdi8"
   },
   "outputs": [],
   "source": [
    "new_user_recs = user_recs.join(df_reviewer_reviewer_id, on=['customer_id_idx'], how=\"left\")"
   ]
  },
  {
   "cell_type": "code",
   "execution_count": null,
   "metadata": {
    "id": "pVXNO_XJsfGb"
   },
   "outputs": [],
   "source": [
    "new_user_recs.show(10, truncate=False)"
   ]
  },
  {
   "cell_type": "code",
   "execution_count": null,
   "metadata": {
    "id": "LuATcfKjsgRO"
   },
   "outputs": [],
   "source": [
    "new_user_recs.count()"
   ]
  },
  {
   "cell_type": "markdown",
   "metadata": {
    "id": "rK4TgFm-sjMq"
   },
   "source": [
    "### Save to disk"
   ]
  },
  {
   "cell_type": "code",
   "execution_count": null,
   "metadata": {
    "id": "wBw4-oBRshri"
   },
   "outputs": [],
   "source": [
    "new_user_recs.write.parquet('Recommendation_U.parquet', mode='overwrite')\n",
    "df_asin_asin_id.write.parquet('Recommendation_P.parquet', mode='overwrite')"
   ]
  },
  {
   "cell_type": "code",
   "execution_count": null,
   "metadata": {
    "id": "bE6D_FuzslR0"
   },
   "outputs": [],
   "source": [
    "time_duration = time() - 10\n",
    "print(time_duration)"
   ]
  },
  {
   "cell_type": "markdown",
   "metadata": {
    "id": "mmKDu6KNsofK"
   },
   "source": [
    "### Make recommendations to a particular user"
   ]
  },
  {
   "cell_type": "code",
   "execution_count": null,
   "metadata": {
    "id": "BsH8nsLDsm29"
   },
   "outputs": [],
   "source": [
    "customer_id = \"5917275\"\n",
    "find_user_rec = new_user_recs.filter(new_user_recs['customer_id'] == customer_id)\n",
    "user = find_user_rec.first()\n",
    "\n",
    "lst=[]\n",
    "for row in user['recommendations']:\n",
    "    row_f = df_asin_asin_id.filter(df_asin_asin_id.product_id_idx == row['product_id_idx'])\n",
    "    row_f_first = row_f.first()\n",
    "    lst.append((row['product_id_idx'], row_f_first['product_id'], row['rating']))\n",
    "dic_user_rec = {'customer_id' : user.customer_id, 'recommendations':lst}"
   ]
  },
  {
   "cell_type": "code",
   "execution_count": null,
   "metadata": {
    "id": "cvYvHcVAsqfE"
   },
   "outputs": [],
   "source": [
    "dic_user_rec"
   ]
  },
  {
   "cell_type": "markdown",
   "metadata": {
    "id": "ZEh-prWtsuP8"
   },
   "source": [
    "### Đọc 2 file đã lưu để lấy dữ liệu đầu vào => Đề xuất"
   ]
  },
  {
   "cell_type": "code",
   "execution_count": null,
   "metadata": {
    "id": "OjcNgEwFsr2_"
   },
   "outputs": [],
   "source": [
    "new_user_recs = spark.read.parquet('Recommendation_U.parquet')"
   ]
  },
  {
   "cell_type": "code",
   "execution_count": null,
   "metadata": {
    "id": "3yEUb9bhswJk"
   },
   "outputs": [],
   "source": [
    "new_user_recs.printSchema()"
   ]
  },
  {
   "cell_type": "code",
   "execution_count": null,
   "metadata": {
    "id": "pkmoFSSvsxoe"
   },
   "outputs": [],
   "source": [
    "new_user_recs.show(2)"
   ]
  },
  {
   "cell_type": "code",
   "execution_count": null,
   "metadata": {
    "id": "X5uv5bI4sy64"
   },
   "outputs": [],
   "source": [
    "df_asin_asin_id = spark.read.parquet('Recommendation_P.parquet')"
   ]
  },
  {
   "cell_type": "code",
   "execution_count": null,
   "metadata": {
    "id": "BQjKc9zIs0Gn"
   },
   "outputs": [],
   "source": [
    "df_asin_asin_id.show(2)"
   ]
  },
  {
   "cell_type": "code",
   "execution_count": null,
   "metadata": {
    "id": "FlnEnMTJs1UR"
   },
   "outputs": [],
   "source": [
    "customer_id = \"5917275\"\n",
    "find_user_rec = new_user_recs.filter(new_user_recs['customer_id'] == customer_id)\n",
    "find_user_rec.show(truncate=False)"
   ]
  },
  {
   "cell_type": "code",
   "execution_count": null,
   "metadata": {
    "id": "-0zbGrRls2tZ"
   },
   "outputs": [],
   "source": [
    "result = ''\n",
    "for user in find_user_rec.collect():\n",
    "    lst=[]\n",
    "    for row in user['recommendations']:\n",
    "        print(row)\n",
    "        row_f = df_asin_asin_id.filter(df_asin_asin_id.product_id_idx == row['product_id_idx'])\n",
    "        row_f_first = row_f.first()\n",
    "        lst.append((row['product_id_idx'], row_f_first['product_id'], row['rating']))\n",
    "    dic_user_rec = {'customer_id' : user.customer_id, 'recommendations':lst}\n",
    "    result = dic_user_rec"
   ]
  },
  {
   "cell_type": "code",
   "execution_count": null,
   "metadata": {
    "id": "kjarWLt6s5PL"
   },
   "outputs": [],
   "source": []
  },
  {
   "cell_type": "code",
   "execution_count": null,
   "metadata": {},
   "outputs": [],
   "source": []
  },
  {
   "cell_type": "code",
   "execution_count": null,
   "metadata": {},
   "outputs": [],
   "source": []
  }
 ],
 "metadata": {
  "colab": {
   "authorship_tag": "ABX9TyN2TVC1qIX9038UItAFuMsI",
   "name": "5.Collaborative_Filtering_ALS.ipynb",
   "provenance": []
  },
  "kernelspec": {
   "display_name": "Python 3",
   "language": "python",
   "name": "python3"
  },
  "language_info": {
   "codemirror_mode": {
    "name": "ipython",
    "version": 3
   },
   "file_extension": ".py",
   "mimetype": "text/x-python",
   "name": "python",
   "nbconvert_exporter": "python",
   "pygments_lexer": "ipython3",
   "version": "3.8.8"
  }
 },
 "nbformat": 4,
 "nbformat_minor": 1
}
