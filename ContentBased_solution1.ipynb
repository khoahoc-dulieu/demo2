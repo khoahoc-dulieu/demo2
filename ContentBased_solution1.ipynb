{
 "cells": [
  {
   "cell_type": "markdown",
   "id": "3fcd1639",
   "metadata": {},
   "source": [
    "Topic 3: Recommender System"
   ]
  },
  {
   "cell_type": "markdown",
   "id": "2e1a92d5",
   "metadata": {},
   "source": [
    "03. Content-Based Filtering"
   ]
  },
  {
   "cell_type": "markdown",
   "id": "ce39a77b",
   "metadata": {},
   "source": [
    "Content-Based recommendation system dua vao cac thuoc tinh giong nhau cua san pham de dua ra goi y cho nguoi dung.\n",
    "Trong topic nay, thuoc tinh cua san pham duoc chon la ten(name) va mo ta san pham(description)"
   ]
  },
  {
   "cell_type": "code",
   "execution_count": 1,
   "id": "96107d0d",
   "metadata": {},
   "outputs": [],
   "source": [
    "import numpy as np\n",
    "import pandas as pd\n",
    "import matplotlib.pyplot as plt\n",
    "from sklearn.feature_extraction.text import TfidfVectorizer\n",
    "from sklearn.metrics.pairwise import linear_kernel, cosine_similarity\n",
    "from underthesea import word_tokenize, pos_tag, sent_tokenize\n",
    "import warnings"
   ]
  },
  {
   "cell_type": "code",
   "execution_count": 2,
   "id": "b20664f2",
   "metadata": {},
   "outputs": [],
   "source": [
    "warnings.filterwarnings('ignore')"
   ]
  },
  {
   "cell_type": "code",
   "execution_count": 3,
   "id": "00a7207d",
   "metadata": {},
   "outputs": [],
   "source": [
    "# Doc du lieu\n",
    "products = pd.read_csv('Product_clean.csv')\n",
    "reviews = pd.read_csv('Review_clean.csv')"
   ]
  },
  {
   "cell_type": "code",
   "execution_count": 4,
   "id": "9b534ad3",
   "metadata": {},
   "outputs": [
    {
     "name": "stdout",
     "output_type": "stream",
     "text": [
      "Trước khi dropping, records = 4373\n",
      "Sau khi dropping, records = 4373\n"
     ]
    }
   ],
   "source": [
    "print('Trước khi dropping, records =', products.shape[0])\n",
    "products.drop_duplicates(inplace=True)\n",
    "print('Sau khi dropping, records =', products.shape[0])"
   ]
  },
  {
   "cell_type": "code",
   "execution_count": 5,
   "id": "5c7f0c51",
   "metadata": {},
   "outputs": [
    {
     "data": {
      "text/html": [
       "<div>\n",
       "<style scoped>\n",
       "    .dataframe tbody tr th:only-of-type {\n",
       "        vertical-align: middle;\n",
       "    }\n",
       "\n",
       "    .dataframe tbody tr th {\n",
       "        vertical-align: top;\n",
       "    }\n",
       "\n",
       "    .dataframe thead th {\n",
       "        text-align: right;\n",
       "    }\n",
       "</style>\n",
       "<table border=\"1\" class=\"dataframe\">\n",
       "  <thead>\n",
       "    <tr style=\"text-align: right;\">\n",
       "      <th></th>\n",
       "      <th>item_id</th>\n",
       "      <th>name</th>\n",
       "      <th>description</th>\n",
       "      <th>rating</th>\n",
       "      <th>price</th>\n",
       "      <th>list_price</th>\n",
       "      <th>brand</th>\n",
       "      <th>group</th>\n",
       "      <th>url</th>\n",
       "      <th>image</th>\n",
       "      <th>product_infomation</th>\n",
       "    </tr>\n",
       "  </thead>\n",
       "  <tbody>\n",
       "    <tr>\n",
       "      <th>0</th>\n",
       "      <td>48102821</td>\n",
       "      <td>Tai nghe Bluetooth Inpods 12 - Cảm biến vân ta...</td>\n",
       "      <td>THÔNG TIN CHI TIẾT\\nDung lượng pin 300\\nThời g...</td>\n",
       "      <td>4.0</td>\n",
       "      <td>77000</td>\n",
       "      <td>300000</td>\n",
       "      <td>OEM</td>\n",
       "      <td>Thiết Bị Số - Phụ Kiện Số/Thiết Bị Âm Thanh và...</td>\n",
       "      <td>https://tai-nghe-bluetooth-inpods-12-cam-bien-...</td>\n",
       "      <td>https://salt.tikicdn.com/cache/280x280/ts/prod...</td>\n",
       "      <td>inpods cảm_biến vân chống nước_màu_sắc đa_dạng...</td>\n",
       "    </tr>\n",
       "    <tr>\n",
       "      <th>1</th>\n",
       "      <td>52333193</td>\n",
       "      <td>Tai nghe bluetooth không dây F9 True wireless ...</td>\n",
       "      <td>THÔNG TIN CHI TIẾT\\nDung lượng pin 2000mah\\nTh...</td>\n",
       "      <td>4.5</td>\n",
       "      <td>132000</td>\n",
       "      <td>750000</td>\n",
       "      <td>OEM</td>\n",
       "      <td>Thiết Bị Số - Phụ Kiện Số/Thiết Bị Âm Thanh và...</td>\n",
       "      <td>https://tai-nghe-bluetooth-khong-day-f9-true-w...</td>\n",
       "      <td>https://salt.tikicdn.com/cache/280x280/ts/prod...</td>\n",
       "      <td>không dây true wireless dock sạc báo képthông ...</td>\n",
       "    </tr>\n",
       "    <tr>\n",
       "      <th>2</th>\n",
       "      <td>299461</td>\n",
       "      <td>Chuột Không Dây Logitech M331 Silent - Hàng Ch...</td>\n",
       "      <td>THÔNG TIN CHI TIẾT\\nThương hiệu Logitech\\nĐộ p...</td>\n",
       "      <td>4.8</td>\n",
       "      <td>299000</td>\n",
       "      <td>399000</td>\n",
       "      <td>Logitech</td>\n",
       "      <td>Thiết Bị Số - Phụ Kiện Số/Phụ kiện máy tính và...</td>\n",
       "      <td>https://chuot-khong-day-logitech-m331-silent-p...</td>\n",
       "      <td>https://salt.tikicdn.com/cache/280x280/media/c...</td>\n",
       "      <td>chuột không dây logitech silent hàng hãngthông...</td>\n",
       "    </tr>\n",
       "    <tr>\n",
       "      <th>3</th>\n",
       "      <td>57440329</td>\n",
       "      <td>Loa Bluetooth 5.0 Kiêm Đồng Hồ Báo Thức - [[ 2...</td>\n",
       "      <td>THÔNG TIN CHI TIẾT\\nThương hiệu Acome\\nXuất xứ...</td>\n",
       "      <td>4.7</td>\n",
       "      <td>149000</td>\n",
       "      <td>350000</td>\n",
       "      <td>Acome</td>\n",
       "      <td>Thiết Bị Số - Phụ Kiện Số/Thiết Bị Âm Thanh và...</td>\n",
       "      <td>https://loa-bluetooth-5-0-kiem-dong-ho-bao-thu...</td>\n",
       "      <td>https://salt.tikicdn.com/cache/280x280/ts/prod...</td>\n",
       "      <td>kiêm đồng_hồ báo_thức robot hàng hãngthông tiế...</td>\n",
       "    </tr>\n",
       "    <tr>\n",
       "      <th>4</th>\n",
       "      <td>38458616</td>\n",
       "      <td>Tai Nghe Bluetooth Apple AirPods Pro True Wire...</td>\n",
       "      <td>THÔNG TIN CHI TIẾT\\nThương hiệu Apple\\nXuất xứ...</td>\n",
       "      <td>4.8</td>\n",
       "      <td>5090000</td>\n",
       "      <td>8500000</td>\n",
       "      <td>Apple</td>\n",
       "      <td>Thiết Bị Số - Phụ Kiện Số/Thiết Bị Âm Thanh và...</td>\n",
       "      <td>https://tai-nghe-bluetooth-apple-airpods-pro-t...</td>\n",
       "      <td>https://salt.tikicdn.com/cache/280x280/ts/prod...</td>\n",
       "      <td>airpods true wireless hàng hãng athông tiết th...</td>\n",
       "    </tr>\n",
       "  </tbody>\n",
       "</table>\n",
       "</div>"
      ],
      "text/plain": [
       "    item_id                                               name  \\\n",
       "0  48102821  Tai nghe Bluetooth Inpods 12 - Cảm biến vân ta...   \n",
       "1  52333193  Tai nghe bluetooth không dây F9 True wireless ...   \n",
       "2    299461  Chuột Không Dây Logitech M331 Silent - Hàng Ch...   \n",
       "3  57440329  Loa Bluetooth 5.0 Kiêm Đồng Hồ Báo Thức - [[ 2...   \n",
       "4  38458616  Tai Nghe Bluetooth Apple AirPods Pro True Wire...   \n",
       "\n",
       "                                         description  rating    price  \\\n",
       "0  THÔNG TIN CHI TIẾT\\nDung lượng pin 300\\nThời g...     4.0    77000   \n",
       "1  THÔNG TIN CHI TIẾT\\nDung lượng pin 2000mah\\nTh...     4.5   132000   \n",
       "2  THÔNG TIN CHI TIẾT\\nThương hiệu Logitech\\nĐộ p...     4.8   299000   \n",
       "3  THÔNG TIN CHI TIẾT\\nThương hiệu Acome\\nXuất xứ...     4.7   149000   \n",
       "4  THÔNG TIN CHI TIẾT\\nThương hiệu Apple\\nXuất xứ...     4.8  5090000   \n",
       "\n",
       "   list_price     brand                                              group  \\\n",
       "0      300000       OEM  Thiết Bị Số - Phụ Kiện Số/Thiết Bị Âm Thanh và...   \n",
       "1      750000       OEM  Thiết Bị Số - Phụ Kiện Số/Thiết Bị Âm Thanh và...   \n",
       "2      399000  Logitech  Thiết Bị Số - Phụ Kiện Số/Phụ kiện máy tính và...   \n",
       "3      350000     Acome  Thiết Bị Số - Phụ Kiện Số/Thiết Bị Âm Thanh và...   \n",
       "4     8500000     Apple  Thiết Bị Số - Phụ Kiện Số/Thiết Bị Âm Thanh và...   \n",
       "\n",
       "                                                 url  \\\n",
       "0  https://tai-nghe-bluetooth-inpods-12-cam-bien-...   \n",
       "1  https://tai-nghe-bluetooth-khong-day-f9-true-w...   \n",
       "2  https://chuot-khong-day-logitech-m331-silent-p...   \n",
       "3  https://loa-bluetooth-5-0-kiem-dong-ho-bao-thu...   \n",
       "4  https://tai-nghe-bluetooth-apple-airpods-pro-t...   \n",
       "\n",
       "                                               image  \\\n",
       "0  https://salt.tikicdn.com/cache/280x280/ts/prod...   \n",
       "1  https://salt.tikicdn.com/cache/280x280/ts/prod...   \n",
       "2  https://salt.tikicdn.com/cache/280x280/media/c...   \n",
       "3  https://salt.tikicdn.com/cache/280x280/ts/prod...   \n",
       "4  https://salt.tikicdn.com/cache/280x280/ts/prod...   \n",
       "\n",
       "                                  product_infomation  \n",
       "0  inpods cảm_biến vân chống nước_màu_sắc đa_dạng...  \n",
       "1  không dây true wireless dock sạc báo képthông ...  \n",
       "2  chuột không dây logitech silent hàng hãngthông...  \n",
       "3  kiêm đồng_hồ báo_thức robot hàng hãngthông tiế...  \n",
       "4  airpods true wireless hàng hãng athông tiết th...  "
      ]
     },
     "execution_count": 5,
     "metadata": {},
     "output_type": "execute_result"
    }
   ],
   "source": [
    "products.head(5)"
   ]
  },
  {
   "cell_type": "code",
   "execution_count": 6,
   "id": "14a59c36",
   "metadata": {},
   "outputs": [
    {
     "name": "stdout",
     "output_type": "stream",
     "text": [
      "<class 'pandas.core.frame.DataFrame'>\n",
      "Int64Index: 4373 entries, 0 to 4372\n",
      "Data columns (total 11 columns):\n",
      " #   Column              Non-Null Count  Dtype  \n",
      "---  ------              --------------  -----  \n",
      " 0   item_id             4373 non-null   int64  \n",
      " 1   name                4373 non-null   object \n",
      " 2   description         4370 non-null   object \n",
      " 3   rating              4373 non-null   float64\n",
      " 4   price               4373 non-null   int64  \n",
      " 5   list_price          4373 non-null   int64  \n",
      " 6   brand               4373 non-null   object \n",
      " 7   group               4373 non-null   object \n",
      " 8   url                 4373 non-null   object \n",
      " 9   image               4373 non-null   object \n",
      " 10  product_infomation  4373 non-null   object \n",
      "dtypes: float64(1), int64(3), object(7)\n",
      "memory usage: 410.0+ KB\n"
     ]
    }
   ],
   "source": [
    "products.info()"
   ]
  },
  {
   "cell_type": "code",
   "execution_count": 7,
   "id": "d55a4ea5",
   "metadata": {},
   "outputs": [
    {
     "data": {
      "text/plain": [
       "(4373, 11)"
      ]
     },
     "execution_count": 7,
     "metadata": {},
     "output_type": "execute_result"
    }
   ],
   "source": [
    "products.shape"
   ]
  },
  {
   "cell_type": "code",
   "execution_count": 8,
   "id": "43aeb06f",
   "metadata": {},
   "outputs": [],
   "source": [
    "products = products[products['name'].notnull()]"
   ]
  },
  {
   "cell_type": "code",
   "execution_count": 9,
   "id": "a0bc9b40",
   "metadata": {},
   "outputs": [],
   "source": [
    "products['name_description'] = products.name + products.description + products.group"
   ]
  },
  {
   "cell_type": "code",
   "execution_count": 10,
   "id": "28c671b5",
   "metadata": {},
   "outputs": [],
   "source": [
    "products = products[products['name_description'].notnull()]"
   ]
  },
  {
   "cell_type": "code",
   "execution_count": 11,
   "id": "fac52138",
   "metadata": {},
   "outputs": [],
   "source": [
    "#products['name_description_pre'] = products['name_description'].apply(lambda x: word_tokenize(x, format='text'))\n",
    "product_information_token = [[text for text in x.split()] for x in products.product_infomation]"
   ]
  },
  {
   "cell_type": "code",
   "execution_count": 12,
   "id": "0bbe5908",
   "metadata": {},
   "outputs": [
    {
     "name": "stdout",
     "output_type": "stream",
     "text": [
      "<class 'pandas.core.frame.DataFrame'>\n",
      "Int64Index: 4370 entries, 0 to 4372\n",
      "Data columns (total 12 columns):\n",
      " #   Column              Non-Null Count  Dtype  \n",
      "---  ------              --------------  -----  \n",
      " 0   item_id             4370 non-null   int64  \n",
      " 1   name                4370 non-null   object \n",
      " 2   description         4370 non-null   object \n",
      " 3   rating              4370 non-null   float64\n",
      " 4   price               4370 non-null   int64  \n",
      " 5   list_price          4370 non-null   int64  \n",
      " 6   brand               4370 non-null   object \n",
      " 7   group               4370 non-null   object \n",
      " 8   url                 4370 non-null   object \n",
      " 9   image               4370 non-null   object \n",
      " 10  product_infomation  4370 non-null   object \n",
      " 11  name_description    4370 non-null   object \n",
      "dtypes: float64(1), int64(3), object(8)\n",
      "memory usage: 443.8+ KB\n"
     ]
    }
   ],
   "source": [
    "products.info()"
   ]
  },
  {
   "cell_type": "code",
   "execution_count": 13,
   "id": "1f67d750",
   "metadata": {},
   "outputs": [
    {
     "data": {
      "text/plain": [
       "pandas.core.frame.DataFrame"
      ]
     },
     "execution_count": 13,
     "metadata": {},
     "output_type": "execute_result"
    }
   ],
   "source": [
    "type(products)"
   ]
  },
  {
   "cell_type": "code",
   "execution_count": 14,
   "id": "ffa142af",
   "metadata": {},
   "outputs": [
    {
     "data": {
      "text/plain": [
       "(4370, 12)"
      ]
     },
     "execution_count": 14,
     "metadata": {},
     "output_type": "execute_result"
    }
   ],
   "source": [
    "products.shape"
   ]
  },
  {
   "cell_type": "code",
   "execution_count": 15,
   "id": "78513a61",
   "metadata": {},
   "outputs": [
    {
     "data": {
      "text/html": [
       "<div>\n",
       "<style scoped>\n",
       "    .dataframe tbody tr th:only-of-type {\n",
       "        vertical-align: middle;\n",
       "    }\n",
       "\n",
       "    .dataframe tbody tr th {\n",
       "        vertical-align: top;\n",
       "    }\n",
       "\n",
       "    .dataframe thead th {\n",
       "        text-align: right;\n",
       "    }\n",
       "</style>\n",
       "<table border=\"1\" class=\"dataframe\">\n",
       "  <thead>\n",
       "    <tr style=\"text-align: right;\">\n",
       "      <th></th>\n",
       "      <th>item_id</th>\n",
       "      <th>name</th>\n",
       "      <th>description</th>\n",
       "      <th>rating</th>\n",
       "      <th>price</th>\n",
       "      <th>list_price</th>\n",
       "      <th>brand</th>\n",
       "      <th>group</th>\n",
       "      <th>url</th>\n",
       "      <th>image</th>\n",
       "      <th>product_infomation</th>\n",
       "      <th>name_description</th>\n",
       "    </tr>\n",
       "  </thead>\n",
       "  <tbody>\n",
       "    <tr>\n",
       "      <th>0</th>\n",
       "      <td>48102821</td>\n",
       "      <td>Tai nghe Bluetooth Inpods 12 - Cảm biến vân ta...</td>\n",
       "      <td>THÔNG TIN CHI TIẾT\\nDung lượng pin 300\\nThời g...</td>\n",
       "      <td>4.0</td>\n",
       "      <td>77000</td>\n",
       "      <td>300000</td>\n",
       "      <td>OEM</td>\n",
       "      <td>Thiết Bị Số - Phụ Kiện Số/Thiết Bị Âm Thanh và...</td>\n",
       "      <td>https://tai-nghe-bluetooth-inpods-12-cam-bien-...</td>\n",
       "      <td>https://salt.tikicdn.com/cache/280x280/ts/prod...</td>\n",
       "      <td>inpods cảm_biến vân chống nước_màu_sắc đa_dạng...</td>\n",
       "      <td>Tai nghe Bluetooth Inpods 12 - Cảm biến vân ta...</td>\n",
       "    </tr>\n",
       "    <tr>\n",
       "      <th>1</th>\n",
       "      <td>52333193</td>\n",
       "      <td>Tai nghe bluetooth không dây F9 True wireless ...</td>\n",
       "      <td>THÔNG TIN CHI TIẾT\\nDung lượng pin 2000mah\\nTh...</td>\n",
       "      <td>4.5</td>\n",
       "      <td>132000</td>\n",
       "      <td>750000</td>\n",
       "      <td>OEM</td>\n",
       "      <td>Thiết Bị Số - Phụ Kiện Số/Thiết Bị Âm Thanh và...</td>\n",
       "      <td>https://tai-nghe-bluetooth-khong-day-f9-true-w...</td>\n",
       "      <td>https://salt.tikicdn.com/cache/280x280/ts/prod...</td>\n",
       "      <td>không dây true wireless dock sạc báo képthông ...</td>\n",
       "      <td>Tai nghe bluetooth không dây F9 True wireless ...</td>\n",
       "    </tr>\n",
       "    <tr>\n",
       "      <th>2</th>\n",
       "      <td>299461</td>\n",
       "      <td>Chuột Không Dây Logitech M331 Silent - Hàng Ch...</td>\n",
       "      <td>THÔNG TIN CHI TIẾT\\nThương hiệu Logitech\\nĐộ p...</td>\n",
       "      <td>4.8</td>\n",
       "      <td>299000</td>\n",
       "      <td>399000</td>\n",
       "      <td>Logitech</td>\n",
       "      <td>Thiết Bị Số - Phụ Kiện Số/Phụ kiện máy tính và...</td>\n",
       "      <td>https://chuot-khong-day-logitech-m331-silent-p...</td>\n",
       "      <td>https://salt.tikicdn.com/cache/280x280/media/c...</td>\n",
       "      <td>chuột không dây logitech silent hàng hãngthông...</td>\n",
       "      <td>Chuột Không Dây Logitech M331 Silent - Hàng Ch...</td>\n",
       "    </tr>\n",
       "    <tr>\n",
       "      <th>3</th>\n",
       "      <td>57440329</td>\n",
       "      <td>Loa Bluetooth 5.0 Kiêm Đồng Hồ Báo Thức - [[ 2...</td>\n",
       "      <td>THÔNG TIN CHI TIẾT\\nThương hiệu Acome\\nXuất xứ...</td>\n",
       "      <td>4.7</td>\n",
       "      <td>149000</td>\n",
       "      <td>350000</td>\n",
       "      <td>Acome</td>\n",
       "      <td>Thiết Bị Số - Phụ Kiện Số/Thiết Bị Âm Thanh và...</td>\n",
       "      <td>https://loa-bluetooth-5-0-kiem-dong-ho-bao-thu...</td>\n",
       "      <td>https://salt.tikicdn.com/cache/280x280/ts/prod...</td>\n",
       "      <td>kiêm đồng_hồ báo_thức robot hàng hãngthông tiế...</td>\n",
       "      <td>Loa Bluetooth 5.0 Kiêm Đồng Hồ Báo Thức - [[ 2...</td>\n",
       "    </tr>\n",
       "    <tr>\n",
       "      <th>4</th>\n",
       "      <td>38458616</td>\n",
       "      <td>Tai Nghe Bluetooth Apple AirPods Pro True Wire...</td>\n",
       "      <td>THÔNG TIN CHI TIẾT\\nThương hiệu Apple\\nXuất xứ...</td>\n",
       "      <td>4.8</td>\n",
       "      <td>5090000</td>\n",
       "      <td>8500000</td>\n",
       "      <td>Apple</td>\n",
       "      <td>Thiết Bị Số - Phụ Kiện Số/Thiết Bị Âm Thanh và...</td>\n",
       "      <td>https://tai-nghe-bluetooth-apple-airpods-pro-t...</td>\n",
       "      <td>https://salt.tikicdn.com/cache/280x280/ts/prod...</td>\n",
       "      <td>airpods true wireless hàng hãng athông tiết th...</td>\n",
       "      <td>Tai Nghe Bluetooth Apple AirPods Pro True Wire...</td>\n",
       "    </tr>\n",
       "  </tbody>\n",
       "</table>\n",
       "</div>"
      ],
      "text/plain": [
       "    item_id                                               name  \\\n",
       "0  48102821  Tai nghe Bluetooth Inpods 12 - Cảm biến vân ta...   \n",
       "1  52333193  Tai nghe bluetooth không dây F9 True wireless ...   \n",
       "2    299461  Chuột Không Dây Logitech M331 Silent - Hàng Ch...   \n",
       "3  57440329  Loa Bluetooth 5.0 Kiêm Đồng Hồ Báo Thức - [[ 2...   \n",
       "4  38458616  Tai Nghe Bluetooth Apple AirPods Pro True Wire...   \n",
       "\n",
       "                                         description  rating    price  \\\n",
       "0  THÔNG TIN CHI TIẾT\\nDung lượng pin 300\\nThời g...     4.0    77000   \n",
       "1  THÔNG TIN CHI TIẾT\\nDung lượng pin 2000mah\\nTh...     4.5   132000   \n",
       "2  THÔNG TIN CHI TIẾT\\nThương hiệu Logitech\\nĐộ p...     4.8   299000   \n",
       "3  THÔNG TIN CHI TIẾT\\nThương hiệu Acome\\nXuất xứ...     4.7   149000   \n",
       "4  THÔNG TIN CHI TIẾT\\nThương hiệu Apple\\nXuất xứ...     4.8  5090000   \n",
       "\n",
       "   list_price     brand                                              group  \\\n",
       "0      300000       OEM  Thiết Bị Số - Phụ Kiện Số/Thiết Bị Âm Thanh và...   \n",
       "1      750000       OEM  Thiết Bị Số - Phụ Kiện Số/Thiết Bị Âm Thanh và...   \n",
       "2      399000  Logitech  Thiết Bị Số - Phụ Kiện Số/Phụ kiện máy tính và...   \n",
       "3      350000     Acome  Thiết Bị Số - Phụ Kiện Số/Thiết Bị Âm Thanh và...   \n",
       "4     8500000     Apple  Thiết Bị Số - Phụ Kiện Số/Thiết Bị Âm Thanh và...   \n",
       "\n",
       "                                                 url  \\\n",
       "0  https://tai-nghe-bluetooth-inpods-12-cam-bien-...   \n",
       "1  https://tai-nghe-bluetooth-khong-day-f9-true-w...   \n",
       "2  https://chuot-khong-day-logitech-m331-silent-p...   \n",
       "3  https://loa-bluetooth-5-0-kiem-dong-ho-bao-thu...   \n",
       "4  https://tai-nghe-bluetooth-apple-airpods-pro-t...   \n",
       "\n",
       "                                               image  \\\n",
       "0  https://salt.tikicdn.com/cache/280x280/ts/prod...   \n",
       "1  https://salt.tikicdn.com/cache/280x280/ts/prod...   \n",
       "2  https://salt.tikicdn.com/cache/280x280/media/c...   \n",
       "3  https://salt.tikicdn.com/cache/280x280/ts/prod...   \n",
       "4  https://salt.tikicdn.com/cache/280x280/ts/prod...   \n",
       "\n",
       "                                  product_infomation  \\\n",
       "0  inpods cảm_biến vân chống nước_màu_sắc đa_dạng...   \n",
       "1  không dây true wireless dock sạc báo képthông ...   \n",
       "2  chuột không dây logitech silent hàng hãngthông...   \n",
       "3  kiêm đồng_hồ báo_thức robot hàng hãngthông tiế...   \n",
       "4  airpods true wireless hàng hãng athông tiết th...   \n",
       "\n",
       "                                    name_description  \n",
       "0  Tai nghe Bluetooth Inpods 12 - Cảm biến vân ta...  \n",
       "1  Tai nghe bluetooth không dây F9 True wireless ...  \n",
       "2  Chuột Không Dây Logitech M331 Silent - Hàng Ch...  \n",
       "3  Loa Bluetooth 5.0 Kiêm Đồng Hồ Báo Thức - [[ 2...  \n",
       "4  Tai Nghe Bluetooth Apple AirPods Pro True Wire...  "
      ]
     },
     "execution_count": 15,
     "metadata": {},
     "output_type": "execute_result"
    }
   ],
   "source": [
    "products.head(5)"
   ]
  },
  {
   "cell_type": "code",
   "execution_count": 16,
   "id": "209d8da7",
   "metadata": {},
   "outputs": [],
   "source": [
    "products = products.reset_index()"
   ]
  },
  {
   "cell_type": "code",
   "execution_count": 17,
   "id": "6ec716a4",
   "metadata": {},
   "outputs": [],
   "source": [
    "# stop words"
   ]
  },
  {
   "cell_type": "code",
   "execution_count": 18,
   "id": "bc33622c",
   "metadata": {},
   "outputs": [],
   "source": [
    "STOP_WORD_FILE = 'vietnamese-stopwords.txt'"
   ]
  },
  {
   "cell_type": "code",
   "execution_count": 19,
   "id": "56e9571a",
   "metadata": {},
   "outputs": [],
   "source": [
    "with open(STOP_WORD_FILE, 'r', encoding='utf-8') as file:\n",
    "    stop_words = file.read()\n",
    "\n",
    "stop_words = stop_words.split('\\n')    "
   ]
  },
  {
   "cell_type": "code",
   "execution_count": 20,
   "id": "08a470bc",
   "metadata": {},
   "outputs": [],
   "source": [
    "# TF-IDF"
   ]
  },
  {
   "cell_type": "code",
   "execution_count": 21,
   "id": "34ad72a5",
   "metadata": {},
   "outputs": [],
   "source": [
    "#tf = TfidfVectorizer(analyzer='word', min_df=0, ngram_range=(1,3), stop_words=stop_words)\n",
    "tf = TfidfVectorizer(analyzer='word', min_df=0, stop_words=stop_words)"
   ]
  },
  {
   "cell_type": "code",
   "execution_count": 23,
   "id": "9278d0e9",
   "metadata": {},
   "outputs": [],
   "source": [
    "#tfidf_matrix = tf.fit_transform(products.name_description_pre)\n",
    "tfidf_matrix = tf.fit_transform(products.product_infomation)"
   ]
  },
  {
   "cell_type": "code",
   "execution_count": 24,
   "id": "7d4777b9",
   "metadata": {},
   "outputs": [
    {
     "data": {
      "text/html": [
       "<div>\n",
       "<style scoped>\n",
       "    .dataframe tbody tr th:only-of-type {\n",
       "        vertical-align: middle;\n",
       "    }\n",
       "\n",
       "    .dataframe tbody tr th {\n",
       "        vertical-align: top;\n",
       "    }\n",
       "\n",
       "    .dataframe thead th {\n",
       "        text-align: right;\n",
       "    }\n",
       "</style>\n",
       "<table border=\"1\" class=\"dataframe\">\n",
       "  <thead>\n",
       "    <tr style=\"text-align: right;\">\n",
       "      <th></th>\n",
       "      <th>index</th>\n",
       "      <th>item_id</th>\n",
       "      <th>name</th>\n",
       "      <th>description</th>\n",
       "      <th>rating</th>\n",
       "      <th>price</th>\n",
       "      <th>list_price</th>\n",
       "      <th>brand</th>\n",
       "      <th>group</th>\n",
       "      <th>url</th>\n",
       "      <th>image</th>\n",
       "      <th>product_infomation</th>\n",
       "      <th>name_description</th>\n",
       "    </tr>\n",
       "  </thead>\n",
       "  <tbody>\n",
       "    <tr>\n",
       "      <th>0</th>\n",
       "      <td>0</td>\n",
       "      <td>48102821</td>\n",
       "      <td>Tai nghe Bluetooth Inpods 12 - Cảm biến vân ta...</td>\n",
       "      <td>THÔNG TIN CHI TIẾT\\nDung lượng pin 300\\nThời g...</td>\n",
       "      <td>4.0</td>\n",
       "      <td>77000</td>\n",
       "      <td>300000</td>\n",
       "      <td>OEM</td>\n",
       "      <td>Thiết Bị Số - Phụ Kiện Số/Thiết Bị Âm Thanh và...</td>\n",
       "      <td>https://tai-nghe-bluetooth-inpods-12-cam-bien-...</td>\n",
       "      <td>https://salt.tikicdn.com/cache/280x280/ts/prod...</td>\n",
       "      <td>inpods cảm_biến vân chống nước_màu_sắc đa_dạng...</td>\n",
       "      <td>Tai nghe Bluetooth Inpods 12 - Cảm biến vân ta...</td>\n",
       "    </tr>\n",
       "    <tr>\n",
       "      <th>1</th>\n",
       "      <td>1</td>\n",
       "      <td>52333193</td>\n",
       "      <td>Tai nghe bluetooth không dây F9 True wireless ...</td>\n",
       "      <td>THÔNG TIN CHI TIẾT\\nDung lượng pin 2000mah\\nTh...</td>\n",
       "      <td>4.5</td>\n",
       "      <td>132000</td>\n",
       "      <td>750000</td>\n",
       "      <td>OEM</td>\n",
       "      <td>Thiết Bị Số - Phụ Kiện Số/Thiết Bị Âm Thanh và...</td>\n",
       "      <td>https://tai-nghe-bluetooth-khong-day-f9-true-w...</td>\n",
       "      <td>https://salt.tikicdn.com/cache/280x280/ts/prod...</td>\n",
       "      <td>không dây true wireless dock sạc báo képthông ...</td>\n",
       "      <td>Tai nghe bluetooth không dây F9 True wireless ...</td>\n",
       "    </tr>\n",
       "    <tr>\n",
       "      <th>2</th>\n",
       "      <td>2</td>\n",
       "      <td>299461</td>\n",
       "      <td>Chuột Không Dây Logitech M331 Silent - Hàng Ch...</td>\n",
       "      <td>THÔNG TIN CHI TIẾT\\nThương hiệu Logitech\\nĐộ p...</td>\n",
       "      <td>4.8</td>\n",
       "      <td>299000</td>\n",
       "      <td>399000</td>\n",
       "      <td>Logitech</td>\n",
       "      <td>Thiết Bị Số - Phụ Kiện Số/Phụ kiện máy tính và...</td>\n",
       "      <td>https://chuot-khong-day-logitech-m331-silent-p...</td>\n",
       "      <td>https://salt.tikicdn.com/cache/280x280/media/c...</td>\n",
       "      <td>chuột không dây logitech silent hàng hãngthông...</td>\n",
       "      <td>Chuột Không Dây Logitech M331 Silent - Hàng Ch...</td>\n",
       "    </tr>\n",
       "    <tr>\n",
       "      <th>3</th>\n",
       "      <td>3</td>\n",
       "      <td>57440329</td>\n",
       "      <td>Loa Bluetooth 5.0 Kiêm Đồng Hồ Báo Thức - [[ 2...</td>\n",
       "      <td>THÔNG TIN CHI TIẾT\\nThương hiệu Acome\\nXuất xứ...</td>\n",
       "      <td>4.7</td>\n",
       "      <td>149000</td>\n",
       "      <td>350000</td>\n",
       "      <td>Acome</td>\n",
       "      <td>Thiết Bị Số - Phụ Kiện Số/Thiết Bị Âm Thanh và...</td>\n",
       "      <td>https://loa-bluetooth-5-0-kiem-dong-ho-bao-thu...</td>\n",
       "      <td>https://salt.tikicdn.com/cache/280x280/ts/prod...</td>\n",
       "      <td>kiêm đồng_hồ báo_thức robot hàng hãngthông tiế...</td>\n",
       "      <td>Loa Bluetooth 5.0 Kiêm Đồng Hồ Báo Thức - [[ 2...</td>\n",
       "    </tr>\n",
       "    <tr>\n",
       "      <th>4</th>\n",
       "      <td>4</td>\n",
       "      <td>38458616</td>\n",
       "      <td>Tai Nghe Bluetooth Apple AirPods Pro True Wire...</td>\n",
       "      <td>THÔNG TIN CHI TIẾT\\nThương hiệu Apple\\nXuất xứ...</td>\n",
       "      <td>4.8</td>\n",
       "      <td>5090000</td>\n",
       "      <td>8500000</td>\n",
       "      <td>Apple</td>\n",
       "      <td>Thiết Bị Số - Phụ Kiện Số/Thiết Bị Âm Thanh và...</td>\n",
       "      <td>https://tai-nghe-bluetooth-apple-airpods-pro-t...</td>\n",
       "      <td>https://salt.tikicdn.com/cache/280x280/ts/prod...</td>\n",
       "      <td>airpods true wireless hàng hãng athông tiết th...</td>\n",
       "      <td>Tai Nghe Bluetooth Apple AirPods Pro True Wire...</td>\n",
       "    </tr>\n",
       "  </tbody>\n",
       "</table>\n",
       "</div>"
      ],
      "text/plain": [
       "   index   item_id                                               name  \\\n",
       "0      0  48102821  Tai nghe Bluetooth Inpods 12 - Cảm biến vân ta...   \n",
       "1      1  52333193  Tai nghe bluetooth không dây F9 True wireless ...   \n",
       "2      2    299461  Chuột Không Dây Logitech M331 Silent - Hàng Ch...   \n",
       "3      3  57440329  Loa Bluetooth 5.0 Kiêm Đồng Hồ Báo Thức - [[ 2...   \n",
       "4      4  38458616  Tai Nghe Bluetooth Apple AirPods Pro True Wire...   \n",
       "\n",
       "                                         description  rating    price  \\\n",
       "0  THÔNG TIN CHI TIẾT\\nDung lượng pin 300\\nThời g...     4.0    77000   \n",
       "1  THÔNG TIN CHI TIẾT\\nDung lượng pin 2000mah\\nTh...     4.5   132000   \n",
       "2  THÔNG TIN CHI TIẾT\\nThương hiệu Logitech\\nĐộ p...     4.8   299000   \n",
       "3  THÔNG TIN CHI TIẾT\\nThương hiệu Acome\\nXuất xứ...     4.7   149000   \n",
       "4  THÔNG TIN CHI TIẾT\\nThương hiệu Apple\\nXuất xứ...     4.8  5090000   \n",
       "\n",
       "   list_price     brand                                              group  \\\n",
       "0      300000       OEM  Thiết Bị Số - Phụ Kiện Số/Thiết Bị Âm Thanh và...   \n",
       "1      750000       OEM  Thiết Bị Số - Phụ Kiện Số/Thiết Bị Âm Thanh và...   \n",
       "2      399000  Logitech  Thiết Bị Số - Phụ Kiện Số/Phụ kiện máy tính và...   \n",
       "3      350000     Acome  Thiết Bị Số - Phụ Kiện Số/Thiết Bị Âm Thanh và...   \n",
       "4     8500000     Apple  Thiết Bị Số - Phụ Kiện Số/Thiết Bị Âm Thanh và...   \n",
       "\n",
       "                                                 url  \\\n",
       "0  https://tai-nghe-bluetooth-inpods-12-cam-bien-...   \n",
       "1  https://tai-nghe-bluetooth-khong-day-f9-true-w...   \n",
       "2  https://chuot-khong-day-logitech-m331-silent-p...   \n",
       "3  https://loa-bluetooth-5-0-kiem-dong-ho-bao-thu...   \n",
       "4  https://tai-nghe-bluetooth-apple-airpods-pro-t...   \n",
       "\n",
       "                                               image  \\\n",
       "0  https://salt.tikicdn.com/cache/280x280/ts/prod...   \n",
       "1  https://salt.tikicdn.com/cache/280x280/ts/prod...   \n",
       "2  https://salt.tikicdn.com/cache/280x280/media/c...   \n",
       "3  https://salt.tikicdn.com/cache/280x280/ts/prod...   \n",
       "4  https://salt.tikicdn.com/cache/280x280/ts/prod...   \n",
       "\n",
       "                                  product_infomation  \\\n",
       "0  inpods cảm_biến vân chống nước_màu_sắc đa_dạng...   \n",
       "1  không dây true wireless dock sạc báo képthông ...   \n",
       "2  chuột không dây logitech silent hàng hãngthông...   \n",
       "3  kiêm đồng_hồ báo_thức robot hàng hãngthông tiế...   \n",
       "4  airpods true wireless hàng hãng athông tiết th...   \n",
       "\n",
       "                                    name_description  \n",
       "0  Tai nghe Bluetooth Inpods 12 - Cảm biến vân ta...  \n",
       "1  Tai nghe bluetooth không dây F9 True wireless ...  \n",
       "2  Chuột Không Dây Logitech M331 Silent - Hàng Ch...  \n",
       "3  Loa Bluetooth 5.0 Kiêm Đồng Hồ Báo Thức - [[ 2...  \n",
       "4  Tai Nghe Bluetooth Apple AirPods Pro True Wire...  "
      ]
     },
     "execution_count": 24,
     "metadata": {},
     "output_type": "execute_result"
    }
   ],
   "source": [
    "products.head()"
   ]
  },
  {
   "cell_type": "markdown",
   "id": "17cefcda",
   "metadata": {},
   "source": [
    "# Solution 1: Use Cosine_similarity"
   ]
  },
  {
   "cell_type": "code",
   "execution_count": 25,
   "id": "1cd6e044",
   "metadata": {},
   "outputs": [],
   "source": [
    "cosine_similarities = cosine_similarity(tfidf_matrix, tfidf_matrix)"
   ]
  },
  {
   "cell_type": "code",
   "execution_count": 26,
   "id": "aa6bacf5",
   "metadata": {},
   "outputs": [
    {
     "data": {
      "text/plain": [
       "array([[1.        , 0.37869867, 0.05691881, ..., 0.0321217 , 0.03239136,\n",
       "        0.0846702 ],\n",
       "       [0.37869867, 1.        , 0.07059696, ..., 0.03590074, 0.0807134 ,\n",
       "        0.14585111],\n",
       "       [0.05691881, 0.07059696, 1.        , ..., 0.04169272, 0.04194259,\n",
       "        0.08141212],\n",
       "       ...,\n",
       "       [0.0321217 , 0.03590074, 0.04169272, ..., 1.        , 0.01267677,\n",
       "        0.04685533],\n",
       "       [0.03239136, 0.0807134 , 0.04194259, ..., 0.01267677, 1.        ,\n",
       "        0.12686734],\n",
       "       [0.0846702 , 0.14585111, 0.08141212, ..., 0.04685533, 0.12686734,\n",
       "        1.        ]])"
      ]
     },
     "execution_count": 26,
     "metadata": {},
     "output_type": "execute_result"
    }
   ],
   "source": [
    "cosine_similarities"
   ]
  },
  {
   "cell_type": "code",
   "execution_count": 27,
   "id": "ba13b167",
   "metadata": {},
   "outputs": [
    {
     "data": {
      "text/plain": [
       "(4370, 4370)"
      ]
     },
     "execution_count": 27,
     "metadata": {},
     "output_type": "execute_result"
    }
   ],
   "source": [
    "cosine_similarities.shape"
   ]
  },
  {
   "cell_type": "code",
   "execution_count": 28,
   "id": "5faf1501",
   "metadata": {},
   "outputs": [],
   "source": [
    "# với mỗi sản phẩm(sp), lấy 10 sản phẩm tương quan nhất\n",
    "results = {}\n",
    "\n",
    "for idx, row in products.iterrows():    \n",
    "    similar_indices = cosine_similarities[idx].argsort()[-10:-1]\n",
    "    similar_items = [(cosine_similarities[idx][i], products['item_id'][i]) for i in similar_indices]\n",
    "    results[row['item_id']] = similar_items[1:]"
   ]
  },
  {
   "cell_type": "code",
   "execution_count": 29,
   "id": "fe0a56d8",
   "metadata": {},
   "outputs": [
    {
     "data": {
      "text/plain": [
       "[(0.45389254464265, 41195639),\n",
       " (0.454920389938143, 52244173),\n",
       " (0.47911986160219056, 52402442),\n",
       " (0.496412087152158, 53012051),\n",
       " (0.5847449706363576, 55049362),\n",
       " (0.6624779666275221, 12567795),\n",
       " (0.6920121235478524, 23459272),\n",
       " (0.6947719131349248, 46623654)]"
      ]
     },
     "execution_count": 29,
     "metadata": {},
     "output_type": "execute_result"
    }
   ],
   "source": [
    "# Các sp có tương quan với product_id = 38458616\n",
    "results[38458616]"
   ]
  },
  {
   "cell_type": "code",
   "execution_count": 30,
   "id": "e9dc07cb",
   "metadata": {},
   "outputs": [],
   "source": [
    "# lấy thông tin sp\n",
    "def item(id):\n",
    "    return products.loc[products['item_id'] == id]['name'].to_list()[0].split('-')[0]\n",
    "\n",
    "# lấy thông tin sp goi y\n",
    "def recommend(item_id, num):\n",
    "    print('recommending '+ str(num) + \"products similar to \" + item(item_id) + \"...\")\n",
    "    print('* '*40)\n",
    "    recs = results[item_id][:num]\n",
    "    for rec in recs:\n",
    "        print(rec[1])\n",
    "        print('recommended: product id:' + str(rec[1]) +\", \" + item(rec[1]) + \" (score:\" + str(rec[0]) + \")\")"
   ]
  },
  {
   "cell_type": "code",
   "execution_count": 31,
   "id": "41c496b1",
   "metadata": {},
   "outputs": [
    {
     "name": "stdout",
     "output_type": "stream",
     "text": [
      "recommending 5products similar to Dây Cáp Sạc Lightning Cho iPhone Anker PowerLine II 0.9m ...\n",
      "* * * * * * * * * * * * * * * * * * * * * * * * * * * * * * * * * * * * * * * * \n",
      "249953\n",
      "recommended: product id:249953, Dây Cáp Sạc Micro USB Anker PowerLine 0.9m  (score:0.5774777188586018)\n",
      "54017205\n",
      "recommended: product id:54017205, Dây Cáp Sạc Lightning Cho iPhone Anker PowerLine III (1.8m)  (score:0.6026342634046843)\n",
      "15682170\n",
      "recommended: product id:15682170, Dây Cáp Sạc USB (score:0.6035480455963819)\n",
      "60039593\n",
      "recommended: product id:60039593, Dây Cáp Sạc Anker PowerLine III USB (score:0.6403935410471095)\n",
      "234886\n",
      "recommended: product id:234886, Dây Cáp Sạc Lightning Cho iPhone Anker PowerLine+ 1.8m (Không Kèm Bao Da)  (score:0.6809114244296842)\n"
     ]
    }
   ],
   "source": [
    "recommend(1059892, 5)"
   ]
  },
  {
   "cell_type": "markdown",
   "id": "7f30ec9a",
   "metadata": {},
   "source": [
    "# WordCloud"
   ]
  },
  {
   "cell_type": "code",
   "execution_count": 32,
   "id": "b595d27d",
   "metadata": {},
   "outputs": [],
   "source": [
    "from wordcloud import WordCloud"
   ]
  },
  {
   "cell_type": "code",
   "execution_count": 33,
   "id": "db428133",
   "metadata": {},
   "outputs": [],
   "source": [
    "def get_products_text(item_id, num):\n",
    "    rcmd_ids = [r[1] for r in results[item_id]] + [item_id]\n",
    "    text = (products[products.item_id.isin(rcmd_ids)])\n",
    "    return ' '.join(text.name + text.description)"
   ]
  },
  {
   "cell_type": "code",
   "execution_count": 34,
   "id": "64e968c0",
   "metadata": {},
   "outputs": [],
   "source": [
    "wordcloud_text = get_products_text(1059892, 5)"
   ]
  },
  {
   "cell_type": "code",
   "execution_count": 35,
   "id": "a2899950",
   "metadata": {},
   "outputs": [
    {
     "data": {
      "text/plain": [
       "<matplotlib.image.AxesImage at 0x9a65f7bd90>"
      ]
     },
     "execution_count": 35,
     "metadata": {},
     "output_type": "execute_result"
    },
    {
     "data": {
      "image/png": "[encoded data removed]",
      "text/plain": [
       "<Figure size 432x288 with 1 Axes>"
      ]
     },
     "metadata": {
      "needs_background": "light"
     },
     "output_type": "display_data"
    }
   ],
   "source": [
    "wc = WordCloud(stopwords=stop_words).generate(wordcloud_text)\n",
    "plt.imshow(wc)"
   ]
  },
  {
   "cell_type": "markdown",
   "id": "e0eabe53",
   "metadata": {},
   "source": [
    "# Nhan xet:\n",
    "+ Do su dung ten va phan mo ta de so sanh dac tinh cua san pham, do chinh xac cua he thong bi anh huong khi ten va phan mo ta ko chinh xac va thieu thong tin"
   ]
  },
  {
   "cell_type": "code",
   "execution_count": 38,
   "id": "a79784d8",
   "metadata": {},
   "outputs": [],
   "source": [
    "#Neu ko clean Data ket qua se ra khac chu Cap se ko lon bang so voi khi clean ??"
   ]
  },
  {
   "cell_type": "markdown",
   "id": "0ba1b8f6",
   "metadata": {},
   "source": [
    "# Luu ket qua"
   ]
  },
  {
   "cell_type": "code",
   "execution_count": 36,
   "id": "7acfeb26",
   "metadata": {},
   "outputs": [],
   "source": [
    "info =[]\n",
    "for p_id, v in results.items():\n",
    "    for item in v:\n",
    "        info.append({\n",
    "            'product_id': p_id,\n",
    "            'rcmd_product_id' : item[1],\n",
    "            'score': item[0]\n",
    "        })\n",
    "content_based_df = pd.DataFrame(info)"
   ]
  },
  {
   "cell_type": "code",
   "execution_count": 37,
   "id": "f7c98159",
   "metadata": {},
   "outputs": [],
   "source": [
    "content_based_df.to_csv(\"CB_new.csv\")"
   ]
  },
  {
   "cell_type": "code",
   "execution_count": null,
   "id": "24c5a92c",
   "metadata": {},
   "outputs": [],
   "source": []
  },
  {
   "cell_type": "code",
   "execution_count": null,
   "id": "63d09b4b",
   "metadata": {},
   "outputs": [],
   "source": []
  },
  {
   "cell_type": "code",
   "execution_count": null,
   "id": "1c14854b",
   "metadata": {},
   "outputs": [],
   "source": []
  }
 ],
 "metadata": {
  "kernelspec": {
   "display_name": "Python 3",
   "language": "python",
   "name": "python3"
  },
  "language_info": {
   "codemirror_mode": {
    "name": "ipython",
    "version": 3
   },
   "file_extension": ".py",
   "mimetype": "text/x-python",
   "name": "python",
   "nbconvert_exporter": "python",
   "pygments_lexer": "ipython3",
   "version": "3.8.8"
  }
 },
 "nbformat": 4,
 "nbformat_minor": 5
}
