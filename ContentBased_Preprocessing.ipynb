{
 "nbformat": 4,
 "nbformat_minor": 0,
 "metadata": {
  "colab": {
   "name": "Bản sao của 1.Preprocessing.ipynb",
   "provenance": [],
   "collapsed_sections": []
  },
  "kernelspec": {
   "name": "python3",
   "display_name": "Python 3"
  },
  "language_info": {
   "name": "python"
  }
 },
 "cells": [
  {
   "cell_type": "code",
   "source": [
    "from google.colab import drive\n",
    "drive.mount('/content/gdrive', force_remount=True)"
   ],
   "metadata": {
    "id": "l8vvAul3oEjV",
    "colab": {
     "base_uri": "https://localhost:8080/"
    },
    "executionInfo": {
     "status": "ok",
     "timestamp": 1656599139240,
     "user_tz": -420,
     "elapsed": 22434,
     "user": {
      "displayName": "hoaiduc pham",
      "userId": "08360174408859310106"
     }
    },
    "outputId": "72c90237-8a09-49e5-de9f-55a9f293f1f0"
   },
   "execution_count": 1,
   "outputs": [
    {
     "output_type": "stream",
     "name": "stdout",
     "text": [
      "Mounted at /content/gdrive\n"
     ]
    }
   ]
  },
  {
   "cell_type": "code",
   "source": [
    "cd '/content/gdrive/MyDrive/DataScience_project/dataset'"
   ],
   "metadata": {
    "id": "dFY8HcY3oF_X",
    "colab": {
     "base_uri": "https://localhost:8080/"
    },
    "executionInfo": {
     "status": "ok",
     "timestamp": 1656599158312,
     "user_tz": -420,
     "elapsed": 460,
     "user": {
      "displayName": "hoaiduc pham",
      "userId": "08360174408859310106"
     }
    },
    "outputId": "dd3ffd19-4f7f-4600-9b8c-0117d74351ef"
   },
   "execution_count": 2,
   "outputs": [
    {
     "output_type": "stream",
     "name": "stdout",
     "text": [
      "/content/gdrive/MyDrive/DataScience_project/dataset\n"
     ]
    }
   ]
  },
  {
   "cell_type": "code",
   "source": [
    "!pip install pyvi\n",
    "!pip install underthesea\n",
    "!pip install demoji\n",
    "!pip install pyvi\n",
    "!pip install import_ipynb"
   ],
   "metadata": {
    "id": "L-QxTjEruf3K",
    "colab": {
     "base_uri": "https://localhost:8080/"
    },
    "executionInfo": {
     "status": "ok",
     "timestamp": 1656599181583,
     "user_tz": -420,
     "elapsed": 21491,
     "user": {
      "displayName": "hoaiduc pham",
      "userId": "08360174408859310106"
     }
    },
    "outputId": "2c2ea87c-6cb2-4915-f8dc-da3a4cfcfa81"
   },
   "execution_count": 1,
   "outputs": [
    {
     "name": "stdout",
     "output_type": "stream",
     "text": [
      "Collecting pyvi\n",
      "  Downloading pyvi-0.1.1-py2.py3-none-any.whl (8.5 MB)\n",
      "Requirement already satisfied: scikit-learn in c:\\users\\hoang\\.conda\\envs\\demo2\\lib\\site-packages (from pyvi) (1.0.2)\n",
      "Collecting sklearn-crfsuite\n",
      "  Using cached sklearn_crfsuite-0.3.6-py2.py3-none-any.whl (12 kB)\n",
      "Requirement already satisfied: scipy>=1.1.0 in c:\\users\\hoang\\.conda\\envs\\demo2\\lib\\site-packages (from scikit-learn->pyvi) (1.7.3)\n",
      "Requirement already satisfied: numpy>=1.14.6 in c:\\users\\hoang\\.conda\\envs\\demo2\\lib\\site-packages (from scikit-learn->pyvi) (1.22.4)\n",
      "Requirement already satisfied: joblib>=0.11 in c:\\users\\hoang\\.conda\\envs\\demo2\\lib\\site-packages (from scikit-learn->pyvi) (1.1.0)\n",
      "Requirement already satisfied: threadpoolctl>=2.0.0 in c:\\users\\hoang\\.conda\\envs\\demo2\\lib\\site-packages (from scikit-learn->pyvi) (2.2.0)\n",
      "Requirement already satisfied: six in c:\\users\\hoang\\.conda\\envs\\demo2\\lib\\site-packages (from sklearn-crfsuite->pyvi) (1.16.0)\n",
      "Requirement already satisfied: tqdm>=2.0 in c:\\users\\hoang\\.conda\\envs\\demo2\\lib\\site-packages (from sklearn-crfsuite->pyvi) (4.64.0)\n",
      "Requirement already satisfied: python-crfsuite>=0.8.3 in c:\\users\\hoang\\.conda\\envs\\demo2\\lib\\site-packages (from sklearn-crfsuite->pyvi) (0.9.8)\n",
      "Collecting tabulate\n",
      "  Downloading tabulate-0.8.10-py3-none-any.whl (29 kB)\n",
      "Requirement already satisfied: colorama in c:\\users\\hoang\\.conda\\envs\\demo2\\lib\\site-packages (from tqdm>=2.0->sklearn-crfsuite->pyvi) (0.4.5)\n",
      "Installing collected packages: tabulate, sklearn-crfsuite, pyvi\n",
      "Successfully installed pyvi-0.1.1 sklearn-crfsuite-0.3.6 tabulate-0.8.10\n",
      "Requirement already satisfied: underthesea in c:\\users\\hoang\\.conda\\envs\\demo2\\lib\\site-packages (1.3.4)\n",
      "Requirement already satisfied: joblib in c:\\users\\hoang\\.conda\\envs\\demo2\\lib\\site-packages (from underthesea) (1.1.0)\n",
      "Requirement already satisfied: underthesea-core==0.0.4_alpha.10 in c:\\users\\hoang\\.conda\\envs\\demo2\\lib\\site-packages (from underthesea) (0.0.4a10)\n",
      "Requirement already satisfied: unidecode in c:\\users\\hoang\\.conda\\envs\\demo2\\lib\\site-packages (from underthesea) (1.3.4)\n",
      "Requirement already satisfied: tqdm in c:\\users\\hoang\\.conda\\envs\\demo2\\lib\\site-packages (from underthesea) (4.64.0)\n",
      "Requirement already satisfied: nltk in c:\\users\\hoang\\.conda\\envs\\demo2\\lib\\site-packages (from underthesea) (3.7)\n",
      "Requirement already satisfied: scikit-learn in c:\\users\\hoang\\.conda\\envs\\demo2\\lib\\site-packages (from underthesea) (1.0.2)\n",
      "Requirement already satisfied: PyYAML in c:\\users\\hoang\\.conda\\envs\\demo2\\lib\\site-packages (from underthesea) (6.0)\n",
      "Requirement already satisfied: Click>=6.0 in c:\\users\\hoang\\.conda\\envs\\demo2\\lib\\site-packages (from underthesea) (8.1.3)\n",
      "Requirement already satisfied: requests in c:\\users\\hoang\\.conda\\envs\\demo2\\lib\\site-packages (from underthesea) (2.28.1)\n",
      "Requirement already satisfied: python-crfsuite>=0.9.6 in c:\\users\\hoang\\.conda\\envs\\demo2\\lib\\site-packages (from underthesea) (0.9.8)\n",
      "Requirement already satisfied: colorama in c:\\users\\hoang\\.conda\\envs\\demo2\\lib\\site-packages (from Click>=6.0->underthesea) (0.4.5)\n",
      "Requirement already satisfied: regex>=2021.8.3 in c:\\users\\hoang\\.conda\\envs\\demo2\\lib\\site-packages (from nltk->underthesea) (2022.6.2)\n",
      "Requirement already satisfied: charset-normalizer<3,>=2 in c:\\users\\hoang\\.conda\\envs\\demo2\\lib\\site-packages (from requests->underthesea) (2.1.0)\n",
      "Requirement already satisfied: idna<4,>=2.5 in c:\\users\\hoang\\.conda\\envs\\demo2\\lib\\site-packages (from requests->underthesea) (3.3)\n",
      "Requirement already satisfied: urllib3<1.27,>=1.21.1 in c:\\users\\hoang\\.conda\\envs\\demo2\\lib\\site-packages (from requests->underthesea) (1.26.9)\n",
      "Requirement already satisfied: certifi>=2017.4.17 in c:\\users\\hoang\\.conda\\envs\\demo2\\lib\\site-packages (from requests->underthesea) (2022.6.15)\n",
      "Requirement already satisfied: threadpoolctl>=2.0.0 in c:\\users\\hoang\\.conda\\envs\\demo2\\lib\\site-packages (from scikit-learn->underthesea) (2.2.0)\n",
      "Requirement already satisfied: scipy>=1.1.0 in c:\\users\\hoang\\.conda\\envs\\demo2\\lib\\site-packages (from scikit-learn->underthesea) (1.7.3)\n",
      "Requirement already satisfied: numpy>=1.14.6 in c:\\users\\hoang\\.conda\\envs\\demo2\\lib\\site-packages (from scikit-learn->underthesea) (1.22.4)\n",
      "Collecting demoji\n",
      "  Downloading demoji-1.1.0-py3-none-any.whl (42 kB)\n",
      "Installing collected packages: demoji\n",
      "Successfully installed demoji-1.1.0\n",
      "Requirement already satisfied: pyvi in c:\\users\\hoang\\.conda\\envs\\demo2\\lib\\site-packages (0.1.1)\n",
      "Requirement already satisfied: scikit-learn in c:\\users\\hoang\\.conda\\envs\\demo2\\lib\\site-packages (from pyvi) (1.0.2)\n",
      "Requirement already satisfied: sklearn-crfsuite in c:\\users\\hoang\\.conda\\envs\\demo2\\lib\\site-packages (from pyvi) (0.3.6)\n",
      "Requirement already satisfied: numpy>=1.14.6 in c:\\users\\hoang\\.conda\\envs\\demo2\\lib\\site-packages (from scikit-learn->pyvi) (1.22.4)\n",
      "Requirement already satisfied: threadpoolctl>=2.0.0 in c:\\users\\hoang\\.conda\\envs\\demo2\\lib\\site-packages (from scikit-learn->pyvi) (2.2.0)\n",
      "Requirement already satisfied: scipy>=1.1.0 in c:\\users\\hoang\\.conda\\envs\\demo2\\lib\\site-packages (from scikit-learn->pyvi) (1.7.3)\n",
      "Requirement already satisfied: joblib>=0.11 in c:\\users\\hoang\\.conda\\envs\\demo2\\lib\\site-packages (from scikit-learn->pyvi) (1.1.0)\n",
      "Requirement already satisfied: python-crfsuite>=0.8.3 in c:\\users\\hoang\\.conda\\envs\\demo2\\lib\\site-packages (from sklearn-crfsuite->pyvi) (0.9.8)\n",
      "Requirement already satisfied: tqdm>=2.0 in c:\\users\\hoang\\.conda\\envs\\demo2\\lib\\site-packages (from sklearn-crfsuite->pyvi) (4.64.0)\n",
      "Requirement already satisfied: six in c:\\users\\hoang\\.conda\\envs\\demo2\\lib\\site-packages (from sklearn-crfsuite->pyvi) (1.16.0)\n",
      "Requirement already satisfied: tabulate in c:\\users\\hoang\\.conda\\envs\\demo2\\lib\\site-packages (from sklearn-crfsuite->pyvi) (0.8.10)\n",
      "Requirement already satisfied: colorama in c:\\users\\hoang\\.conda\\envs\\demo2\\lib\\site-packages (from tqdm>=2.0->sklearn-crfsuite->pyvi) (0.4.5)\n",
      "Collecting import_ipynb\n",
      "  Downloading import_ipynb-0.1.4-py3-none-any.whl (4.1 kB)\n",
      "Requirement already satisfied: nbformat in c:\\users\\hoang\\.conda\\envs\\demo2\\lib\\site-packages (from import_ipynb) (5.3.0)\n",
      "Requirement already satisfied: IPython in c:\\users\\hoang\\.conda\\envs\\demo2\\lib\\site-packages (from import_ipynb) (8.3.0)\n",
      "Requirement already satisfied: traitlets>=5 in c:\\users\\hoang\\.conda\\envs\\demo2\\lib\\site-packages (from IPython->import_ipynb) (5.1.1)\n",
      "Requirement already satisfied: jedi>=0.16 in c:\\users\\hoang\\.conda\\envs\\demo2\\lib\\site-packages (from IPython->import_ipynb) (0.18.1)\n",
      "Requirement already satisfied: colorama in c:\\users\\hoang\\.conda\\envs\\demo2\\lib\\site-packages (from IPython->import_ipynb) (0.4.5)\n",
      "Requirement already satisfied: decorator in c:\\users\\hoang\\.conda\\envs\\demo2\\lib\\site-packages (from IPython->import_ipynb) (5.1.1)\n",
      "Requirement already satisfied: setuptools>=18.5 in c:\\users\\hoang\\.conda\\envs\\demo2\\lib\\site-packages (from IPython->import_ipynb) (61.2.0)\n",
      "Requirement already satisfied: backcall in c:\\users\\hoang\\.conda\\envs\\demo2\\lib\\site-packages (from IPython->import_ipynb) (0.2.0)\n",
      "Requirement already satisfied: prompt-toolkit!=3.0.0,!=3.0.1,<3.1.0,>=2.0.0 in c:\\users\\hoang\\.conda\\envs\\demo2\\lib\\site-packages (from IPython->import_ipynb) (3.0.20)\n",
      "Requirement already satisfied: pickleshare in c:\\users\\hoang\\.conda\\envs\\demo2\\lib\\site-packages (from IPython->import_ipynb) (0.7.5)\n",
      "Requirement already satisfied: pygments>=2.4.0 in c:\\users\\hoang\\.conda\\envs\\demo2\\lib\\site-packages (from IPython->import_ipynb) (2.11.2)\n",
      "Requirement already satisfied: matplotlib-inline in c:\\users\\hoang\\.conda\\envs\\demo2\\lib\\site-packages (from IPython->import_ipynb) (0.1.2)\n",
      "Requirement already satisfied: stack-data in c:\\users\\hoang\\.conda\\envs\\demo2\\lib\\site-packages (from IPython->import_ipynb) (0.2.0)\n",
      "Requirement already satisfied: parso<0.9.0,>=0.8.0 in c:\\users\\hoang\\.conda\\envs\\demo2\\lib\\site-packages (from jedi>=0.16->IPython->import_ipynb) (0.8.3)\n",
      "Requirement already satisfied: wcwidth in c:\\users\\hoang\\.conda\\envs\\demo2\\lib\\site-packages (from prompt-toolkit!=3.0.0,!=3.0.1,<3.1.0,>=2.0.0->IPython->import_ipynb) (0.2.5)\n",
      "Requirement already satisfied: fastjsonschema in c:\\users\\hoang\\.conda\\envs\\demo2\\lib\\site-packages (from nbformat->import_ipynb) (2.15.1)\n",
      "Requirement already satisfied: jupyter-core in c:\\users\\hoang\\.conda\\envs\\demo2\\lib\\site-packages (from nbformat->import_ipynb) (4.10.0)\n",
      "Requirement already satisfied: jsonschema>=2.6 in c:\\users\\hoang\\.conda\\envs\\demo2\\lib\\site-packages (from nbformat->import_ipynb) (4.4.0)\n",
      "Requirement already satisfied: pyrsistent!=0.17.0,!=0.17.1,!=0.17.2,>=0.14.0 in c:\\users\\hoang\\.conda\\envs\\demo2\\lib\\site-packages (from jsonschema>=2.6->nbformat->import_ipynb) (0.18.0)\n",
      "Requirement already satisfied: attrs>=17.4.0 in c:\\users\\hoang\\.conda\\envs\\demo2\\lib\\site-packages (from jsonschema>=2.6->nbformat->import_ipynb) (21.4.0)\n",
      "Requirement already satisfied: importlib-resources>=1.4.0 in c:\\users\\hoang\\.conda\\envs\\demo2\\lib\\site-packages (from jsonschema>=2.6->nbformat->import_ipynb) (5.2.0)\n",
      "Requirement already satisfied: zipp>=3.1.0 in c:\\users\\hoang\\.conda\\envs\\demo2\\lib\\site-packages (from importlib-resources>=1.4.0->jsonschema>=2.6->nbformat->import_ipynb) (3.8.0)\n",
      "Requirement already satisfied: pywin32>=1.0 in c:\\users\\hoang\\.conda\\envs\\demo2\\lib\\site-packages (from jupyter-core->nbformat->import_ipynb) (302)\n",
      "Requirement already satisfied: executing in c:\\users\\hoang\\.conda\\envs\\demo2\\lib\\site-packages (from stack-data->IPython->import_ipynb) (0.8.3)\n",
      "Requirement already satisfied: pure-eval in c:\\users\\hoang\\.conda\\envs\\demo2\\lib\\site-packages (from stack-data->IPython->import_ipynb) (0.2.2)\n",
      "Requirement already satisfied: asttokens in c:\\users\\hoang\\.conda\\envs\\demo2\\lib\\site-packages (from stack-data->IPython->import_ipynb) (2.0.5)\n",
      "Requirement already satisfied: six in c:\\users\\hoang\\.conda\\envs\\demo2\\lib\\site-packages (from asttokens->stack-data->IPython->import_ipynb) (1.16.0)\n",
      "Installing collected packages: import-ipynb\n",
      "Successfully installed import-ipynb-0.1.4\n"
     ]
    }
   ]
  },
  {
   "cell_type": "code",
   "source": [
    "from pyvi import ViTokenizer, ViPosTagger # thư viện NLP tiếng Việt\n",
    "from tqdm import tqdm\n",
    "import numpy as np\n",
    "from gensim.utils import simple_preprocess, to_unicode # thư viện NLP\n",
    "import import_ipynb\n",
    "from nlp_preprocessing_lib import *"
   ],
   "metadata": {
    "id": "m7S5Y0C902As",
    "executionInfo": {
     "status": "ok",
     "timestamp": 1656599291194,
     "user_tz": -420,
     "elapsed": 6009,
     "user": {
      "displayName": "hoaiduc pham",
      "userId": "08360174408859310106"
     }
    },
    "colab": {
     "base_uri": "https://localhost:8080/"
    },
    "outputId": "cb86d937-cfd5-43c9-f835-a4505f4e64a0"
   },
   "execution_count": 4,
   "outputs": [
    {
     "output_type": "stream",
     "name": "stdout",
     "text": [
      "importing Jupyter notebook from nlp_preprocessing_lib.ipynb\n"
     ]
    }
   ]
  },
  {
   "cell_type": "code",
   "source": [
    "import os\n",
    "import json\n",
    "import re\n",
    "import numpy as np\n",
    "import pandas as pd\n",
    "import sqlite3 as sql\n",
    "import seaborn as sns\n",
    "import difflib"
   ],
   "metadata": {
    "id": "RcP8tZWBoc8_",
    "executionInfo": {
     "status": "ok",
     "timestamp": 1656599291195,
     "user_tz": -420,
     "elapsed": 9,
     "user": {
      "displayName": "hoaiduc pham",
      "userId": "08360174408859310106"
     }
    }
   },
   "execution_count": 5,
   "outputs": []
  },
  {
   "cell_type": "code",
   "source": [
    "pd.options.display.max_colwidth = 90"
   ],
   "metadata": {
    "id": "z85wAaAPwqkB",
    "executionInfo": {
     "status": "ok",
     "timestamp": 1656599294962,
     "user_tz": -420,
     "elapsed": 395,
     "user": {
      "displayName": "hoaiduc pham",
      "userId": "08360174408859310106"
     }
    }
   },
   "execution_count": 6,
   "outputs": []
  },
  {
   "cell_type": "markdown",
   "source": [
    "# 1. Product"
   ],
   "metadata": {
    "id": "PCZUtjzMoesL"
   }
  },
  {
   "cell_type": "code",
   "source": [
    "products = pd.read_csv(\"ProductRaw.csv\")\n",
    "products.head(2)"
   ],
   "metadata": {
    "id": "ZixlU0lfoiMV",
    "colab": {
     "base_uri": "https://localhost:8080/",
     "height": 260
    },
    "executionInfo": {
     "status": "ok",
     "timestamp": 1656599297619,
     "user_tz": -420,
     "elapsed": 1409,
     "user": {
      "displayName": "hoaiduc pham",
      "userId": "08360174408859310106"
     }
    },
    "outputId": "50b71c91-4ae2-4703-d55e-8a90df1a5ac5"
   },
   "execution_count": 7,
   "outputs": [
    {
     "output_type": "execute_result",
     "data": {
      "text/plain": [
       "    item_id  \\\n",
       "0  48102821   \n",
       "1  52333193   \n",
       "\n",
       "                                                                                        name  \\\n",
       "0  Tai nghe Bluetooth Inpods 12 - Cảm biến vân tay, chống nước,màu sắc đa dạng- 5 màu sắc...   \n",
       "1                  Tai nghe bluetooth không dây F9 True wireless Dock Sạc có Led Báo Pin Kép   \n",
       "\n",
       "                                                                                 description  \\\n",
       "0  THÔNG TIN CHI TIẾT\\nDung lượng pin 300\\nThời gian pin - Thời gian nghe nhạc liên tục t...   \n",
       "1  THÔNG TIN CHI TIẾT\\nDung lượng pin 2000mah\\nThời gian pin Thời gian nghe nhạc: 100 giờ...   \n",
       "\n",
       "   rating   price  list_price brand  \\\n",
       "0     4.0   77000      300000   OEM   \n",
       "1     4.5  132000      750000   OEM   \n",
       "\n",
       "                                                                                       group  \\\n",
       "0  Thiết Bị Số - Phụ Kiện Số/Thiết Bị Âm Thanh và Phụ Kiện/Tai Nghe Bluetooth/Tai Nghe Bl...   \n",
       "1  Thiết Bị Số - Phụ Kiện Số/Thiết Bị Âm Thanh và Phụ Kiện/Tai Nghe Bluetooth/Tai Nghe Bl...   \n",
       "\n",
       "                                                                                         url  \\\n",
       "0  https://tai-nghe-bluetooth-inpods-12-cam-bien-van-tay-chong-nuoc-mau-sac-da-dang-5-mau...   \n",
       "1  https://tai-nghe-bluetooth-khong-day-f9-true-wireless-cam-ung-van-tay-dock-sac-co-led-...   \n",
       "\n",
       "                                                                                       image  \n",
       "0  https://salt.tikicdn.com/cache/280x280/ts/product/9e/af/79/39855aad21aaa6ed4459909c7c0...  \n",
       "1  https://salt.tikicdn.com/cache/280x280/ts/product/17/c3/53/74638856cc4ec043b46c7614bd0...  "
      ],
      "text/html": [
       "\n",
       "  <div id=\"df-9fcb33da-4903-4d13-9cda-9125e586c110\">\n",
       "    <div class=\"colab-df-container\">\n",
       "      <div>\n",
       "<style scoped>\n",
       "    .dataframe tbody tr th:only-of-type {\n",
       "        vertical-align: middle;\n",
       "    }\n",
       "\n",
       "    .dataframe tbody tr th {\n",
       "        vertical-align: top;\n",
       "    }\n",
       "\n",
       "    .dataframe thead th {\n",
       "        text-align: right;\n",
       "    }\n",
       "</style>\n",
       "<table border=\"1\" class=\"dataframe\">\n",
       "  <thead>\n",
       "    <tr style=\"text-align: right;\">\n",
       "      <th></th>\n",
       "      <th>item_id</th>\n",
       "      <th>name</th>\n",
       "      <th>description</th>\n",
       "      <th>rating</th>\n",
       "      <th>price</th>\n",
       "      <th>list_price</th>\n",
       "      <th>brand</th>\n",
       "      <th>group</th>\n",
       "      <th>url</th>\n",
       "      <th>image</th>\n",
       "    </tr>\n",
       "  </thead>\n",
       "  <tbody>\n",
       "    <tr>\n",
       "      <th>0</th>\n",
       "      <td>48102821</td>\n",
       "      <td>Tai nghe Bluetooth Inpods 12 - Cảm biến vân tay, chống nước,màu sắc đa dạng- 5 màu sắc...</td>\n",
       "      <td>THÔNG TIN CHI TIẾT\\nDung lượng pin 300\\nThời gian pin - Thời gian nghe nhạc liên tục t...</td>\n",
       "      <td>4.0</td>\n",
       "      <td>77000</td>\n",
       "      <td>300000</td>\n",
       "      <td>OEM</td>\n",
       "      <td>Thiết Bị Số - Phụ Kiện Số/Thiết Bị Âm Thanh và Phụ Kiện/Tai Nghe Bluetooth/Tai Nghe Bl...</td>\n",
       "      <td>https://tai-nghe-bluetooth-inpods-12-cam-bien-van-tay-chong-nuoc-mau-sac-da-dang-5-mau...</td>\n",
       "      <td>https://salt.tikicdn.com/cache/280x280/ts/product/9e/af/79/39855aad21aaa6ed4459909c7c0...</td>\n",
       "    </tr>\n",
       "    <tr>\n",
       "      <th>1</th>\n",
       "      <td>52333193</td>\n",
       "      <td>Tai nghe bluetooth không dây F9 True wireless Dock Sạc có Led Báo Pin Kép</td>\n",
       "      <td>THÔNG TIN CHI TIẾT\\nDung lượng pin 2000mah\\nThời gian pin Thời gian nghe nhạc: 100 giờ...</td>\n",
       "      <td>4.5</td>\n",
       "      <td>132000</td>\n",
       "      <td>750000</td>\n",
       "      <td>OEM</td>\n",
       "      <td>Thiết Bị Số - Phụ Kiện Số/Thiết Bị Âm Thanh và Phụ Kiện/Tai Nghe Bluetooth/Tai Nghe Bl...</td>\n",
       "      <td>https://tai-nghe-bluetooth-khong-day-f9-true-wireless-cam-ung-van-tay-dock-sac-co-led-...</td>\n",
       "      <td>https://salt.tikicdn.com/cache/280x280/ts/product/17/c3/53/74638856cc4ec043b46c7614bd0...</td>\n",
       "    </tr>\n",
       "  </tbody>\n",
       "</table>\n",
       "</div>\n",
       "      <button class=\"colab-df-convert\" onclick=\"convertToInteractive('df-9fcb33da-4903-4d13-9cda-9125e586c110')\"\n",
       "              title=\"Convert this dataframe to an interactive table.\"\n",
       "              style=\"display:none;\">\n",
       "        \n",
       "  <svg xmlns=\"http://www.w3.org/2000/svg\" height=\"24px\"viewBox=\"0 0 24 24\"\n",
       "       width=\"24px\">\n",
       "    <path d=\"M0 0h24v24H0V0z\" fill=\"none\"/>\n",
       "    <path d=\"M18.56 5.44l.94 2.06.94-2.06 2.06-.94-2.06-.94-.94-2.06-.94 2.06-2.06.94zm-11 1L8.5 8.5l.94-2.06 2.06-.94-2.06-.94L8.5 2.5l-.94 2.06-2.06.94zm10 10l.94 2.06.94-2.06 2.06-.94-2.06-.94-.94-2.06-.94 2.06-2.06.94z\"/><path d=\"M17.41 7.96l-1.37-1.37c-.4-.4-.92-.59-1.43-.59-.52 0-1.04.2-1.43.59L10.3 9.45l-7.72 7.72c-.78.78-.78 2.05 0 2.83L4 21.41c.39.39.9.59 1.41.59.51 0 1.02-.2 1.41-.59l7.78-7.78 2.81-2.81c.8-.78.8-2.07 0-2.86zM5.41 20L4 18.59l7.72-7.72 1.47 1.35L5.41 20z\"/>\n",
       "  </svg>\n",
       "      </button>\n",
       "      \n",
       "  <style>\n",
       "    .colab-df-container {\n",
       "      display:flex;\n",
       "      flex-wrap:wrap;\n",
       "      gap: 12px;\n",
       "    }\n",
       "\n",
       "    .colab-df-convert {\n",
       "      background-color: #E8F0FE;\n",
       "      border: none;\n",
       "      border-radius: 50%;\n",
       "      cursor: pointer;\n",
       "      display: none;\n",
       "      fill: #1967D2;\n",
       "      height: 32px;\n",
       "      padding: 0 0 0 0;\n",
       "      width: 32px;\n",
       "    }\n",
       "\n",
       "    .colab-df-convert:hover {\n",
       "      background-color: #E2EBFA;\n",
       "      box-shadow: 0px 1px 2px rgba(60, 64, 67, 0.3), 0px 1px 3px 1px rgba(60, 64, 67, 0.15);\n",
       "      fill: #174EA6;\n",
       "    }\n",
       "\n",
       "    [theme=dark] .colab-df-convert {\n",
       "      background-color: #3B4455;\n",
       "      fill: #D2E3FC;\n",
       "    }\n",
       "\n",
       "    [theme=dark] .colab-df-convert:hover {\n",
       "      background-color: #434B5C;\n",
       "      box-shadow: 0px 1px 3px 1px rgba(0, 0, 0, 0.15);\n",
       "      filter: drop-shadow(0px 1px 2px rgba(0, 0, 0, 0.3));\n",
       "      fill: #FFFFFF;\n",
       "    }\n",
       "  </style>\n",
       "\n",
       "      <script>\n",
       "        const buttonEl =\n",
       "          document.querySelector('#df-9fcb33da-4903-4d13-9cda-9125e586c110 button.colab-df-convert');\n",
       "        buttonEl.style.display =\n",
       "          google.colab.kernel.accessAllowed ? 'block' : 'none';\n",
       "\n",
       "        async function convertToInteractive(key) {\n",
       "          const element = document.querySelector('#df-9fcb33da-4903-4d13-9cda-9125e586c110');\n",
       "          const dataTable =\n",
       "            await google.colab.kernel.invokeFunction('convertToInteractive',\n",
       "                                                     [key], {});\n",
       "          if (!dataTable) return;\n",
       "\n",
       "          const docLinkHtml = 'Like what you see? Visit the ' +\n",
       "            '<a target=\"_blank\" href=https://colab.research.google.com/notebooks/data_table.ipynb>data table notebook</a>'\n",
       "            + ' to learn more about interactive tables.';\n",
       "          element.innerHTML = '';\n",
       "          dataTable['output_type'] = 'display_data';\n",
       "          await google.colab.output.renderOutput(dataTable, element);\n",
       "          const docLink = document.createElement('div');\n",
       "          docLink.innerHTML = docLinkHtml;\n",
       "          element.appendChild(docLink);\n",
       "        }\n",
       "      </script>\n",
       "    </div>\n",
       "  </div>\n",
       "  "
      ]
     },
     "metadata": {},
     "execution_count": 7
    }
   ]
  },
  {
   "cell_type": "code",
   "source": [
    "# Drop duplicate records\n",
    "print('Before dropping, records =', products.shape[0])\n",
    "products.drop_duplicates(inplace=True)\n",
    "print('After dropping, records =', products.shape[0])"
   ],
   "metadata": {
    "id": "dJgAATNSpi7O",
    "colab": {
     "base_uri": "https://localhost:8080/"
    },
    "executionInfo": {
     "status": "ok",
     "timestamp": 1656599301865,
     "user_tz": -420,
     "elapsed": 367,
     "user": {
      "displayName": "hoaiduc pham",
      "userId": "08360174408859310106"
     }
    },
    "outputId": "e9708c2b-62db-46ee-d04b-18c1d2daee72"
   },
   "execution_count": 8,
   "outputs": [
    {
     "output_type": "stream",
     "name": "stdout",
     "text": [
      "Before dropping, records = 4404\n",
      "After dropping, records = 4373\n"
     ]
    }
   ]
  },
  {
   "cell_type": "code",
   "source": [
    "products.info()\n",
    "# Column description has null values."
   ],
   "metadata": {
    "id": "dl1g0yg8oogz",
    "colab": {
     "base_uri": "https://localhost:8080/"
    },
    "executionInfo": {
     "status": "ok",
     "timestamp": 1656599303419,
     "user_tz": -420,
     "elapsed": 8,
     "user": {
      "displayName": "hoaiduc pham",
      "userId": "08360174408859310106"
     }
    },
    "outputId": "29f38fd2-12c0-4023-834c-6fd75889e0d8"
   },
   "execution_count": 9,
   "outputs": [
    {
     "output_type": "stream",
     "name": "stdout",
     "text": [
      "<class 'pandas.core.frame.DataFrame'>\n",
      "Int64Index: 4373 entries, 0 to 4403\n",
      "Data columns (total 10 columns):\n",
      " #   Column       Non-Null Count  Dtype  \n",
      "---  ------       --------------  -----  \n",
      " 0   item_id      4373 non-null   int64  \n",
      " 1   name         4373 non-null   object \n",
      " 2   description  4370 non-null   object \n",
      " 3   rating       4373 non-null   float64\n",
      " 4   price        4373 non-null   int64  \n",
      " 5   list_price   4373 non-null   int64  \n",
      " 6   brand        4373 non-null   object \n",
      " 7   group        4373 non-null   object \n",
      " 8   url          4373 non-null   object \n",
      " 9   image        4373 non-null   object \n",
      "dtypes: float64(1), int64(3), object(6)\n",
      "memory usage: 375.8+ KB\n"
     ]
    }
   ]
  },
  {
   "cell_type": "code",
   "source": [
    "# Take a look at rows with null description. Not only description but also name contains information of a product.\n",
    "# We are going to use both product name & description, so we don't drop these rows with null values\n",
    "products[products.description.isnull()]"
   ],
   "metadata": {
    "colab": {
     "base_uri": "https://localhost:8080/",
     "height": 292
    },
    "id": "NMKCajotwA5T",
    "executionInfo": {
     "status": "ok",
     "timestamp": 1656599308220,
     "user_tz": -420,
     "elapsed": 14,
     "user": {
      "displayName": "hoaiduc pham",
      "userId": "08360174408859310106"
     }
    },
    "outputId": "d65ae573-505d-48c6-e58e-1e8f97231229"
   },
   "execution_count": 10,
   "outputs": [
    {
     "output_type": "execute_result",
     "data": {
      "text/plain": [
       "       item_id  \\\n",
       "1424  75831435   \n",
       "2535  11607917   \n",
       "3294  16608046   \n",
       "\n",
       "                                                                                           name  \\\n",
       "1424  Camera Ip EZVIZ C8C hồng ngoại không dây Full HD 2.0 , camera xoay Wifi, có màu ban đê...   \n",
       "2535  Màn Hình LED LG 27MK600M-B 27 inch Full HD (1920 x 1080) 5ms 60Hz Radeon FreeSync IPS ...   \n",
       "3294                                    Điện Thoại Di Động Forme A5 - Hãng phân phối chính hãng   \n",
       "\n",
       "     description  rating    price  list_price   brand  \\\n",
       "1424         NaN     0.0  1465000     3200000   EZVIZ   \n",
       "2535         NaN     0.0  4200000     5500000      LG   \n",
       "3294         NaN     3.7   335000      389000   Forme   \n",
       "\n",
       "                                                                                          group  \\\n",
       "1424                                          Máy Ảnh - Máy Quay Phim/Camera Giám Sát/Camera IP   \n",
       "2535  Laptop - Máy Vi Tính - Linh kiện/Thiết Bị Văn Phòng - Thiết Bị Ngoại Vi/Màn Hình Máy T...   \n",
       "3294                                            Điện Thoại - Máy Tính Bảng/Điện thoại phổ thông   \n",
       "\n",
       "                                                                                            url  \\\n",
       "1424  https://camera-ip-ezviz-c8c-hong-ngoai-khong-day-full-hd-2-0-camera-xoay-wifi-co-mau-b...   \n",
       "2535  https://man-hinh-led-lg-27mk600m-b-27-inch-full-hd-1920-x-1080-5ms-60hz-radeon-freesyn...   \n",
       "3294  https://dien-thoai-di-dong-forme-a5-hang-phan-phoi-chinh-hang-p16608046.html?src=ss-or...   \n",
       "\n",
       "                                                                                          image  \n",
       "1424  https://salt.tikicdn.com/cache/280x280/ts/product/e7/1c/27/0541681e3bc53e44456eb20e9a3...  \n",
       "2535  https://salt.tikicdn.com/cache/280x280/ts/product/d6/61/72/bf2fca6ce6dec3e8377b2a3722d...  \n",
       "3294  https://salt.tikicdn.com/cache/280x280/ts/product/51/6c/54/576c31c2a93da609839c354fe32...  "
      ],
      "text/html": [
       "\n",
       "  <div id=\"df-34ee49fd-6717-4d96-a720-753e53047714\">\n",
       "    <div class=\"colab-df-container\">\n",
       "      <div>\n",
       "<style scoped>\n",
       "    .dataframe tbody tr th:only-of-type {\n",
       "        vertical-align: middle;\n",
       "    }\n",
       "\n",
       "    .dataframe tbody tr th {\n",
       "        vertical-align: top;\n",
       "    }\n",
       "\n",
       "    .dataframe thead th {\n",
       "        text-align: right;\n",
       "    }\n",
       "</style>\n",
       "<table border=\"1\" class=\"dataframe\">\n",
       "  <thead>\n",
       "    <tr style=\"text-align: right;\">\n",
       "      <th></th>\n",
       "      <th>item_id</th>\n",
       "      <th>name</th>\n",
       "      <th>description</th>\n",
       "      <th>rating</th>\n",
       "      <th>price</th>\n",
       "      <th>list_price</th>\n",
       "      <th>brand</th>\n",
       "      <th>group</th>\n",
       "      <th>url</th>\n",
       "      <th>image</th>\n",
       "    </tr>\n",
       "  </thead>\n",
       "  <tbody>\n",
       "    <tr>\n",
       "      <th>1424</th>\n",
       "      <td>75831435</td>\n",
       "      <td>Camera Ip EZVIZ C8C hồng ngoại không dây Full HD 2.0 , camera xoay Wifi, có màu ban đê...</td>\n",
       "      <td>NaN</td>\n",
       "      <td>0.0</td>\n",
       "      <td>1465000</td>\n",
       "      <td>3200000</td>\n",
       "      <td>EZVIZ</td>\n",
       "      <td>Máy Ảnh - Máy Quay Phim/Camera Giám Sát/Camera IP</td>\n",
       "      <td>https://camera-ip-ezviz-c8c-hong-ngoai-khong-day-full-hd-2-0-camera-xoay-wifi-co-mau-b...</td>\n",
       "      <td>https://salt.tikicdn.com/cache/280x280/ts/product/e7/1c/27/0541681e3bc53e44456eb20e9a3...</td>\n",
       "    </tr>\n",
       "    <tr>\n",
       "      <th>2535</th>\n",
       "      <td>11607917</td>\n",
       "      <td>Màn Hình LED LG 27MK600M-B 27 inch Full HD (1920 x 1080) 5ms 60Hz Radeon FreeSync IPS ...</td>\n",
       "      <td>NaN</td>\n",
       "      <td>0.0</td>\n",
       "      <td>4200000</td>\n",
       "      <td>5500000</td>\n",
       "      <td>LG</td>\n",
       "      <td>Laptop - Máy Vi Tính - Linh kiện/Thiết Bị Văn Phòng - Thiết Bị Ngoại Vi/Màn Hình Máy T...</td>\n",
       "      <td>https://man-hinh-led-lg-27mk600m-b-27-inch-full-hd-1920-x-1080-5ms-60hz-radeon-freesyn...</td>\n",
       "      <td>https://salt.tikicdn.com/cache/280x280/ts/product/d6/61/72/bf2fca6ce6dec3e8377b2a3722d...</td>\n",
       "    </tr>\n",
       "    <tr>\n",
       "      <th>3294</th>\n",
       "      <td>16608046</td>\n",
       "      <td>Điện Thoại Di Động Forme A5 - Hãng phân phối chính hãng</td>\n",
       "      <td>NaN</td>\n",
       "      <td>3.7</td>\n",
       "      <td>335000</td>\n",
       "      <td>389000</td>\n",
       "      <td>Forme</td>\n",
       "      <td>Điện Thoại - Máy Tính Bảng/Điện thoại phổ thông</td>\n",
       "      <td>https://dien-thoai-di-dong-forme-a5-hang-phan-phoi-chinh-hang-p16608046.html?src=ss-or...</td>\n",
       "      <td>https://salt.tikicdn.com/cache/280x280/ts/product/51/6c/54/576c31c2a93da609839c354fe32...</td>\n",
       "    </tr>\n",
       "  </tbody>\n",
       "</table>\n",
       "</div>\n",
       "      <button class=\"colab-df-convert\" onclick=\"convertToInteractive('df-34ee49fd-6717-4d96-a720-753e53047714')\"\n",
       "              title=\"Convert this dataframe to an interactive table.\"\n",
       "              style=\"display:none;\">\n",
       "        \n",
       "  <svg xmlns=\"http://www.w3.org/2000/svg\" height=\"24px\"viewBox=\"0 0 24 24\"\n",
       "       width=\"24px\">\n",
       "    <path d=\"M0 0h24v24H0V0z\" fill=\"none\"/>\n",
       "    <path d=\"M18.56 5.44l.94 2.06.94-2.06 2.06-.94-2.06-.94-.94-2.06-.94 2.06-2.06.94zm-11 1L8.5 8.5l.94-2.06 2.06-.94-2.06-.94L8.5 2.5l-.94 2.06-2.06.94zm10 10l.94 2.06.94-2.06 2.06-.94-2.06-.94-.94-2.06-.94 2.06-2.06.94z\"/><path d=\"M17.41 7.96l-1.37-1.37c-.4-.4-.92-.59-1.43-.59-.52 0-1.04.2-1.43.59L10.3 9.45l-7.72 7.72c-.78.78-.78 2.05 0 2.83L4 21.41c.39.39.9.59 1.41.59.51 0 1.02-.2 1.41-.59l7.78-7.78 2.81-2.81c.8-.78.8-2.07 0-2.86zM5.41 20L4 18.59l7.72-7.72 1.47 1.35L5.41 20z\"/>\n",
       "  </svg>\n",
       "      </button>\n",
       "      \n",
       "  <style>\n",
       "    .colab-df-container {\n",
       "      display:flex;\n",
       "      flex-wrap:wrap;\n",
       "      gap: 12px;\n",
       "    }\n",
       "\n",
       "    .colab-df-convert {\n",
       "      background-color: #E8F0FE;\n",
       "      border: none;\n",
       "      border-radius: 50%;\n",
       "      cursor: pointer;\n",
       "      display: none;\n",
       "      fill: #1967D2;\n",
       "      height: 32px;\n",
       "      padding: 0 0 0 0;\n",
       "      width: 32px;\n",
       "    }\n",
       "\n",
       "    .colab-df-convert:hover {\n",
       "      background-color: #E2EBFA;\n",
       "      box-shadow: 0px 1px 2px rgba(60, 64, 67, 0.3), 0px 1px 3px 1px rgba(60, 64, 67, 0.15);\n",
       "      fill: #174EA6;\n",
       "    }\n",
       "\n",
       "    [theme=dark] .colab-df-convert {\n",
       "      background-color: #3B4455;\n",
       "      fill: #D2E3FC;\n",
       "    }\n",
       "\n",
       "    [theme=dark] .colab-df-convert:hover {\n",
       "      background-color: #434B5C;\n",
       "      box-shadow: 0px 1px 3px 1px rgba(0, 0, 0, 0.15);\n",
       "      filter: drop-shadow(0px 1px 2px rgba(0, 0, 0, 0.3));\n",
       "      fill: #FFFFFF;\n",
       "    }\n",
       "  </style>\n",
       "\n",
       "      <script>\n",
       "        const buttonEl =\n",
       "          document.querySelector('#df-34ee49fd-6717-4d96-a720-753e53047714 button.colab-df-convert');\n",
       "        buttonEl.style.display =\n",
       "          google.colab.kernel.accessAllowed ? 'block' : 'none';\n",
       "\n",
       "        async function convertToInteractive(key) {\n",
       "          const element = document.querySelector('#df-34ee49fd-6717-4d96-a720-753e53047714');\n",
       "          const dataTable =\n",
       "            await google.colab.kernel.invokeFunction('convertToInteractive',\n",
       "                                                     [key], {});\n",
       "          if (!dataTable) return;\n",
       "\n",
       "          const docLinkHtml = 'Like what you see? Visit the ' +\n",
       "            '<a target=\"_blank\" href=https://colab.research.google.com/notebooks/data_table.ipynb>data table notebook</a>'\n",
       "            + ' to learn more about interactive tables.';\n",
       "          element.innerHTML = '';\n",
       "          dataTable['output_type'] = 'display_data';\n",
       "          await google.colab.output.renderOutput(dataTable, element);\n",
       "          const docLink = document.createElement('div');\n",
       "          docLink.innerHTML = docLinkHtml;\n",
       "          element.appendChild(docLink);\n",
       "        }\n",
       "      </script>\n",
       "    </div>\n",
       "  </div>\n",
       "  "
      ]
     },
     "metadata": {},
     "execution_count": 10
    }
   ]
  },
  {
   "cell_type": "code",
   "source": [
    "# Number of products\n",
    "print('The number of products:', products.shape[0])"
   ],
   "metadata": {
    "id": "OA150UD8ot6-",
    "colab": {
     "base_uri": "https://localhost:8080/"
    },
    "executionInfo": {
     "status": "ok",
     "timestamp": 1656599313240,
     "user_tz": -420,
     "elapsed": 331,
     "user": {
      "displayName": "hoaiduc pham",
      "userId": "08360174408859310106"
     }
    },
    "outputId": "6aa574c0-d6e8-483c-d072-a6f5aa92d597"
   },
   "execution_count": 11,
   "outputs": [
    {
     "output_type": "stream",
     "name": "stdout",
     "text": [
      "The number of products: 4373\n"
     ]
    }
   ]
  },
  {
   "cell_type": "code",
   "source": [
    "# Number of unique products\n",
    "print('The number of unique product ID:', products.item_id.count())\n",
    "# All product ID are unique"
   ],
   "metadata": {
    "id": "ACyB-WXgqSWB",
    "colab": {
     "base_uri": "https://localhost:8080/"
    },
    "executionInfo": {
     "status": "ok",
     "timestamp": 1656599314965,
     "user_tz": -420,
     "elapsed": 3,
     "user": {
      "displayName": "hoaiduc pham",
      "userId": "08360174408859310106"
     }
    },
    "outputId": "2bd7f3dd-ad96-4829-80c7-ddf86cec1b2d"
   },
   "execution_count": 12,
   "outputs": [
    {
     "output_type": "stream",
     "name": "stdout",
     "text": [
      "The number of unique product ID: 4373\n"
     ]
    }
   ]
  },
  {
   "cell_type": "code",
   "source": [
    "# Number of unique products name\n",
    "print('The number of unique product Name:', products.name.count())\n",
    "# All product name are unique"
   ],
   "metadata": {
    "id": "TAgJx88Sz922",
    "colab": {
     "base_uri": "https://localhost:8080/"
    },
    "executionInfo": {
     "status": "ok",
     "timestamp": 1656599315787,
     "user_tz": -420,
     "elapsed": 8,
     "user": {
      "displayName": "hoaiduc pham",
      "userId": "08360174408859310106"
     }
    },
    "outputId": "890dc606-5e54-4d3b-d488-f9644a6dd362"
   },
   "execution_count": 13,
   "outputs": [
    {
     "output_type": "stream",
     "name": "stdout",
     "text": [
      "The number of unique product Name: 4373\n"
     ]
    }
   ]
  },
  {
   "cell_type": "code",
   "source": [
    "# Add product information column"
   ],
   "metadata": {
    "id": "SujpZ5aHyr7D"
   },
   "execution_count": null,
   "outputs": []
  },
  {
   "cell_type": "code",
   "source": [
    "# product_infomation contains all information of a product\n",
    "products['product_infomation'] = (products.name + products.description + products.brand + products.group).astype(str)"
   ],
   "metadata": {
    "id": "WmpDzQ8_yjxH",
    "executionInfo": {
     "status": "ok",
     "timestamp": 1656599321707,
     "user_tz": -420,
     "elapsed": 367,
     "user": {
      "displayName": "hoaiduc pham",
      "userId": "08360174408859310106"
     }
    }
   },
   "execution_count": 14,
   "outputs": []
  },
  {
   "cell_type": "code",
   "source": [
    "# correct emoji, teencode, wronglist,tokenzie and remove stopwords\n",
    "products['product_infomation'] = products['product_infomation'].apply(lambda x: clean_text_viet_tokenzie(x, emoji_dict, teen_dict, wrong_lst, stopwords_lst))"
   ],
   "metadata": {
    "id": "f9YCYw65S4BA",
    "executionInfo": {
     "status": "ok",
     "timestamp": 1656599746903,
     "user_tz": -420,
     "elapsed": 423751,
     "user": {
      "displayName": "hoaiduc pham",
      "userId": "08360174408859310106"
     }
    }
   },
   "execution_count": 15,
   "outputs": []
  },
  {
   "cell_type": "code",
   "source": [
    "products.product_infomation[0]"
   ],
   "metadata": {
    "colab": {
     "base_uri": "https://localhost:8080/",
     "height": 126
    },
    "id": "Qj5TqRj4xo59",
    "executionInfo": {
     "status": "ok",
     "timestamp": 1656579855111,
     "user_tz": -420,
     "elapsed": 5,
     "user": {
      "displayName": "Tra Nguyen",
      "userId": "16128892209222776608"
     }
    },
    "outputId": "704da745-3016-4ea6-e733-4c97402d2940"
   },
   "execution_count": null,
   "outputs": [
    {
     "output_type": "execute_result",
     "data": {
      "text/plain": [
       "'i n p o d s   c ả m _ b i ế n   v â n   c h ố n g   n ư ớ c _ m à u _ s ắ c   đ a _ d ạ n g   m à u _ s ắ c   l ự a   c h ọ n t h ô n g   t i ế t   t h ờ i   t h ờ i   n h ạ c   l i ê n _ t ụ c   t h ờ i   s ạ c   t h ờ i   c h ờ   t h ư ơ n g _ h i ệ u   o e m   x u ấ t _ x ứ   t h ư ơ n g _ h i ệ u   q u ố c   đ ộ   n h ạ y _ c ả m _ b i ế n   v â n   c ắ m   t r ọ n g _ l ư ợ n g   t h ờ i   t h ờ i   n h ạ c   l i ê n _ t ụ c   s k u   m ô _ t ả   s ả n _ p h ẩ m   i n p o d   p h i ê n _ b ả n   n â n g _ c ấ p   t h i ế t _ k ế   t ỉ _ l ệ   c h u ẩ n   a i r p o d   h ã n g   l ư ợ c   n ú t   b ấ m   t h â n   n ú t   c ả m _ ứ n g   d ễ _ d à n g   t h u ậ n _ t i ệ n   t á c   c u ộ c _ g ọ i   n h ạ c   d ễ _ d à n g   c h ạ m   k ế t _ n ố i   v ô _ c ù n g   ổ n _ đ ị n h   k ế t _ n ố i   v ô _ c ù n g   ổ n _ đ ị n h   k ế t _ n ố i   d o c k   s ạ c _ c h ấ t   â m   t h ờ i _ l ư ợ n g   c ả i _ t h i ệ n   t ố i _ ư u   d o c k   s ạ c   t i ệ n _ l ợ i   s ạ c   t h i ế t _ b ị   t ư ơ n g _ t h í c h   t h i ế t _ b ị   x i a o m i   h u a w e i   o p p o   l e n o v o   t a b l e t   t h ờ i   n h ạ c   l i ê n _ t ụ c   t h ờ i   s ạ c   t h ờ i   c h ờ   g i á   s ả n _ p h ẩ m   t h u ế   l u ậ t   h i ệ n _ h à n h   .   n h i ê n   t u ỳ   s ả n _ p h ẩ m   p h ư ơ n g _ t h ứ c   đ ị a _ c h ỉ   h à n g   p h á t   p h í   p h í   v ậ n _ c h u y ể n   p h ụ _ p h í   h à n g   c ồ n g _ k ề n h   o e m t h i ế t   p h ụ _ k i ệ n   t h i ế t _ b ị   â m   p h ụ _ k i ệ n   n h é t   .'"
      ],
      "application/vnd.google.colaboratory.intrinsic+json": {
       "type": "string"
      }
     },
     "metadata": {},
     "execution_count": 29
    }
   ]
  },
  {
   "cell_type": "code",
   "source": [
    "# Save products\n",
    "products.to_csv('Product_clean.csv', index=False)"
   ],
   "metadata": {
    "id": "HVwH8bPJrxJ3",
    "executionInfo": {
     "status": "ok",
     "timestamp": 1656599782132,
     "user_tz": -420,
     "elapsed": 1217,
     "user": {
      "displayName": "hoaiduc pham",
      "userId": "08360174408859310106"
     }
    }
   },
   "execution_count": 16,
   "outputs": []
  },
  {
   "cell_type": "markdown",
   "source": [
    "# 2. Review"
   ],
   "metadata": {
    "id": "meiGZjxupTmn"
   }
  },
  {
   "cell_type": "code",
   "source": [
    "reviews = pd.read_csv(\"ReviewRaw.csv\")\n",
    "reviews.head(2)"
   ],
   "metadata": {
    "id": "xsv8DepIpWL0",
    "colab": {
     "base_uri": "https://localhost:8080/",
     "height": 112
    },
    "executionInfo": {
     "status": "ok",
     "timestamp": 1656599786134,
     "user_tz": -420,
     "elapsed": 2124,
     "user": {
      "displayName": "hoaiduc pham",
      "userId": "08360174408859310106"
     }
    },
    "outputId": "63de7144-2a61-43f4-b89e-9a63989189c1"
   },
   "execution_count": 17,
   "outputs": [
    {
     "output_type": "execute_result",
     "data": {
      "text/plain": [
       "   customer_id  product_id              name         full_name created_time  \\\n",
       "0       709310    10001012  Lân Nguyễn Hoàng  Lân Nguyễn Hoàng          NaN   \n",
       "1     10701688    10001012  Nguyễn Khánh Hòa  Nguyễn Khánh Hòa          NaN   \n",
       "\n",
       "   rating               title  \\\n",
       "0       3  Ko dùng đc thẻ nhớ   \n",
       "1       5     Cực kì hài lòng   \n",
       "\n",
       "                                                                                     content  \n",
       "0  Lúcđầu quên thông tin nên dùng 512gb thì ko đc, đọc kĩ lại là 128 thì khởi tạo cũng ko...  \n",
       "1  Tiki giao hàng nhanh. Sản phẩm đúng như mô tả, giá cả khá tốt. Camera bắt chuyển động ...  "
      ],
      "text/html": [
       "\n",
       "  <div id=\"df-fdc3a75b-d76c-4a65-bd5a-bd4c2f561986\">\n",
       "    <div class=\"colab-df-container\">\n",
       "      <div>\n",
       "<style scoped>\n",
       "    .dataframe tbody tr th:only-of-type {\n",
       "        vertical-align: middle;\n",
       "    }\n",
       "\n",
       "    .dataframe tbody tr th {\n",
       "        vertical-align: top;\n",
       "    }\n",
       "\n",
       "    .dataframe thead th {\n",
       "        text-align: right;\n",
       "    }\n",
       "</style>\n",
       "<table border=\"1\" class=\"dataframe\">\n",
       "  <thead>\n",
       "    <tr style=\"text-align: right;\">\n",
       "      <th></th>\n",
       "      <th>customer_id</th>\n",
       "      <th>product_id</th>\n",
       "      <th>name</th>\n",
       "      <th>full_name</th>\n",
       "      <th>created_time</th>\n",
       "      <th>rating</th>\n",
       "      <th>title</th>\n",
       "      <th>content</th>\n",
       "    </tr>\n",
       "  </thead>\n",
       "  <tbody>\n",
       "    <tr>\n",
       "      <th>0</th>\n",
       "      <td>709310</td>\n",
       "      <td>10001012</td>\n",
       "      <td>Lân Nguyễn Hoàng</td>\n",
       "      <td>Lân Nguyễn Hoàng</td>\n",
       "      <td>NaN</td>\n",
       "      <td>3</td>\n",
       "      <td>Ko dùng đc thẻ nhớ</td>\n",
       "      <td>Lúcđầu quên thông tin nên dùng 512gb thì ko đc, đọc kĩ lại là 128 thì khởi tạo cũng ko...</td>\n",
       "    </tr>\n",
       "    <tr>\n",
       "      <th>1</th>\n",
       "      <td>10701688</td>\n",
       "      <td>10001012</td>\n",
       "      <td>Nguyễn Khánh Hòa</td>\n",
       "      <td>Nguyễn Khánh Hòa</td>\n",
       "      <td>NaN</td>\n",
       "      <td>5</td>\n",
       "      <td>Cực kì hài lòng</td>\n",
       "      <td>Tiki giao hàng nhanh. Sản phẩm đúng như mô tả, giá cả khá tốt. Camera bắt chuyển động ...</td>\n",
       "    </tr>\n",
       "  </tbody>\n",
       "</table>\n",
       "</div>\n",
       "      <button class=\"colab-df-convert\" onclick=\"convertToInteractive('df-fdc3a75b-d76c-4a65-bd5a-bd4c2f561986')\"\n",
       "              title=\"Convert this dataframe to an interactive table.\"\n",
       "              style=\"display:none;\">\n",
       "        \n",
       "  <svg xmlns=\"http://www.w3.org/2000/svg\" height=\"24px\"viewBox=\"0 0 24 24\"\n",
       "       width=\"24px\">\n",
       "    <path d=\"M0 0h24v24H0V0z\" fill=\"none\"/>\n",
       "    <path d=\"M18.56 5.44l.94 2.06.94-2.06 2.06-.94-2.06-.94-.94-2.06-.94 2.06-2.06.94zm-11 1L8.5 8.5l.94-2.06 2.06-.94-2.06-.94L8.5 2.5l-.94 2.06-2.06.94zm10 10l.94 2.06.94-2.06 2.06-.94-2.06-.94-.94-2.06-.94 2.06-2.06.94z\"/><path d=\"M17.41 7.96l-1.37-1.37c-.4-.4-.92-.59-1.43-.59-.52 0-1.04.2-1.43.59L10.3 9.45l-7.72 7.72c-.78.78-.78 2.05 0 2.83L4 21.41c.39.39.9.59 1.41.59.51 0 1.02-.2 1.41-.59l7.78-7.78 2.81-2.81c.8-.78.8-2.07 0-2.86zM5.41 20L4 18.59l7.72-7.72 1.47 1.35L5.41 20z\"/>\n",
       "  </svg>\n",
       "      </button>\n",
       "      \n",
       "  <style>\n",
       "    .colab-df-container {\n",
       "      display:flex;\n",
       "      flex-wrap:wrap;\n",
       "      gap: 12px;\n",
       "    }\n",
       "\n",
       "    .colab-df-convert {\n",
       "      background-color: #E8F0FE;\n",
       "      border: none;\n",
       "      border-radius: 50%;\n",
       "      cursor: pointer;\n",
       "      display: none;\n",
       "      fill: #1967D2;\n",
       "      height: 32px;\n",
       "      padding: 0 0 0 0;\n",
       "      width: 32px;\n",
       "    }\n",
       "\n",
       "    .colab-df-convert:hover {\n",
       "      background-color: #E2EBFA;\n",
       "      box-shadow: 0px 1px 2px rgba(60, 64, 67, 0.3), 0px 1px 3px 1px rgba(60, 64, 67, 0.15);\n",
       "      fill: #174EA6;\n",
       "    }\n",
       "\n",
       "    [theme=dark] .colab-df-convert {\n",
       "      background-color: #3B4455;\n",
       "      fill: #D2E3FC;\n",
       "    }\n",
       "\n",
       "    [theme=dark] .colab-df-convert:hover {\n",
       "      background-color: #434B5C;\n",
       "      box-shadow: 0px 1px 3px 1px rgba(0, 0, 0, 0.15);\n",
       "      filter: drop-shadow(0px 1px 2px rgba(0, 0, 0, 0.3));\n",
       "      fill: #FFFFFF;\n",
       "    }\n",
       "  </style>\n",
       "\n",
       "      <script>\n",
       "        const buttonEl =\n",
       "          document.querySelector('#df-fdc3a75b-d76c-4a65-bd5a-bd4c2f561986 button.colab-df-convert');\n",
       "        buttonEl.style.display =\n",
       "          google.colab.kernel.accessAllowed ? 'block' : 'none';\n",
       "\n",
       "        async function convertToInteractive(key) {\n",
       "          const element = document.querySelector('#df-fdc3a75b-d76c-4a65-bd5a-bd4c2f561986');\n",
       "          const dataTable =\n",
       "            await google.colab.kernel.invokeFunction('convertToInteractive',\n",
       "                                                     [key], {});\n",
       "          if (!dataTable) return;\n",
       "\n",
       "          const docLinkHtml = 'Like what you see? Visit the ' +\n",
       "            '<a target=\"_blank\" href=https://colab.research.google.com/notebooks/data_table.ipynb>data table notebook</a>'\n",
       "            + ' to learn more about interactive tables.';\n",
       "          element.innerHTML = '';\n",
       "          dataTable['output_type'] = 'display_data';\n",
       "          await google.colab.output.renderOutput(dataTable, element);\n",
       "          const docLink = document.createElement('div');\n",
       "          docLink.innerHTML = docLinkHtml;\n",
       "          element.appendChild(docLink);\n",
       "        }\n",
       "      </script>\n",
       "    </div>\n",
       "  </div>\n",
       "  "
      ]
     },
     "metadata": {},
     "execution_count": 17
    }
   ]
  },
  {
   "cell_type": "code",
   "source": [
    "# Drop duplicate records\n",
    "print('Trước khi dropping, review =', reviews.shape[0])\n",
    "reviews.drop_duplicates(inplace=True)\n",
    "print('Sau khi dropping, review =', reviews.shape[0])"
   ],
   "metadata": {
    "id": "HR51vbw2pl-B",
    "colab": {
     "base_uri": "https://localhost:8080/"
    },
    "executionInfo": {
     "status": "ok",
     "timestamp": 1656599789240,
     "user_tz": -420,
     "elapsed": 666,
     "user": {
      "displayName": "hoaiduc pham",
      "userId": "08360174408859310106"
     }
    },
    "outputId": "ec8b48d7-1714-474f-cf00-0f5ede63a546"
   },
   "execution_count": 18,
   "outputs": [
    {
     "output_type": "stream",
     "name": "stdout",
     "text": [
      "Trước khi dropping, review = 364099\n",
      "Sau khi dropping, review = 361750\n"
     ]
    }
   ]
  },
  {
   "cell_type": "code",
   "source": [
    "reviews.info()\n",
    "# Column ... have null values"
   ],
   "metadata": {
    "id": "klueY3hQpapL",
    "colab": {
     "base_uri": "https://localhost:8080/"
    },
    "executionInfo": {
     "status": "ok",
     "timestamp": 1656599793731,
     "user_tz": -420,
     "elapsed": 642,
     "user": {
      "displayName": "hoaiduc pham",
      "userId": "08360174408859310106"
     }
    },
    "outputId": "58b70a8a-93fe-4a46-b33f-c8e95207c9cd"
   },
   "execution_count": 19,
   "outputs": [
    {
     "output_type": "stream",
     "name": "stdout",
     "text": [
      "<class 'pandas.core.frame.DataFrame'>\n",
      "Int64Index: 361750 entries, 0 to 364098\n",
      "Data columns (total 8 columns):\n",
      " #   Column        Non-Null Count   Dtype \n",
      "---  ------        --------------   ----- \n",
      " 0   customer_id   361750 non-null  int64 \n",
      " 1   product_id    361750 non-null  int64 \n",
      " 2   name          361322 non-null  object\n",
      " 3   full_name     327147 non-null  object\n",
      " 4   created_time  116225 non-null  object\n",
      " 5   rating        361750 non-null  int64 \n",
      " 6   title         361721 non-null  object\n",
      " 7   content       165686 non-null  object\n",
      "dtypes: int64(3), object(5)\n",
      "memory usage: 24.8+ MB\n"
     ]
    }
   ]
  },
  {
   "cell_type": "code",
   "source": [
    "def missing_values_table(df):\n",
    "    mis_val = df.isnull().sum()\n",
    "    mis_val_percent = 100 * df.isnull().sum() / len(df)\n",
    "    mis_val_table = pd.concat([mis_val, mis_val_percent], axis=1)\n",
    "    mis_val_table_ren_columns = mis_val_table.rename(\n",
    "    columns = {0 : 'Missing Values', 1 : '% of Total Values'})\n",
    "    mis_val_table_ren_columns = mis_val_table_ren_columns[\n",
    "        mis_val_table_ren_columns.iloc[:,1] != 0].sort_values(\n",
    "    '% of Total Values', ascending=False).round(1)\n",
    "    print (\"Your selected dataframe has \" + str(df.shape[1]) + \" columns.\\n\"      \n",
    "        \"There are \" + str(mis_val_table_ren_columns.shape[0]) +\n",
    "            \" columns that have missing values.\")\n",
    "    return mis_val_table_ren_columns\n"
   ],
   "metadata": {
    "id": "Ah65JiS5qqUf",
    "executionInfo": {
     "status": "ok",
     "timestamp": 1656599800641,
     "user_tz": -420,
     "elapsed": 351,
     "user": {
      "displayName": "hoaiduc pham",
      "userId": "08360174408859310106"
     }
    }
   },
   "execution_count": 20,
   "outputs": []
  },
  {
   "cell_type": "code",
   "source": [
    "missing_values_table(reviews)"
   ],
   "metadata": {
    "colab": {
     "base_uri": "https://localhost:8080/",
     "height": 241
    },
    "id": "3F1Oy894Ka68",
    "executionInfo": {
     "status": "ok",
     "timestamp": 1656599804680,
     "user_tz": -420,
     "elapsed": 349,
     "user": {
      "displayName": "hoaiduc pham",
      "userId": "08360174408859310106"
     }
    },
    "outputId": "857ed436-f969-4c50-f914-88d244bcf761"
   },
   "execution_count": 21,
   "outputs": [
    {
     "output_type": "stream",
     "name": "stdout",
     "text": [
      "Your selected dataframe has 8 columns.\n",
      "There are 5 columns that have missing values.\n"
     ]
    },
    {
     "output_type": "execute_result",
     "data": {
      "text/plain": [
       "              Missing Values  % of Total Values\n",
       "created_time          245525               67.9\n",
       "content               196064               54.2\n",
       "full_name              34603                9.6\n",
       "name                     428                0.1\n",
       "title                     29                0.0"
      ],
      "text/html": [
       "\n",
       "  <div id=\"df-88a0f3f8-5f1e-44a6-926e-cadb379d18f0\">\n",
       "    <div class=\"colab-df-container\">\n",
       "      <div>\n",
       "<style scoped>\n",
       "    .dataframe tbody tr th:only-of-type {\n",
       "        vertical-align: middle;\n",
       "    }\n",
       "\n",
       "    .dataframe tbody tr th {\n",
       "        vertical-align: top;\n",
       "    }\n",
       "\n",
       "    .dataframe thead th {\n",
       "        text-align: right;\n",
       "    }\n",
       "</style>\n",
       "<table border=\"1\" class=\"dataframe\">\n",
       "  <thead>\n",
       "    <tr style=\"text-align: right;\">\n",
       "      <th></th>\n",
       "      <th>Missing Values</th>\n",
       "      <th>% of Total Values</th>\n",
       "    </tr>\n",
       "  </thead>\n",
       "  <tbody>\n",
       "    <tr>\n",
       "      <th>created_time</th>\n",
       "      <td>245525</td>\n",
       "      <td>67.9</td>\n",
       "    </tr>\n",
       "    <tr>\n",
       "      <th>content</th>\n",
       "      <td>196064</td>\n",
       "      <td>54.2</td>\n",
       "    </tr>\n",
       "    <tr>\n",
       "      <th>full_name</th>\n",
       "      <td>34603</td>\n",
       "      <td>9.6</td>\n",
       "    </tr>\n",
       "    <tr>\n",
       "      <th>name</th>\n",
       "      <td>428</td>\n",
       "      <td>0.1</td>\n",
       "    </tr>\n",
       "    <tr>\n",
       "      <th>title</th>\n",
       "      <td>29</td>\n",
       "      <td>0.0</td>\n",
       "    </tr>\n",
       "  </tbody>\n",
       "</table>\n",
       "</div>\n",
       "      <button class=\"colab-df-convert\" onclick=\"convertToInteractive('df-88a0f3f8-5f1e-44a6-926e-cadb379d18f0')\"\n",
       "              title=\"Convert this dataframe to an interactive table.\"\n",
       "              style=\"display:none;\">\n",
       "        \n",
       "  <svg xmlns=\"http://www.w3.org/2000/svg\" height=\"24px\"viewBox=\"0 0 24 24\"\n",
       "       width=\"24px\">\n",
       "    <path d=\"M0 0h24v24H0V0z\" fill=\"none\"/>\n",
       "    <path d=\"M18.56 5.44l.94 2.06.94-2.06 2.06-.94-2.06-.94-.94-2.06-.94 2.06-2.06.94zm-11 1L8.5 8.5l.94-2.06 2.06-.94-2.06-.94L8.5 2.5l-.94 2.06-2.06.94zm10 10l.94 2.06.94-2.06 2.06-.94-2.06-.94-.94-2.06-.94 2.06-2.06.94z\"/><path d=\"M17.41 7.96l-1.37-1.37c-.4-.4-.92-.59-1.43-.59-.52 0-1.04.2-1.43.59L10.3 9.45l-7.72 7.72c-.78.78-.78 2.05 0 2.83L4 21.41c.39.39.9.59 1.41.59.51 0 1.02-.2 1.41-.59l7.78-7.78 2.81-2.81c.8-.78.8-2.07 0-2.86zM5.41 20L4 18.59l7.72-7.72 1.47 1.35L5.41 20z\"/>\n",
       "  </svg>\n",
       "      </button>\n",
       "      \n",
       "  <style>\n",
       "    .colab-df-container {\n",
       "      display:flex;\n",
       "      flex-wrap:wrap;\n",
       "      gap: 12px;\n",
       "    }\n",
       "\n",
       "    .colab-df-convert {\n",
       "      background-color: #E8F0FE;\n",
       "      border: none;\n",
       "      border-radius: 50%;\n",
       "      cursor: pointer;\n",
       "      display: none;\n",
       "      fill: #1967D2;\n",
       "      height: 32px;\n",
       "      padding: 0 0 0 0;\n",
       "      width: 32px;\n",
       "    }\n",
       "\n",
       "    .colab-df-convert:hover {\n",
       "      background-color: #E2EBFA;\n",
       "      box-shadow: 0px 1px 2px rgba(60, 64, 67, 0.3), 0px 1px 3px 1px rgba(60, 64, 67, 0.15);\n",
       "      fill: #174EA6;\n",
       "    }\n",
       "\n",
       "    [theme=dark] .colab-df-convert {\n",
       "      background-color: #3B4455;\n",
       "      fill: #D2E3FC;\n",
       "    }\n",
       "\n",
       "    [theme=dark] .colab-df-convert:hover {\n",
       "      background-color: #434B5C;\n",
       "      box-shadow: 0px 1px 3px 1px rgba(0, 0, 0, 0.15);\n",
       "      filter: drop-shadow(0px 1px 2px rgba(0, 0, 0, 0.3));\n",
       "      fill: #FFFFFF;\n",
       "    }\n",
       "  </style>\n",
       "\n",
       "      <script>\n",
       "        const buttonEl =\n",
       "          document.querySelector('#df-88a0f3f8-5f1e-44a6-926e-cadb379d18f0 button.colab-df-convert');\n",
       "        buttonEl.style.display =\n",
       "          google.colab.kernel.accessAllowed ? 'block' : 'none';\n",
       "\n",
       "        async function convertToInteractive(key) {\n",
       "          const element = document.querySelector('#df-88a0f3f8-5f1e-44a6-926e-cadb379d18f0');\n",
       "          const dataTable =\n",
       "            await google.colab.kernel.invokeFunction('convertToInteractive',\n",
       "                                                     [key], {});\n",
       "          if (!dataTable) return;\n",
       "\n",
       "          const docLinkHtml = 'Like what you see? Visit the ' +\n",
       "            '<a target=\"_blank\" href=https://colab.research.google.com/notebooks/data_table.ipynb>data table notebook</a>'\n",
       "            + ' to learn more about interactive tables.';\n",
       "          element.innerHTML = '';\n",
       "          dataTable['output_type'] = 'display_data';\n",
       "          await google.colab.output.renderOutput(dataTable, element);\n",
       "          const docLink = document.createElement('div');\n",
       "          docLink.innerHTML = docLinkHtml;\n",
       "          element.appendChild(docLink);\n",
       "        }\n",
       "      </script>\n",
       "    </div>\n",
       "  </div>\n",
       "  "
      ]
     },
     "metadata": {},
     "execution_count": 21
    }
   ]
  },
  {
   "cell_type": "code",
   "source": [
    "# Drop feature created_time and full_name\n",
    "reviews.drop(['full_name','created_time'],axis=1, inplace=True)"
   ],
   "metadata": {
    "id": "Nlhm5frsrqJp",
    "executionInfo": {
     "status": "ok",
     "timestamp": 1656599812873,
     "user_tz": -420,
     "elapsed": 366,
     "user": {
      "displayName": "hoaiduc pham",
      "userId": "08360174408859310106"
     }
    }
   },
   "execution_count": 22,
   "outputs": []
  },
  {
   "cell_type": "code",
   "source": [
    "# create review_info which contains essential keywords from title and content\n",
    "review_information = (reviews.title + \" \" + reviews.content).astype('str')\n",
    "# correct emoji, teencode, wronglist,tokenzie and remove stopwords\n",
    "reviews['review_information'] = review_information.apply(lambda x: clean_text_viet_tokenzie(x, emoji_dict, teen_dict, wrong_lst, stopwords_lst))"
   ],
   "metadata": {
    "id": "HYGSNaejfhv6",
    "executionInfo": {
     "status": "ok",
     "timestamp": 1656600713464,
     "user_tz": -420,
     "elapsed": 866652,
     "user": {
      "displayName": "hoaiduc pham",
      "userId": "08360174408859310106"
     }
    }
   },
   "execution_count": 23,
   "outputs": []
  },
  {
   "cell_type": "code",
   "source": [
    "# Save reviews\n",
    "reviews.to_csv('Review_new.csv', index=False)"
   ],
   "metadata": {
    "id": "mOA8Nza_ruAm",
    "executionInfo": {
     "status": "ok",
     "timestamp": 1656600799551,
     "user_tz": -420,
     "elapsed": 3179,
     "user": {
      "displayName": "hoaiduc pham",
      "userId": "08360174408859310106"
     }
    }
   },
   "execution_count": 25,
   "outputs": []
  }
 ]
}