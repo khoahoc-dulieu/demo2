{
 "cells": [
  {
   "cell_type": "code",
   "execution_count": 1,
   "metadata": {
    "executionInfo": {
     "elapsed": 26714,
     "status": "ok",
     "timestamp": 1656837417362,
     "user": {
      "displayName": "hoaiduc pham",
      "userId": "08360174408859310106"
     },
     "user_tz": -420
    },
    "id": "Ph4SKYsYndcC"
   },
   "outputs": [
    {
     "name": "stderr",
     "output_type": "stream",
     "text": [
      "The system cannot find the path specified.\n",
      "tar: Error opening archive: Failed to open 'spark-3.0.0-bin-hadoop3.2.tgz'\n"
     ]
    }
   ],
   "source": [
    "# innstall java\n",
    "!apt-get install openjdk-8-jdk-headless -qq > /dev/null\n",
    "\n",
    "# install spark (change the version number if needed)\n",
    "!wget -q https://archive.apache.org/dist/spark/spark-3.0.0/spark-3.0.0-bin-hadoop3.2.tgz\n",
    "\n",
    "# unzip the spark file to the current folder\n",
    "!tar xf spark-3.0.0-bin-hadoop3.2.tgz\n",
    "\n",
    "# set your spark folder to your system path environment. \n",
    "import os\n",
    "os.environ[\"JAVA_HOME\"] = \"/usr/lib/jvm/java-8-openjdk-amd64\"\n",
    "os.environ[\"SPARK_HOME\"] = \"/content/spark-3.0.0-bin-hadoop3.2\"\n",
    "\n",
    "\n",
    "# install findspark using pip\n",
    "!pip install -q findspark"
   ]
  },
  {
   "cell_type": "code",
   "execution_count": 1,
   "metadata": {
    "colab": {
     "base_uri": "https://localhost:8080/"
    },
    "executionInfo": {
     "elapsed": 51431,
     "status": "ok",
     "timestamp": 1656837488537,
     "user": {
      "displayName": "hoaiduc pham",
      "userId": "08360174408859310106"
     },
     "user_tz": -420
    },
    "id": "C7aBo_brpSp6",
    "outputId": "c04118c8-2540-4d00-d96b-aa246183ae74"
   },
   "outputs": [
    {
     "name": "stdout",
     "output_type": "stream",
     "text": [
      "Collecting pyspark\n",
      "  Downloading pyspark-3.3.0.tar.gz (281.3 MB)\n",
      "     -------------------------------------- 281.3/281.3 MB 5.7 MB/s eta 0:00:00\n",
      "  Preparing metadata (setup.py): started\n",
      "  Preparing metadata (setup.py): finished with status 'done'\n",
      "Collecting py4j==0.10.9.5\n",
      "  Downloading py4j-0.10.9.5-py2.py3-none-any.whl (199 kB)\n",
      "     ---------------------------------------- 199.7/199.7 KB ? eta 0:00:00\n",
      "Building wheels for collected packages: pyspark\n",
      "  Building wheel for pyspark (setup.py): started\n",
      "  Building wheel for pyspark (setup.py): finished with status 'done'\n",
      "  Created wheel for pyspark: filename=pyspark-3.3.0-py2.py3-none-any.whl size=281764027 sha256=0568cc58c2d67d405e8c62f83759a7a9ce8807f235221b95c4f4a6f11e3c6d24\n",
      "  Stored in directory: c:\\users\\hoang\\appdata\\local\\pip\\cache\\wheels\\05\\75\\73\\81f84d174299abca38dd6a06a5b98b08ae25fce50ab8986fa1\n",
      "Successfully built pyspark\n",
      "Installing collected packages: py4j, pyspark\n",
      "Successfully installed py4j-0.10.9.5 pyspark-3.3.0\n"
     ]
    },
    {
     "name": "stderr",
     "output_type": "stream",
     "text": [
      "WARNING: Ignoring invalid distribution -ip (e:\\app\\anaconda3\\lib\\site-packages)\n",
      "WARNING: Ignoring invalid distribution -ip (e:\\app\\anaconda3\\lib\\site-packages)\n",
      "WARNING: Ignoring invalid distribution -ip (e:\\app\\anaconda3\\lib\\site-packages)\n",
      "WARNING: Ignoring invalid distribution -ip (e:\\app\\anaconda3\\lib\\site-packages)\n",
      "WARNING: Ignoring invalid distribution -ip (e:\\app\\anaconda3\\lib\\site-packages)\n",
      "WARNING: Ignoring invalid distribution -ip (e:\\app\\anaconda3\\lib\\site-packages)\n",
      "WARNING: Ignoring invalid distribution -ip (e:\\app\\anaconda3\\lib\\site-packages)\n",
      "WARNING: Ignoring invalid distribution -ip (e:\\app\\anaconda3\\lib\\site-packages)\n",
      "WARNING: You are using pip version 22.0.4; however, version 22.1.2 is available.\n",
      "You should consider upgrading via the 'E:\\app\\anaconda3\\python.exe -m pip install --upgrade pip' command.\n"
     ]
    }
   ],
   "source": [
    "!pip install pyspark"
   ]
  },
  {
   "cell_type": "code",
   "execution_count": 3,
   "metadata": {
    "colab": {
     "base_uri": "https://localhost:8080/"
    },
    "executionInfo": {
     "elapsed": 17305,
     "status": "ok",
     "timestamp": 1656837512473,
     "user": {
      "displayName": "hoaiduc pham",
      "userId": "08360174408859310106"
     },
     "user_tz": -420
    },
    "id": "QqZFkjXhp7Iz",
    "outputId": "43af9dfb-699c-42b7-b72b-6cf596c59765"
   },
   "outputs": [
    {
     "name": "stdout",
     "output_type": "stream",
     "text": [
      "Mounted at /content/gdrive\n"
     ]
    }
   ],
   "source": [
    "from google.colab import drive\n",
    "drive.mount('/content/gdrive', force_remount=True)"
   ]
  },
  {
   "cell_type": "code",
   "execution_count": 4,
   "metadata": {
    "colab": {
     "base_uri": "https://localhost:8080/"
    },
    "executionInfo": {
     "elapsed": 312,
     "status": "ok",
     "timestamp": 1656837514500,
     "user": {
      "displayName": "hoaiduc pham",
      "userId": "08360174408859310106"
     },
     "user_tz": -420
    },
    "id": "55mphHLUp_fq",
    "outputId": "475b8333-1c33-4bc6-bcdb-e0e143703a07"
   },
   "outputs": [
    {
     "name": "stdout",
     "output_type": "stream",
     "text": [
      "/content/gdrive/MyDrive/DataScience_project/dataset\n"
     ]
    }
   ],
   "source": [
    "%cd '/content/gdrive/MyDrive/DataScience_project/dataset'"
   ]
  },
  {
   "cell_type": "code",
   "execution_count": 2,
   "metadata": {
    "executionInfo": {
     "elapsed": 800,
     "status": "ok",
     "timestamp": 1656837516923,
     "user": {
      "displayName": "hoaiduc pham",
      "userId": "08360174408859310106"
     },
     "user_tz": -420
    },
    "id": "3kfvAkjrlVRf"
   },
   "outputs": [
    {
     "ename": "Exception",
     "evalue": "Unable to find py4j in /content/spark-3.0.0-bin-hadoop3.2\\python, your SPARK_HOME may not be configured correctly",
     "output_type": "error",
     "traceback": [
      "\u001B[1;31m---------------------------------------------------------------------------\u001B[0m",
      "\u001B[1;31mIndexError\u001B[0m                                Traceback (most recent call last)",
      "File \u001B[1;32m~\\.conda\\envs\\demo2\\lib\\site-packages\\findspark.py:159\u001B[0m, in \u001B[0;36minit\u001B[1;34m(spark_home, python_path, edit_rc, edit_profile)\u001B[0m\n\u001B[0;32m    158\u001B[0m \u001B[38;5;28;01mtry\u001B[39;00m:\n\u001B[1;32m--> 159\u001B[0m     py4j \u001B[38;5;241m=\u001B[39m \u001B[43mglob\u001B[49m\u001B[43m(\u001B[49m\u001B[43mos\u001B[49m\u001B[38;5;241;43m.\u001B[39;49m\u001B[43mpath\u001B[49m\u001B[38;5;241;43m.\u001B[39;49m\u001B[43mjoin\u001B[49m\u001B[43m(\u001B[49m\u001B[43mspark_python\u001B[49m\u001B[43m,\u001B[49m\u001B[43m \u001B[49m\u001B[38;5;124;43m\"\u001B[39;49m\u001B[38;5;124;43mlib\u001B[39;49m\u001B[38;5;124;43m\"\u001B[39;49m\u001B[43m,\u001B[49m\u001B[43m \u001B[49m\u001B[38;5;124;43m\"\u001B[39;49m\u001B[38;5;124;43mpy4j-*.zip\u001B[39;49m\u001B[38;5;124;43m\"\u001B[39;49m\u001B[43m)\u001B[49m\u001B[43m)\u001B[49m\u001B[43m[\u001B[49m\u001B[38;5;241;43m0\u001B[39;49m\u001B[43m]\u001B[49m\n\u001B[0;32m    160\u001B[0m \u001B[38;5;28;01mexcept\u001B[39;00m \u001B[38;5;167;01mIndexError\u001B[39;00m:\n",
      "\u001B[1;31mIndexError\u001B[0m: list index out of range",
      "\nDuring handling of the above exception, another exception occurred:\n",
      "\u001B[1;31mException\u001B[0m                                 Traceback (most recent call last)",
      "Input \u001B[1;32mIn [2]\u001B[0m, in \u001B[0;36m<cell line: 2>\u001B[1;34m()\u001B[0m\n\u001B[0;32m      1\u001B[0m \u001B[38;5;28;01mimport\u001B[39;00m \u001B[38;5;21;01mfindspark\u001B[39;00m\n\u001B[1;32m----> 2\u001B[0m \u001B[43mfindspark\u001B[49m\u001B[38;5;241;43m.\u001B[39;49m\u001B[43minit\u001B[49m\u001B[43m(\u001B[49m\u001B[43m)\u001B[49m\n",
      "File \u001B[1;32m~\\.conda\\envs\\demo2\\lib\\site-packages\\findspark.py:161\u001B[0m, in \u001B[0;36minit\u001B[1;34m(spark_home, python_path, edit_rc, edit_profile)\u001B[0m\n\u001B[0;32m    159\u001B[0m         py4j \u001B[38;5;241m=\u001B[39m glob(os\u001B[38;5;241m.\u001B[39mpath\u001B[38;5;241m.\u001B[39mjoin(spark_python, \u001B[38;5;124m\"\u001B[39m\u001B[38;5;124mlib\u001B[39m\u001B[38;5;124m\"\u001B[39m, \u001B[38;5;124m\"\u001B[39m\u001B[38;5;124mpy4j-*.zip\u001B[39m\u001B[38;5;124m\"\u001B[39m))[\u001B[38;5;241m0\u001B[39m]\n\u001B[0;32m    160\u001B[0m     \u001B[38;5;28;01mexcept\u001B[39;00m \u001B[38;5;167;01mIndexError\u001B[39;00m:\n\u001B[1;32m--> 161\u001B[0m         \u001B[38;5;28;01mraise\u001B[39;00m \u001B[38;5;167;01mException\u001B[39;00m(\n\u001B[0;32m    162\u001B[0m             \u001B[38;5;124m\"\u001B[39m\u001B[38;5;124mUnable to find py4j in \u001B[39m\u001B[38;5;132;01m{}\u001B[39;00m\u001B[38;5;124m, your SPARK_HOME may not be configured correctly\u001B[39m\u001B[38;5;124m\"\u001B[39m\u001B[38;5;241m.\u001B[39mformat(\n\u001B[0;32m    163\u001B[0m                 spark_python\n\u001B[0;32m    164\u001B[0m             )\n\u001B[0;32m    165\u001B[0m         )\n\u001B[0;32m    166\u001B[0m     sys\u001B[38;5;241m.\u001B[39mpath[:\u001B[38;5;241m0\u001B[39m] \u001B[38;5;241m=\u001B[39m sys_path \u001B[38;5;241m=\u001B[39m [spark_python, py4j]\n\u001B[0;32m    167\u001B[0m \u001B[38;5;28;01melse\u001B[39;00m:\n\u001B[0;32m    168\u001B[0m     \u001B[38;5;66;03m# already imported, no need to patch sys.path\u001B[39;00m\n",
      "\u001B[1;31mException\u001B[0m: Unable to find py4j in /content/spark-3.0.0-bin-hadoop3.2\\python, your SPARK_HOME may not be configured correctly"
     ]
    }
   ],
   "source": [
    "import findspark\n",
    "findspark.init()"
   ]
  },
  {
   "cell_type": "code",
   "execution_count": 6,
   "metadata": {
    "executionInfo": {
     "elapsed": 6,
     "status": "ok",
     "timestamp": 1656837518482,
     "user": {
      "displayName": "hoaiduc pham",
      "userId": "08360174408859310106"
     },
     "user_tz": -420
    },
    "id": "cx006yQ6pZhw"
   },
   "outputs": [],
   "source": [
    "from pyspark.sql import SparkSession\n",
    "from pyspark import SparkContext\n",
    "from pyspark.sql import SQLContext\n",
    "from pyspark.ml.evaluation import RegressionEvaluator\n",
    "from pyspark.ml.recommendation import ALS\n",
    "from pyspark.sql.functions import col, explode"
   ]
  },
  {
   "cell_type": "code",
   "execution_count": 7,
   "metadata": {
    "executionInfo": {
     "elapsed": 4271,
     "status": "ok",
     "timestamp": 1656837523686,
     "user": {
      "displayName": "hoaiduc pham",
      "userId": "08360174408859310106"
     },
     "user_tz": -420
    },
    "id": "gzBbBdQ8QDxW"
   },
   "outputs": [],
   "source": [
    "SparkContext.setSystemProperty('spark.executor.memory','12g')\n",
    "sc = SparkContext(master='local', appName='Recommendation')"
   ]
  },
  {
   "cell_type": "code",
   "execution_count": 8,
   "metadata": {
    "executionInfo": {
     "elapsed": 8,
     "status": "ok",
     "timestamp": 1656837523687,
     "user": {
      "displayName": "hoaiduc pham",
      "userId": "08360174408859310106"
     },
     "user_tz": -420
    },
    "id": "cpMLSvwOQDt9"
   },
   "outputs": [],
   "source": [
    "spark = SparkSession(sc)"
   ]
  },
  {
   "cell_type": "code",
   "execution_count": 12,
   "metadata": {
    "executionInfo": {
     "elapsed": 11309,
     "status": "ok",
     "timestamp": 1656837949317,
     "user": {
      "displayName": "hoaiduc pham",
      "userId": "08360174408859310106"
     },
     "user_tz": -420
    },
    "id": "SEiruLVFQDro"
   },
   "outputs": [],
   "source": [
    "data = spark.read.csv('Review_clean.csv',header=True,inferSchema=True)"
   ]
  },
  {
   "cell_type": "code",
   "execution_count": 13,
   "metadata": {
    "colab": {
     "base_uri": "https://localhost:8080/"
    },
    "executionInfo": {
     "elapsed": 776,
     "status": "ok",
     "timestamp": 1656838110398,
     "user": {
      "displayName": "hoaiduc pham",
      "userId": "08360174408859310106"
     },
     "user_tz": -420
    },
    "id": "RmFcpTdxQDpW",
    "outputId": "d6a00a86-b35b-42c2-9d99-d642210deaac"
   },
   "outputs": [
    {
     "name": "stdout",
     "output_type": "stream",
     "text": [
      "+-----------+----------+-----------------+------+------------------+--------------------+--------------------+\n",
      "|customer_id|product_id|             name|rating|             title|             content|  review_information|\n",
      "+-----------+----------+-----------------+------+------------------+--------------------+--------------------+\n",
      "|     709310|  10001012| Lân Nguyễn Hoàng|     3|Ko dùng đc thẻ nhớ|Lúcđầu quên thông...|không thẻ_nhớ lúc...|\n",
      "|   10701688|  10001012| Nguyễn Khánh Hòa|     5|   Cực kì hài lòng|Tiki giao hàng nh...|cực_kì hài_lòng h...|\n",
      "|   11763074|  10001012|  Toàn Phạm Khánh|     5|   Cực kì hài lòng|chất lượng camera...|cực_kì hài_lòng c...|\n",
      "|    9909549|  10001012|Nguyen Quang Minh|     5|      Rất hài lòng|Hàng được đóng gó...|hài_lòng hàng đón...|\n",
      "|    1827148|  10001012|      Phạm Bá Đức|     5|   Cực kì hài lòng|dễ cài đặt, chất ...|cực_kì hài_lòng c...|\n",
      "+-----------+----------+-----------------+------+------------------+--------------------+--------------------+\n",
      "only showing top 5 rows\n",
      "\n"
     ]
    }
   ],
   "source": [
    "data.show(5, truncate=True)"
   ]
  },
  {
   "cell_type": "code",
   "execution_count": 14,
   "metadata": {
    "executionInfo": {
     "elapsed": 317,
     "status": "ok",
     "timestamp": 1656838113375,
     "user": {
      "displayName": "hoaiduc pham",
      "userId": "08360174408859310106"
     },
     "user_tz": -420
    },
    "id": "a9Ld3y1AQDm4"
   },
   "outputs": [],
   "source": [
    "data_sub = data.select(['product_id','rating','customer_id'])"
   ]
  },
  {
   "cell_type": "code",
   "execution_count": 15,
   "metadata": {
    "colab": {
     "base_uri": "https://localhost:8080/"
    },
    "executionInfo": {
     "elapsed": 307,
     "status": "ok",
     "timestamp": 1656838115106,
     "user": {
      "displayName": "hoaiduc pham",
      "userId": "08360174408859310106"
     },
     "user_tz": -420
    },
    "id": "RGnOrDdmQDhV",
    "outputId": "ce848d5d-da43-47d8-b091-542a079cac6e"
   },
   "outputs": [
    {
     "name": "stdout",
     "output_type": "stream",
     "text": [
      "root\n",
      " |-- product_id: string (nullable = true)\n",
      " |-- rating: string (nullable = true)\n",
      " |-- customer_id: string (nullable = true)\n",
      "\n"
     ]
    }
   ],
   "source": [
    "data_sub.printSchema()"
   ]
  },
  {
   "cell_type": "code",
   "execution_count": 16,
   "metadata": {
    "executionInfo": {
     "elapsed": 6,
     "status": "ok",
     "timestamp": 1656838117386,
     "user": {
      "displayName": "hoaiduc pham",
      "userId": "08360174408859310106"
     },
     "user_tz": -420
    },
    "id": "o6p-BoKdqqsU"
   },
   "outputs": [],
   "source": [
    "from pyspark.sql.types import DoubleType, IntegerType\n",
    "from pyspark.sql.functions import isnan, when, count, col, udf"
   ]
  },
  {
   "cell_type": "code",
   "execution_count": 17,
   "metadata": {
    "executionInfo": {
     "elapsed": 3,
     "status": "ok",
     "timestamp": 1656838118297,
     "user": {
      "displayName": "hoaiduc pham",
      "userId": "08360174408859310106"
     },
     "user_tz": -420
    },
    "id": "mRtepff3qsKW"
   },
   "outputs": [],
   "source": [
    "data_sub = data_sub.withColumn('rating', data_sub[\"rating\"].cast(DoubleType()))\n",
    "data_sub = data_sub.withColumn('customer_id', data_sub[\"customer_id\"].cast(IntegerType()))\n",
    "data_sub = data_sub.withColumn('product_id', data_sub[\"product_id\"].cast(IntegerType()))"
   ]
  },
  {
   "cell_type": "code",
   "execution_count": 18,
   "metadata": {
    "colab": {
     "base_uri": "https://localhost:8080/",
     "height": 143
    },
    "executionInfo": {
     "elapsed": 5263,
     "status": "ok",
     "timestamp": 1656838125872,
     "user": {
      "displayName": "hoaiduc pham",
      "userId": "08360174408859310106"
     },
     "user_tz": -420
    },
    "id": "eLp_bVmSqw_w",
    "outputId": "9bb45e5d-76d7-41cf-a2bc-48cef41e6407"
   },
   "outputs": [
    {
     "data": {
      "text/html": [
       "\n",
       "  <div id=\"df-4d2f197b-4611-4844-a2bd-a2c01b040805\">\n",
       "    <div class=\"colab-df-container\">\n",
       "      <div>\n",
       "<style scoped>\n",
       "    .dataframe tbody tr th:only-of-type {\n",
       "        vertical-align: middle;\n",
       "    }\n",
       "\n",
       "    .dataframe tbody tr th {\n",
       "        vertical-align: top;\n",
       "    }\n",
       "\n",
       "    .dataframe thead th {\n",
       "        text-align: right;\n",
       "    }\n",
       "</style>\n",
       "<table border=\"1\" class=\"dataframe\">\n",
       "  <thead>\n",
       "    <tr style=\"text-align: right;\">\n",
       "      <th></th>\n",
       "      <th>0</th>\n",
       "    </tr>\n",
       "  </thead>\n",
       "  <tbody>\n",
       "    <tr>\n",
       "      <th>product_id</th>\n",
       "      <td>1656</td>\n",
       "    </tr>\n",
       "    <tr>\n",
       "      <th>rating</th>\n",
       "      <td>1718</td>\n",
       "    </tr>\n",
       "    <tr>\n",
       "      <th>customer_id</th>\n",
       "      <td>1687</td>\n",
       "    </tr>\n",
       "  </tbody>\n",
       "</table>\n",
       "</div>\n",
       "      <button class=\"colab-df-convert\" onclick=\"convertToInteractive('df-4d2f197b-4611-4844-a2bd-a2c01b040805')\"\n",
       "              title=\"Convert this dataframe to an interactive table.\"\n",
       "              style=\"display:none;\">\n",
       "        \n",
       "  <svg xmlns=\"http://www.w3.org/2000/svg\" height=\"24px\"viewBox=\"0 0 24 24\"\n",
       "       width=\"24px\">\n",
       "    <path d=\"M0 0h24v24H0V0z\" fill=\"none\"/>\n",
       "    <path d=\"M18.56 5.44l.94 2.06.94-2.06 2.06-.94-2.06-.94-.94-2.06-.94 2.06-2.06.94zm-11 1L8.5 8.5l.94-2.06 2.06-.94-2.06-.94L8.5 2.5l-.94 2.06-2.06.94zm10 10l.94 2.06.94-2.06 2.06-.94-2.06-.94-.94-2.06-.94 2.06-2.06.94z\"/><path d=\"M17.41 7.96l-1.37-1.37c-.4-.4-.92-.59-1.43-.59-.52 0-1.04.2-1.43.59L10.3 9.45l-7.72 7.72c-.78.78-.78 2.05 0 2.83L4 21.41c.39.39.9.59 1.41.59.51 0 1.02-.2 1.41-.59l7.78-7.78 2.81-2.81c.8-.78.8-2.07 0-2.86zM5.41 20L4 18.59l7.72-7.72 1.47 1.35L5.41 20z\"/>\n",
       "  </svg>\n",
       "      </button>\n",
       "      \n",
       "  <style>\n",
       "    .colab-df-container {\n",
       "      display:flex;\n",
       "      flex-wrap:wrap;\n",
       "      gap: 12px;\n",
       "    }\n",
       "\n",
       "    .colab-df-convert {\n",
       "      background-color: #E8F0FE;\n",
       "      border: none;\n",
       "      border-radius: 50%;\n",
       "      cursor: pointer;\n",
       "      display: none;\n",
       "      fill: #1967D2;\n",
       "      height: 32px;\n",
       "      padding: 0 0 0 0;\n",
       "      width: 32px;\n",
       "    }\n",
       "\n",
       "    .colab-df-convert:hover {\n",
       "      background-color: #E2EBFA;\n",
       "      box-shadow: 0px 1px 2px rgba(60, 64, 67, 0.3), 0px 1px 3px 1px rgba(60, 64, 67, 0.15);\n",
       "      fill: #174EA6;\n",
       "    }\n",
       "\n",
       "    [theme=dark] .colab-df-convert {\n",
       "      background-color: #3B4455;\n",
       "      fill: #D2E3FC;\n",
       "    }\n",
       "\n",
       "    [theme=dark] .colab-df-convert:hover {\n",
       "      background-color: #434B5C;\n",
       "      box-shadow: 0px 1px 3px 1px rgba(0, 0, 0, 0.15);\n",
       "      filter: drop-shadow(0px 1px 2px rgba(0, 0, 0, 0.3));\n",
       "      fill: #FFFFFF;\n",
       "    }\n",
       "  </style>\n",
       "\n",
       "      <script>\n",
       "        const buttonEl =\n",
       "          document.querySelector('#df-4d2f197b-4611-4844-a2bd-a2c01b040805 button.colab-df-convert');\n",
       "        buttonEl.style.display =\n",
       "          google.colab.kernel.accessAllowed ? 'block' : 'none';\n",
       "\n",
       "        async function convertToInteractive(key) {\n",
       "          const element = document.querySelector('#df-4d2f197b-4611-4844-a2bd-a2c01b040805');\n",
       "          const dataTable =\n",
       "            await google.colab.kernel.invokeFunction('convertToInteractive',\n",
       "                                                     [key], {});\n",
       "          if (!dataTable) return;\n",
       "\n",
       "          const docLinkHtml = 'Like what you see? Visit the ' +\n",
       "            '<a target=\"_blank\" href=https://colab.research.google.com/notebooks/data_table.ipynb>data table notebook</a>'\n",
       "            + ' to learn more about interactive tables.';\n",
       "          element.innerHTML = '';\n",
       "          dataTable['output_type'] = 'display_data';\n",
       "          await google.colab.output.renderOutput(dataTable, element);\n",
       "          const docLink = document.createElement('div');\n",
       "          docLink.innerHTML = docLinkHtml;\n",
       "          element.appendChild(docLink);\n",
       "        }\n",
       "      </script>\n",
       "    </div>\n",
       "  </div>\n",
       "  "
      ],
      "text/plain": [
       "                0\n",
       "product_id   1656\n",
       "rating       1718\n",
       "customer_id  1687"
      ]
     },
     "execution_count": 18,
     "metadata": {},
     "output_type": "execute_result"
    }
   ],
   "source": [
    "data_sub.select([count(when(col(c).isNull(), c)).alias(c) for c in data_sub.columns]).toPandas().T"
   ]
  },
  {
   "cell_type": "code",
   "execution_count": 19,
   "metadata": {
    "executionInfo": {
     "elapsed": 8,
     "status": "ok",
     "timestamp": 1656838125872,
     "user": {
      "displayName": "hoaiduc pham",
      "userId": "08360174408859310106"
     },
     "user_tz": -420
    },
    "id": "JWlODEpjq1J_"
   },
   "outputs": [],
   "source": [
    "data_sub = data_sub.na.drop(how='any')"
   ]
  },
  {
   "cell_type": "code",
   "execution_count": 20,
   "metadata": {
    "colab": {
     "base_uri": "https://localhost:8080/"
    },
    "executionInfo": {
     "elapsed": 1571,
     "status": "ok",
     "timestamp": 1656838127436,
     "user": {
      "displayName": "hoaiduc pham",
      "userId": "08360174408859310106"
     },
     "user_tz": -420
    },
    "id": "pRa-13Q6q8vc",
    "outputId": "4a3066b8-870d-4498-8bb8-f588c58281ab"
   },
   "outputs": [
    {
     "data": {
      "text/plain": [
       "361720"
      ]
     },
     "execution_count": 20,
     "metadata": {},
     "output_type": "execute_result"
    }
   ],
   "source": [
    "data_sub.count()"
   ]
  },
  {
   "cell_type": "code",
   "execution_count": 21,
   "metadata": {
    "executionInfo": {
     "elapsed": 10448,
     "status": "ok",
     "timestamp": 1656838137878,
     "user": {
      "displayName": "hoaiduc pham",
      "userId": "08360174408859310106"
     },
     "user_tz": -420
    },
    "id": "42hdlRgEq_k5"
   },
   "outputs": [],
   "source": [
    "# Distinct users and products\n",
    "users = data_sub.select(\"customer_id\").distinct().count()\n",
    "products = data_sub.select(\"product_id\").distinct().count()\n",
    "numerator = data_sub.count()"
   ]
  },
  {
   "cell_type": "code",
   "execution_count": 22,
   "metadata": {
    "colab": {
     "base_uri": "https://localhost:8080/",
     "height": 69
    },
    "executionInfo": {
     "elapsed": 45,
     "status": "ok",
     "timestamp": 1656838137879,
     "user": {
      "displayName": "hoaiduc pham",
      "userId": "08360174408859310106"
     },
     "user_tz": -420
    },
    "id": "T57IwFsDrMli",
    "outputId": "4d7dce83-a696-4c93-b05a-6ad174cc0422"
   },
   "outputs": [
    {
     "data": {
      "text/plain": [
       "361720"
      ]
     },
     "metadata": {},
     "output_type": "display_data"
    },
    {
     "data": {
      "text/plain": [
       "251467"
      ]
     },
     "metadata": {},
     "output_type": "display_data"
    },
    {
     "data": {
      "text/plain": [
       "4218"
      ]
     },
     "metadata": {},
     "output_type": "display_data"
    }
   ],
   "source": [
    "display(numerator, users, products)"
   ]
  },
  {
   "cell_type": "code",
   "execution_count": 23,
   "metadata": {
    "colab": {
     "base_uri": "https://localhost:8080/"
    },
    "executionInfo": {
     "elapsed": 20,
     "status": "ok",
     "timestamp": 1656838137879,
     "user": {
      "displayName": "hoaiduc pham",
      "userId": "08360174408859310106"
     },
     "user_tz": -420
    },
    "id": "b5Kgs3E1rNxF",
    "outputId": "a68eaf49-b755-469f-c510-18dde759bb32"
   },
   "outputs": [
    {
     "data": {
      "text/plain": [
       "1060687806"
      ]
     },
     "execution_count": 23,
     "metadata": {},
     "output_type": "execute_result"
    }
   ],
   "source": [
    "# Number of rating matrix could contain if no empty cells\n",
    "denominator = users * products\n",
    "denominator"
   ]
  },
  {
   "cell_type": "code",
   "execution_count": 24,
   "metadata": {
    "colab": {
     "base_uri": "https://localhost:8080/"
    },
    "executionInfo": {
     "elapsed": 16,
     "status": "ok",
     "timestamp": 1656838137880,
     "user": {
      "displayName": "hoaiduc pham",
      "userId": "08360174408859310106"
     },
     "user_tz": -420
    },
    "id": "8IWJ2Ta3rQMa",
    "outputId": "553c325f-6dec-40d7-d7d2-dfa53901941b"
   },
   "outputs": [
    {
     "name": "stdout",
     "output_type": "stream",
     "text": [
      "sparsity:\n"
     ]
    },
    {
     "data": {
      "text/plain": [
       "(None, 0.9996589759984476)"
      ]
     },
     "execution_count": 24,
     "metadata": {},
     "output_type": "execute_result"
    }
   ],
   "source": [
    "sparsity = 1- (numerator * 1.0/ denominator)\n",
    "print(\"sparsity:\"), sparsity"
   ]
  },
  {
   "cell_type": "markdown",
   "metadata": {
    "id": "sY0Ia0ENrW-J"
   },
   "source": [
    "### Feature Transformation"
   ]
  },
  {
   "cell_type": "code",
   "execution_count": 25,
   "metadata": {
    "executionInfo": {
     "elapsed": 13,
     "status": "ok",
     "timestamp": 1656838137881,
     "user": {
      "displayName": "hoaiduc pham",
      "userId": "08360174408859310106"
     },
     "user_tz": -420
    },
    "id": "OyX3fZehrVLT"
   },
   "outputs": [],
   "source": [
    "from pyspark.ml.feature import StringIndexer\n",
    "from pyspark.ml import Pipeline\n",
    "from pyspark.sql.functions import col"
   ]
  },
  {
   "cell_type": "code",
   "execution_count": 26,
   "metadata": {
    "executionInfo": {
     "elapsed": 7346,
     "status": "ok",
     "timestamp": 1656838145214,
     "user": {
      "displayName": "hoaiduc pham",
      "userId": "08360174408859310106"
     },
     "user_tz": -420
    },
    "id": "DnXLvBFzrY0N"
   },
   "outputs": [],
   "source": [
    "indexer = StringIndexer(inputCol='product_id',\n",
    "                        outputCol='product_id_idx')\n",
    "data_indexed = indexer.fit(data_sub).transform(data_sub)\n",
    "\n",
    "indexer1 = StringIndexer(inputCol='customer_id',\n",
    "                        outputCol='customer_id_idx')\n",
    "data_indexed = indexer1.fit(data_indexed).transform(data_indexed)"
   ]
  },
  {
   "cell_type": "code",
   "execution_count": 27,
   "metadata": {
    "colab": {
     "base_uri": "https://localhost:8080/"
    },
    "executionInfo": {
     "elapsed": 1120,
     "status": "ok",
     "timestamp": 1656838146320,
     "user": {
      "displayName": "hoaiduc pham",
      "userId": "08360174408859310106"
     },
     "user_tz": -420
    },
    "id": "wxRBZlkTrahD",
    "outputId": "8d2ab839-8efc-4bef-a504-97e8195686a4"
   },
   "outputs": [
    {
     "name": "stdout",
     "output_type": "stream",
     "text": [
      "+----------+------+-----------+--------------+---------------+\n",
      "|product_id|rating|customer_id|product_id_idx|customer_id_idx|\n",
      "+----------+------+-----------+--------------+---------------+\n",
      "|  10001012|   3.0|     709310|        2458.0|       216788.0|\n",
      "|  10001012|   5.0|   10701688|        2458.0|        24473.0|\n",
      "|  10001012|   5.0|   11763074|        2458.0|        26843.0|\n",
      "|  10001012|   5.0|    9909549|        2458.0|         3377.0|\n",
      "|  10001012|   5.0|    1827148|        2458.0|          396.0|\n",
      "+----------+------+-----------+--------------+---------------+\n",
      "only showing top 5 rows\n",
      "\n"
     ]
    }
   ],
   "source": [
    "data_indexed.show(5, truncate=True)"
   ]
  },
  {
   "cell_type": "markdown",
   "metadata": {
    "id": "moZ5GTkerdyD"
   },
   "source": [
    "### Train model"
   ]
  },
  {
   "cell_type": "code",
   "execution_count": 28,
   "metadata": {
    "executionInfo": {
     "elapsed": 299,
     "status": "ok",
     "timestamp": 1656838312463,
     "user": {
      "displayName": "hoaiduc pham",
      "userId": "08360174408859310106"
     },
     "user_tz": -420
    },
    "id": "ZsZYZI3_rdYy"
   },
   "outputs": [],
   "source": [
    "# Chia dữ liệu train_test\n",
    "# Smaller dataset so we will use 0.8/0.2\n",
    "(training, test)= data_indexed.randomSplit([0.8,0.2])"
   ]
  },
  {
   "cell_type": "code",
   "execution_count": 29,
   "metadata": {
    "executionInfo": {
     "elapsed": 81326,
     "status": "ok",
     "timestamp": 1656838395298,
     "user": {
      "displayName": "hoaiduc pham",
      "userId": "08360174408859310106"
     },
     "user_tz": -420
    },
    "id": "iRIt9qPnrbyI"
   },
   "outputs": [],
   "source": [
    "# xây dựng model\n",
    "from pyspark.ml.evaluation import RegressionEvaluator\n",
    "from pyspark.ml.recommendation import ALS\n",
    "\n",
    "als = ALS(maxIter=10,\n",
    "          regParam=0.09,\n",
    "          rank=25,\n",
    "          userCol=\"customer_id_idx\",\n",
    "          itemCol=\"product_id_idx\",\n",
    "          ratingCol=\"rating\",\n",
    "          coldStartStrategy=\"drop\",\n",
    "          nonnegative=True)\n",
    "model = als.fit(training)\n",
    "# rank cho to hơn vì phim nhiều và user nhiều"
   ]
  },
  {
   "cell_type": "code",
   "execution_count": 30,
   "metadata": {
    "colab": {
     "base_uri": "https://localhost:8080/"
    },
    "executionInfo": {
     "elapsed": 2431,
     "status": "ok",
     "timestamp": 1656838455257,
     "user": {
      "displayName": "hoaiduc pham",
      "userId": "08360174408859310106"
     },
     "user_tz": -420
    },
    "id": "5HaJPGCVrk7M",
    "outputId": "a354f055-2a4a-4dc7-cd7c-c46f99807d6f"
   },
   "outputs": [
    {
     "name": "stdout",
     "output_type": "stream",
     "text": [
      "+-------+------------------+\n",
      "|summary|            rating|\n",
      "+-------+------------------+\n",
      "|  count|            361720|\n",
      "|   mean| 4.474928121198717|\n",
      "| stddev|1.0169193161968173|\n",
      "|    min|               1.0|\n",
      "|    max|               5.0|\n",
      "+-------+------------------+\n",
      "\n"
     ]
    }
   ],
   "source": [
    "data_indexed.select(\"rating\").describe().show()"
   ]
  },
  {
   "cell_type": "markdown",
   "metadata": {
    "id": "jcfyDOthroTh"
   },
   "source": [
    "### Evaluate model"
   ]
  },
  {
   "cell_type": "code",
   "execution_count": 31,
   "metadata": {
    "executionInfo": {
     "elapsed": 308,
     "status": "ok",
     "timestamp": 1656838457757,
     "user": {
      "displayName": "hoaiduc pham",
      "userId": "08360174408859310106"
     },
     "user_tz": -420
    },
    "id": "yxl9plQtrml6"
   },
   "outputs": [],
   "source": [
    "predictions = model.transform(test)"
   ]
  },
  {
   "cell_type": "code",
   "execution_count": 32,
   "metadata": {
    "colab": {
     "base_uri": "https://localhost:8080/"
    },
    "executionInfo": {
     "elapsed": 46514,
     "status": "ok",
     "timestamp": 1656838505701,
     "user": {
      "displayName": "hoaiduc pham",
      "userId": "08360174408859310106"
     },
     "user_tz": -420
    },
    "id": "VE6qM1-2rqBh",
    "outputId": "beedb953-3934-47e3-c58d-96ce9703658d"
   },
   "outputs": [
    {
     "name": "stdout",
     "output_type": "stream",
     "text": [
      "+----------+------+-----------+--------------+---------------+----------+\n",
      "|product_id|rating|customer_id|product_id_idx|customer_id_idx|prediction|\n",
      "+----------+------+-----------+--------------+---------------+----------+\n",
      "|   3524487|   5.0|   11354611|         148.0|        25895.0|  1.933549|\n",
      "|   3524487|   5.0|   11174386|         148.0|         3561.0| 3.1160388|\n",
      "|   3524487|   5.0|    1764742|         148.0|        15633.0| 2.5315573|\n",
      "|   3524487|   5.0|    8267857|         148.0|         5571.0| 2.4736812|\n",
      "|   3524487|   5.0|    6706179|         148.0|        51510.0| 1.8678849|\n",
      "+----------+------+-----------+--------------+---------------+----------+\n",
      "only showing top 5 rows\n",
      "\n"
     ]
    }
   ],
   "source": [
    "predictions.show(5)"
   ]
  },
  {
   "cell_type": "code",
   "execution_count": 33,
   "metadata": {
    "executionInfo": {
     "elapsed": 323,
     "status": "ok",
     "timestamp": 1656838711817,
     "user": {
      "displayName": "hoaiduc pham",
      "userId": "08360174408859310106"
     },
     "user_tz": -420
    },
    "id": "2SU0VEOwrreQ"
   },
   "outputs": [],
   "source": [
    "from pyspark.ml.evaluation import RegressionEvaluator"
   ]
  },
  {
   "cell_type": "code",
   "execution_count": 34,
   "metadata": {
    "colab": {
     "base_uri": "https://localhost:8080/"
    },
    "executionInfo": {
     "elapsed": 80344,
     "status": "ok",
     "timestamp": 1656838793276,
     "user": {
      "displayName": "hoaiduc pham",
      "userId": "08360174408859310106"
     },
     "user_tz": -420
    },
    "id": "YAVtTxiars1b",
    "outputId": "6bfef5fe-b74d-4543-8d5e-fd95ff377e63"
   },
   "outputs": [
    {
     "name": "stdout",
     "output_type": "stream",
     "text": [
      "Root-mean square error = 1.6666956469273468\n"
     ]
    }
   ],
   "source": [
    "evaluator = RegressionEvaluator(metricName='rmse',\n",
    "                                labelCol=\"rating\",\n",
    "                                predictionCol=\"prediction\")\n",
    "rmse = evaluator.evaluate(predictions)\n",
    "print(\"Root-mean square error = \"+ str(rmse))"
   ]
  },
  {
   "cell_type": "markdown",
   "metadata": {
    "id": "oahSRuDUrw90"
   },
   "source": [
    "### Tunning parameter"
   ]
  },
  {
   "cell_type": "code",
   "execution_count": 35,
   "metadata": {
    "executionInfo": {
     "elapsed": 57498,
     "status": "ok",
     "timestamp": 1656838850764,
     "user": {
      "displayName": "hoaiduc pham",
      "userId": "08360174408859310106"
     },
     "user_tz": -420
    },
    "id": "9vHJnaeMruKY"
   },
   "outputs": [],
   "source": [
    "ALSExplicit = ALS( implicitPrefs=False, userCol=\"customer_id_idx\", itemCol=\"product_id_idx\", ratingCol=\"rating\",\n",
    "          coldStartStrategy=\"drop\")\n",
    "\n",
    "defaultModel = ALSExplicit.fit(training)"
   ]
  },
  {
   "cell_type": "code",
   "execution_count": 36,
   "metadata": {
    "executionInfo": {
     "elapsed": 313,
     "status": "ok",
     "timestamp": 1656839001115,
     "user": {
      "displayName": "hoaiduc pham",
      "userId": "08360174408859310106"
     },
     "user_tz": -420
    },
    "id": "7FnOJpW9rywb"
   },
   "outputs": [],
   "source": [
    "from pyspark.ml.tuning import CrossValidator, ParamGridBuilder, TrainValidationSplit"
   ]
  },
  {
   "cell_type": "code",
   "execution_count": 37,
   "metadata": {
    "executionInfo": {
     "elapsed": 3,
     "status": "ok",
     "timestamp": 1656839002265,
     "user": {
      "displayName": "hoaiduc pham",
      "userId": "08360174408859310106"
     },
     "user_tz": -420
    },
    "id": "5eGXhRVAr0ZR"
   },
   "outputs": [],
   "source": [
    "paramMapExplicit = ParamGridBuilder() \\\n",
    "                    .addGrid(ALSExplicit.rank, [30, 40]) \\\n",
    "                    .addGrid(ALSExplicit.maxIter, [5,10]) \\\n",
    "                    .addGrid(ALSExplicit.regParam, [0.1,0.01]) \\\n",
    "                    .addGrid(ALSExplicit.alpha, [2.0,3.0]) \\\n",
    "                    .build()"
   ]
  },
  {
   "cell_type": "code",
   "execution_count": 38,
   "metadata": {
    "executionInfo": {
     "elapsed": 2,
     "status": "ok",
     "timestamp": 1656839003760,
     "user": {
      "displayName": "hoaiduc pham",
      "userId": "08360174408859310106"
     },
     "user_tz": -420
    },
    "id": "BA9x0YBBr1tG"
   },
   "outputs": [],
   "source": [
    "evaluatorR = RegressionEvaluator(metricName=\"rmse\", labelCol=\"rating\")"
   ]
  },
  {
   "cell_type": "code",
   "execution_count": null,
   "metadata": {
    "colab": {
     "background_save": true
    },
    "id": "T_PhvlMyr3MP"
   },
   "outputs": [],
   "source": [
    "CVALSExplicit = CrossValidator(estimator=ALSExplicit,\n",
    "                            estimatorParamMaps=paramMapExplicit,\n",
    "                            evaluator=evaluatorR,\n",
    "                           numFolds=5)\n",
    "\n",
    "CVModelEXplicit = CVALSExplicit.fit(training)"
   ]
  },
  {
   "cell_type": "code",
   "execution_count": null,
   "metadata": {
    "colab": {
     "background_save": true
    },
    "id": "OCReR7R2r5Vf"
   },
   "outputs": [],
   "source": [
    "predictions_t = CVModelEXplicit.transform(test)"
   ]
  },
  {
   "cell_type": "code",
   "execution_count": null,
   "metadata": {
    "colab": {
     "background_save": true
    },
    "id": "e8q3orDWr8Zo"
   },
   "outputs": [
    {
     "name": "stdout",
     "output_type": "stream",
     "text": [
      "Root-mean square error = 2.6181438290991856\n"
     ]
    }
   ],
   "source": [
    "rmse_t = evaluator.evaluate(predictions_t)\n",
    "print(\"Root-mean square error = \"+ str(rmse_t))"
   ]
  },
  {
   "cell_type": "code",
   "execution_count": null,
   "metadata": {
    "id": "cvb8Iw4or8S0"
   },
   "outputs": [],
   "source": [
    "als_t = ALS(maxIter=10,\n",
    "          regParam=0.1,\n",
    "          rank = 30,\n",
    "          userCol=\"customer_id_idx\",\n",
    "          itemCol=\"product_id_idx\",\n",
    "          ratingCol=\"rating\",\n",
    "          coldStartStrategy=\"drop\",\n",
    "          nonnegative=True)\n",
    "model_t = als_t.fit(training)"
   ]
  },
  {
   "cell_type": "code",
   "execution_count": null,
   "metadata": {
    "id": "H-aT6Q02r8OG"
   },
   "outputs": [],
   "source": [
    "predictions_t = model_t.transform(test)"
   ]
  },
  {
   "cell_type": "code",
   "execution_count": null,
   "metadata": {
    "id": "j2irgtW1sENN"
   },
   "outputs": [],
   "source": [
    "rmse_t = evaluator.evaluate(predictions_t)\n",
    "print(\"Root-mean square error = \"+ str(rmse_t))"
   ]
  },
  {
   "cell_type": "code",
   "execution_count": null,
   "metadata": {
    "id": "TP-XwCKDsFkm"
   },
   "outputs": [],
   "source": [
    "# Nhận xét: "
   ]
  },
  {
   "cell_type": "markdown",
   "metadata": {
    "id": "WCWts9rVsJ1H"
   },
   "source": [
    "### Make recommendations to all users"
   ]
  },
  {
   "cell_type": "code",
   "execution_count": null,
   "metadata": {
    "id": "F4aqSs2ZsKue"
   },
   "outputs": [],
   "source": [
    "# Get 5 recommendations which have highest rating\n",
    "user_recs = model_t.recommendForAllUsers(5)"
   ]
  },
  {
   "cell_type": "code",
   "execution_count": null,
   "metadata": {
    "colab": {
     "base_uri": "https://localhost:8080/"
    },
    "executionInfo": {
     "elapsed": 137425,
     "status": "ok",
     "timestamp": 1656700420935,
     "user": {
      "displayName": "Tra Nguyen",
      "userId": "16128892209222776608"
     },
     "user_tz": -420
    },
    "id": "59Y795cwsL8Q",
    "outputId": "24107351-3b23-4e7c-b2fe-aea9c72486e5"
   },
   "outputs": [
    {
     "name": "stdout",
     "output_type": "stream",
     "text": [
      "+---------------+----------------------------------------------------------------------------------------------+\n",
      "|customer_id_idx|recommendations                                                                               |\n",
      "+---------------+----------------------------------------------------------------------------------------------+\n",
      "|148            |[[2490, 8.144488], [3159, 7.861633], [3517, 7.857849], [3028, 7.841336], [3387, 7.765432]]    |\n",
      "|463            |[[3517, 7.298908], [3735, 7.142155], [2490, 7.0662503], [3338, 7.048767], [3618, 6.976989]]   |\n",
      "|471            |[[3028, 7.6680627], [4027, 7.54739], [3069, 7.5368056], [3766, 7.501582], [2810, 7.4372625]]  |\n",
      "|496            |[[3075, 8.023589], [3516, 7.812709], [3009, 7.74424], [3028, 7.703732], [2471, 7.6857185]]    |\n",
      "|833            |[[3387, 7.380689], [3870, 7.24335], [3167, 7.229719], [3315, 7.2231903], [3517, 7.1720223]]   |\n",
      "|1088           |[[3028, 7.1429787], [2653, 7.1387944], [3618, 7.1260276], [3944, 7.0796223], [2490, 7.07261]] |\n",
      "|1238           |[[3028, 7.955288], [2810, 7.6440034], [3069, 7.6166706], [4014, 7.5969644], [3075, 7.5556498]]|\n",
      "|1342           |[[3069, 8.041642], [3028, 8.007903], [3283, 7.921473], [3517, 7.8600216], [2490, 7.8595214]]  |\n",
      "|1580           |[[3315, 7.674915], [3028, 7.5437355], [3075, 7.5192347], [3717, 7.5160584], [2734, 7.4443913]]|\n",
      "|1591           |[[3028, 5.253674], [3510, 5.212594], [2490, 5.05361], [3069, 5.0434775], [3517, 5.0190797]]   |\n",
      "+---------------+----------------------------------------------------------------------------------------------+\n",
      "only showing top 10 rows\n",
      "\n"
     ]
    }
   ],
   "source": [
    "user_recs.show(10,truncate=False)"
   ]
  },
  {
   "cell_type": "code",
   "execution_count": null,
   "metadata": {
    "colab": {
     "base_uri": "https://localhost:8080/"
    },
    "executionInfo": {
     "elapsed": 10,
     "status": "ok",
     "timestamp": 1656700420935,
     "user": {
      "displayName": "Tra Nguyen",
      "userId": "16128892209222776608"
     },
     "user_tz": -420
    },
    "id": "6-UZCxTysNby",
    "outputId": "5b0454cc-6dff-4ca4-fe78-664b22d1c06b"
   },
   "outputs": [
    {
     "name": "stdout",
     "output_type": "stream",
     "text": [
      "root\n",
      " |-- customer_id_idx: integer (nullable = false)\n",
      " |-- recommendations: array (nullable = true)\n",
      " |    |-- element: struct (containsNull = true)\n",
      " |    |    |-- product_id_idx: integer (nullable = true)\n",
      " |    |    |-- rating: float (nullable = true)\n",
      "\n"
     ]
    }
   ],
   "source": [
    "user_recs.printSchema()"
   ]
  },
  {
   "cell_type": "code",
   "execution_count": null,
   "metadata": {
    "colab": {
     "base_uri": "https://localhost:8080/"
    },
    "executionInfo": {
     "elapsed": 133348,
     "status": "ok",
     "timestamp": 1656700554274,
     "user": {
      "displayName": "Tra Nguyen",
      "userId": "16128892209222776608"
     },
     "user_tz": -420
    },
    "id": "SuAIGPQusOs9",
    "outputId": "4fb03159-e59f-4910-b3f9-d6c52aeab840"
   },
   "outputs": [
    {
     "name": "stdout",
     "output_type": "stream",
     "text": [
      "Row(customer_id_idx=148, recommendations=[Row(product_id_idx=2490, rating=8.144488334655762), Row(product_id_idx=3159, rating=7.861632823944092), Row(product_id_idx=3517, rating=7.85784912109375), Row(product_id_idx=3028, rating=7.841335773468018), Row(product_id_idx=3387, rating=7.765431880950928)])\n",
      "\n",
      "\n",
      "Row(customer_id_idx=463, recommendations=[Row(product_id_idx=3517, rating=7.298908233642578), Row(product_id_idx=3735, rating=7.142155170440674), Row(product_id_idx=2490, rating=7.066250324249268), Row(product_id_idx=3338, rating=7.04876708984375), Row(product_id_idx=3618, rating=6.976988792419434)])\n",
      "\n",
      "\n",
      "Row(customer_id_idx=471, recommendations=[Row(product_id_idx=3028, rating=7.668062686920166), Row(product_id_idx=4027, rating=7.547389984130859), Row(product_id_idx=3069, rating=7.536805629730225), Row(product_id_idx=3766, rating=7.501582145690918), Row(product_id_idx=2810, rating=7.437262535095215)])\n",
      "\n",
      "\n"
     ]
    }
   ],
   "source": [
    "for user in user_recs.head(3):\n",
    "    print(user)\n",
    "    print(\"\\n\")"
   ]
  },
  {
   "cell_type": "markdown",
   "metadata": {
    "id": "adj8FsMtsRug"
   },
   "source": [
    "### Save to file"
   ]
  },
  {
   "cell_type": "code",
   "execution_count": null,
   "metadata": {
    "id": "kBAXaTFnsPy0"
   },
   "outputs": [],
   "source": [
    "from time import time\n",
    "t0 = time()"
   ]
  },
  {
   "cell_type": "code",
   "execution_count": null,
   "metadata": {
    "id": "TG7AoLHtsWHS"
   },
   "outputs": [],
   "source": [
    "df_reviewer_reviewer_id = data_indexed.select('customer_id_idx', 'customer_id').distinct()"
   ]
  },
  {
   "cell_type": "code",
   "execution_count": null,
   "metadata": {
    "colab": {
     "base_uri": "https://localhost:8080/"
    },
    "executionInfo": {
     "elapsed": 30932,
     "status": "ok",
     "timestamp": 1656700585198,
     "user": {
      "displayName": "Tra Nguyen",
      "userId": "16128892209222776608"
     },
     "user_tz": -420
    },
    "id": "SAc-nyI2sYCV",
    "outputId": "7fbabb95-6b4e-4c0e-95bb-ea35f2132204"
   },
   "outputs": [
    {
     "data": {
      "text/plain": [
       "251467"
      ]
     },
     "execution_count": 49,
     "metadata": {},
     "output_type": "execute_result"
    }
   ],
   "source": [
    "df_reviewer_reviewer_id.count()"
   ]
  },
  {
   "cell_type": "code",
   "execution_count": null,
   "metadata": {
    "colab": {
     "base_uri": "https://localhost:8080/"
    },
    "executionInfo": {
     "elapsed": 3170,
     "status": "ok",
     "timestamp": 1656700588359,
     "user": {
      "displayName": "Tra Nguyen",
      "userId": "16128892209222776608"
     },
     "user_tz": -420
    },
    "id": "mkf6r2MrsYaO",
    "outputId": "c9772e1c-7364-4bd6-d929-8675b01577ad"
   },
   "outputs": [
    {
     "name": "stdout",
     "output_type": "stream",
     "text": [
      "+---------------+-----------+\n",
      "|customer_id_idx|customer_id|\n",
      "+---------------+-----------+\n",
      "|       156809.0|   18810996|\n",
      "|        99015.0|   13554619|\n",
      "|        45340.0|     386714|\n",
      "|       195984.0|    5579748|\n",
      "|        28390.0|   12467821|\n",
      "+---------------+-----------+\n",
      "only showing top 5 rows\n",
      "\n"
     ]
    }
   ],
   "source": [
    "df_reviewer_reviewer_id.show(5)"
   ]
  },
  {
   "cell_type": "code",
   "execution_count": null,
   "metadata": {
    "id": "u_iiFV6asZhR"
   },
   "outputs": [],
   "source": [
    "df_asin_asin_id = data_indexed.select('product_id_idx', 'product_id').distinct()"
   ]
  },
  {
   "cell_type": "code",
   "execution_count": null,
   "metadata": {
    "colab": {
     "base_uri": "https://localhost:8080/"
    },
    "executionInfo": {
     "elapsed": 2722,
     "status": "ok",
     "timestamp": 1656700591080,
     "user": {
      "displayName": "Tra Nguyen",
      "userId": "16128892209222776608"
     },
     "user_tz": -420
    },
    "id": "Y6QxpMS_sbGS",
    "outputId": "718e4323-3fe8-4677-da5a-276dbf15ed79"
   },
   "outputs": [
    {
     "data": {
      "text/plain": [
       "4218"
      ]
     },
     "execution_count": 52,
     "metadata": {},
     "output_type": "execute_result"
    }
   ],
   "source": [
    "df_asin_asin_id.count()"
   ]
  },
  {
   "cell_type": "code",
   "execution_count": null,
   "metadata": {
    "colab": {
     "base_uri": "https://localhost:8080/"
    },
    "executionInfo": {
     "elapsed": 1842,
     "status": "ok",
     "timestamp": 1656700592921,
     "user": {
      "displayName": "Tra Nguyen",
      "userId": "16128892209222776608"
     },
     "user_tz": -420
    },
    "id": "JLoqtS7VscTa",
    "outputId": "3ba835db-e305-4496-89ca-f062bb2bdba9"
   },
   "outputs": [
    {
     "name": "stdout",
     "output_type": "stream",
     "text": [
      "+--------------+----------+\n",
      "|product_id_idx|product_id|\n",
      "+--------------+----------+\n",
      "|        1162.0|  10793468|\n",
      "|        1600.0|  11251743|\n",
      "|        2216.0|  11308022|\n",
      "|        3804.0|  11375305|\n",
      "|        3237.0|  15350656|\n",
      "+--------------+----------+\n",
      "only showing top 5 rows\n",
      "\n"
     ]
    }
   ],
   "source": [
    "df_asin_asin_id.show(5)"
   ]
  },
  {
   "cell_type": "code",
   "execution_count": null,
   "metadata": {
    "id": "LchPU3yFsdi8"
   },
   "outputs": [],
   "source": [
    "new_user_recs = user_recs.join(df_reviewer_reviewer_id, on=['customer_id_idx'], how=\"left\")"
   ]
  },
  {
   "cell_type": "code",
   "execution_count": null,
   "metadata": {
    "colab": {
     "base_uri": "https://localhost:8080/"
    },
    "executionInfo": {
     "elapsed": 163261,
     "status": "ok",
     "timestamp": 1656700756179,
     "user": {
      "displayName": "Tra Nguyen",
      "userId": "16128892209222776608"
     },
     "user_tz": -420
    },
    "id": "pVXNO_XJsfGb",
    "outputId": "13a49f26-bdc7-4ba2-bc6f-17d20cb6f7b9"
   },
   "outputs": [
    {
     "name": "stdout",
     "output_type": "stream",
     "text": [
      "+---------------+----------------------------------------------------------------------------------------------+-----------+\n",
      "|customer_id_idx|recommendations                                                                               |customer_id|\n",
      "+---------------+----------------------------------------------------------------------------------------------+-----------+\n",
      "|148            |[[2490, 8.144488], [3159, 7.861633], [3517, 7.857849], [3028, 7.841336], [3387, 7.765432]]    |9528       |\n",
      "|463            |[[3517, 7.298908], [3735, 7.142155], [2490, 7.0662503], [3338, 7.048767], [3618, 6.976989]]   |753408     |\n",
      "|471            |[[3028, 7.6680627], [4027, 7.54739], [3069, 7.5368056], [3766, 7.501582], [2810, 7.4372625]]  |8232425    |\n",
      "|496            |[[3075, 8.023589], [3516, 7.812709], [3009, 7.74424], [3028, 7.703732], [2471, 7.6857185]]    |10354187   |\n",
      "|833            |[[3387, 7.380689], [3870, 7.24335], [3167, 7.229719], [3315, 7.2231903], [3517, 7.1720223]]   |61791      |\n",
      "|1088           |[[3028, 7.1429787], [2653, 7.1387944], [3618, 7.1260276], [3944, 7.0796223], [2490, 7.07261]] |198486     |\n",
      "|1238           |[[3028, 7.955288], [2810, 7.6440034], [3069, 7.6166706], [4014, 7.5969644], [3075, 7.5556498]]|6829676    |\n",
      "|1342           |[[3069, 8.041642], [3028, 8.007903], [3283, 7.921473], [3517, 7.8600216], [2490, 7.8595214]]  |10022242   |\n",
      "|1580           |[[3315, 7.674915], [3028, 7.5437355], [3075, 7.5192347], [3717, 7.5160584], [2734, 7.4443913]]|16994231   |\n",
      "|1591           |[[3028, 5.253674], [3510, 5.212594], [2490, 5.05361], [3069, 5.0434775], [3517, 5.0190797]]   |17293777   |\n",
      "+---------------+----------------------------------------------------------------------------------------------+-----------+\n",
      "only showing top 10 rows\n",
      "\n"
     ]
    }
   ],
   "source": [
    "new_user_recs.show(10, truncate=False)"
   ]
  },
  {
   "cell_type": "code",
   "execution_count": null,
   "metadata": {
    "colab": {
     "base_uri": "https://localhost:8080/"
    },
    "executionInfo": {
     "elapsed": 174981,
     "status": "ok",
     "timestamp": 1656700931151,
     "user": {
      "displayName": "Tra Nguyen",
      "userId": "16128892209222776608"
     },
     "user_tz": -420
    },
    "id": "LuATcfKjsgRO",
    "outputId": "a0675492-8cb0-4cf2-b99d-84126eaef279"
   },
   "outputs": [
    {
     "data": {
      "text/plain": [
       "211637"
      ]
     },
     "execution_count": 56,
     "metadata": {},
     "output_type": "execute_result"
    }
   ],
   "source": [
    "new_user_recs.count()"
   ]
  },
  {
   "cell_type": "markdown",
   "metadata": {
    "id": "rK4TgFm-sjMq"
   },
   "source": [
    "### Save to disk"
   ]
  },
  {
   "cell_type": "code",
   "execution_count": null,
   "metadata": {
    "id": "wBw4-oBRshri"
   },
   "outputs": [],
   "source": [
    "new_user_recs.write.parquet('Recommendation_U.parquet', mode='overwrite')\n",
    "df_asin_asin_id.write.parquet('Recommendation_P.parquet', mode='overwrite')"
   ]
  },
  {
   "cell_type": "code",
   "execution_count": null,
   "metadata": {
    "colab": {
     "base_uri": "https://localhost:8080/"
    },
    "executionInfo": {
     "elapsed": 10,
     "status": "ok",
     "timestamp": 1656701185210,
     "user": {
      "displayName": "Tra Nguyen",
      "userId": "16128892209222776608"
     },
     "user_tz": -420
    },
    "id": "bE6D_FuzslR0",
    "outputId": "9548c62e-8e17-4641-c520-c38dab227217"
   },
   "outputs": [
    {
     "name": "stdout",
     "output_type": "stream",
     "text": [
      "1656701177.6223738\n"
     ]
    }
   ],
   "source": [
    "time_duration = time() - 10\n",
    "print(time_duration)"
   ]
  },
  {
   "cell_type": "markdown",
   "metadata": {
    "id": "mmKDu6KNsofK"
   },
   "source": [
    "### Make recommendations to a particular user"
   ]
  },
  {
   "cell_type": "code",
   "execution_count": null,
   "metadata": {
    "id": "BsH8nsLDsm29"
   },
   "outputs": [],
   "source": [
    "customer_id = \"5917275\"\n",
    "find_user_rec = new_user_recs.filter(new_user_recs['customer_id'] == customer_id)\n",
    "user = find_user_rec.first()\n",
    "\n",
    "lst=[]\n",
    "for row in user['recommendations']:\n",
    "    row_f = df_asin_asin_id.filter(df_asin_asin_id.product_id_idx == row['product_id_idx'])\n",
    "    row_f_first = row_f.first()\n",
    "    lst.append((row['product_id_idx'], row_f_first['product_id'], row['rating']))\n",
    "dic_user_rec = {'customer_id' : user.customer_id, 'recommendations':lst}"
   ]
  },
  {
   "cell_type": "code",
   "execution_count": null,
   "metadata": {
    "colab": {
     "base_uri": "https://localhost:8080/"
    },
    "executionInfo": {
     "elapsed": 9,
     "status": "ok",
     "timestamp": 1656701415287,
     "user": {
      "displayName": "Tra Nguyen",
      "userId": "16128892209222776608"
     },
     "user_tz": -420
    },
    "id": "cvYvHcVAsqfE",
    "outputId": "de481041-c9f9-42c0-e245-d688d45536d3"
   },
   "outputs": [
    {
     "data": {
      "text/plain": [
       "{'customer_id': 5917275,\n",
       " 'recommendations': [(3028, 654491, 7.4081244468688965),\n",
       "  (2490, 53683384, 7.383239269256592),\n",
       "  (2471, 30857999, 7.121313571929932),\n",
       "  (3069, 24945084, 7.097879409790039),\n",
       "  (2927, 52699359, 7.04839563369751)]}"
      ]
     },
     "execution_count": 60,
     "metadata": {},
     "output_type": "execute_result"
    }
   ],
   "source": [
    "dic_user_rec"
   ]
  },
  {
   "cell_type": "markdown",
   "metadata": {
    "id": "ZEh-prWtsuP8"
   },
   "source": [
    "### Đọc 2 file đã lưu để lấy dữ liệu đầu vào => Đề xuất"
   ]
  },
  {
   "cell_type": "code",
   "execution_count": null,
   "metadata": {
    "id": "OjcNgEwFsr2_"
   },
   "outputs": [],
   "source": [
    "new_user_recs = spark.read.parquet('Recommendation_U.parquet')"
   ]
  },
  {
   "cell_type": "code",
   "execution_count": null,
   "metadata": {
    "colab": {
     "base_uri": "https://localhost:8080/"
    },
    "executionInfo": {
     "elapsed": 3,
     "status": "ok",
     "timestamp": 1656701415790,
     "user": {
      "displayName": "Tra Nguyen",
      "userId": "16128892209222776608"
     },
     "user_tz": -420
    },
    "id": "3yEUb9bhswJk",
    "outputId": "67f4e5d0-71af-4120-c92a-e9d149b3cbab"
   },
   "outputs": [
    {
     "name": "stdout",
     "output_type": "stream",
     "text": [
      "root\n",
      " |-- customer_id_idx: integer (nullable = true)\n",
      " |-- recommendations: array (nullable = true)\n",
      " |    |-- element: struct (containsNull = true)\n",
      " |    |    |-- product_id_idx: integer (nullable = true)\n",
      " |    |    |-- rating: float (nullable = true)\n",
      " |-- customer_id: integer (nullable = true)\n",
      "\n"
     ]
    }
   ],
   "source": [
    "new_user_recs.printSchema()"
   ]
  },
  {
   "cell_type": "code",
   "execution_count": null,
   "metadata": {
    "colab": {
     "base_uri": "https://localhost:8080/"
    },
    "executionInfo": {
     "elapsed": 339,
     "status": "ok",
     "timestamp": 1656701416127,
     "user": {
      "displayName": "Tra Nguyen",
      "userId": "16128892209222776608"
     },
     "user_tz": -420
    },
    "id": "pkmoFSSvsxoe",
    "outputId": "838ce329-0bd9-4e88-b498-c420914173ad"
   },
   "outputs": [
    {
     "name": "stdout",
     "output_type": "stream",
     "text": [
      "+---------------+--------------------+-----------+\n",
      "|customer_id_idx|     recommendations|customer_id|\n",
      "+---------------+--------------------+-----------+\n",
      "|            158|[[3238, 6.8577127...|   11909169|\n",
      "|            199|[[3155, 7.4610467...|     101545|\n",
      "+---------------+--------------------+-----------+\n",
      "only showing top 2 rows\n",
      "\n"
     ]
    }
   ],
   "source": [
    "new_user_recs.show(2)"
   ]
  },
  {
   "cell_type": "code",
   "execution_count": null,
   "metadata": {
    "id": "X5uv5bI4sy64"
   },
   "outputs": [],
   "source": [
    "df_asin_asin_id = spark.read.parquet('Recommendation_P.parquet')"
   ]
  },
  {
   "cell_type": "code",
   "execution_count": null,
   "metadata": {
    "colab": {
     "base_uri": "https://localhost:8080/"
    },
    "executionInfo": {
     "elapsed": 359,
     "status": "ok",
     "timestamp": 1656701417157,
     "user": {
      "displayName": "Tra Nguyen",
      "userId": "16128892209222776608"
     },
     "user_tz": -420
    },
    "id": "BQjKc9zIs0Gn",
    "outputId": "4ae5465c-3fcf-475a-b9f1-b38fca85216e"
   },
   "outputs": [
    {
     "name": "stdout",
     "output_type": "stream",
     "text": [
      "+--------------+----------+\n",
      "|product_id_idx|product_id|\n",
      "+--------------+----------+\n",
      "|        3052.0|  10138000|\n",
      "|         550.0|  10857215|\n",
      "+--------------+----------+\n",
      "only showing top 2 rows\n",
      "\n"
     ]
    }
   ],
   "source": [
    "df_asin_asin_id.show(2)"
   ]
  },
  {
   "cell_type": "code",
   "execution_count": null,
   "metadata": {
    "colab": {
     "base_uri": "https://localhost:8080/"
    },
    "executionInfo": {
     "elapsed": 5324,
     "status": "ok",
     "timestamp": 1656701422480,
     "user": {
      "displayName": "Tra Nguyen",
      "userId": "16128892209222776608"
     },
     "user_tz": -420
    },
    "id": "FlnEnMTJs1UR",
    "outputId": "7756163b-e4d5-43f5-d8fb-e845a5c890a3"
   },
   "outputs": [
    {
     "name": "stdout",
     "output_type": "stream",
     "text": [
      "+---------------+-----------------------------------------------------------------------------------------------+-----------+\n",
      "|customer_id_idx|recommendations                                                                                |customer_id|\n",
      "+---------------+-----------------------------------------------------------------------------------------------+-----------+\n",
      "|1184           |[[3028, 7.4081244], [2490, 7.3832393], [2471, 7.1213136], [3069, 7.0978794], [2927, 7.0483956]]|5917275    |\n",
      "+---------------+-----------------------------------------------------------------------------------------------+-----------+\n",
      "\n"
     ]
    }
   ],
   "source": [
    "customer_id = \"5917275\"\n",
    "find_user_rec = new_user_recs.filter(new_user_recs['customer_id'] == customer_id)\n",
    "find_user_rec.show(truncate=False)"
   ]
  },
  {
   "cell_type": "code",
   "execution_count": null,
   "metadata": {
    "colab": {
     "base_uri": "https://localhost:8080/"
    },
    "executionInfo": {
     "elapsed": 13435,
     "status": "ok",
     "timestamp": 1656701435907,
     "user": {
      "displayName": "Tra Nguyen",
      "userId": "16128892209222776608"
     },
     "user_tz": -420
    },
    "id": "-0zbGrRls2tZ",
    "outputId": "381865f4-4524-4841-eebc-b0def4623dbd"
   },
   "outputs": [
    {
     "name": "stdout",
     "output_type": "stream",
     "text": [
      "Row(product_id_idx=3028, rating=7.4081244468688965)\n",
      "Row(product_id_idx=2490, rating=7.383239269256592)\n",
      "Row(product_id_idx=2471, rating=7.121313571929932)\n",
      "Row(product_id_idx=3069, rating=7.097879409790039)\n",
      "Row(product_id_idx=2927, rating=7.04839563369751)\n"
     ]
    }
   ],
   "source": [
    "result = ''\n",
    "for user in find_user_rec.collect():\n",
    "    lst=[]\n",
    "    for row in user['recommendations']:\n",
    "        print(row)\n",
    "        row_f = df_asin_asin_id.filter(df_asin_asin_id.product_id_idx == row['product_id_idx'])\n",
    "        row_f_first = row_f.first()\n",
    "        lst.append((row['product_id_idx'], row_f_first['product_id'], row['rating']))\n",
    "    dic_user_rec = {'customer_id' : user.customer_id, 'recommendations':lst}\n",
    "    result = dic_user_rec"
   ]
  },
  {
   "cell_type": "code",
   "execution_count": null,
   "metadata": {
    "id": "kjarWLt6s5PL"
   },
   "outputs": [],
   "source": [
    ""
   ]
  }
 ],
 "metadata": {
  "colab": {
   "collapsed_sections": [
    "jcfyDOthroTh"
   ],
   "name": "5.Collaborative_Filtering_ALS_01.07.ipynb",
   "version": ""
  },
  "kernelspec": {
   "display_name": "Python 3",
   "language": "python",
   "name": "python3"
  },
  "language_info": {
   "codemirror_mode": {
    "name": "ipython",
    "version": 3
   },
   "file_extension": ".py",
   "mimetype": "text/x-python",
   "name": "python",
   "nbconvert_exporter": "python",
   "pygments_lexer": "ipython3",
   "version": "3.8.8"
  }
 },
 "nbformat": 4,
 "nbformat_minor": 0
}